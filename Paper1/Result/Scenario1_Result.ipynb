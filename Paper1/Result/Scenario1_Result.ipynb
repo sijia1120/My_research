{
 "cells": [
  {
   "cell_type": "code",
   "execution_count": 1,
   "metadata": {
    "colab": {
     "base_uri": "https://localhost:8080/"
    },
    "id": "E26d6QxSb0Ut",
    "outputId": "3f2e49c4-5c6c-4a3e-ec31-03c8605d8301"
   },
   "outputs": [
    {
     "name": "stdout",
     "output_type": "stream",
     "text": [
      "Mounted at /content/drive\n"
     ]
    }
   ],
   "source": [
    "from google.colab import drive\n",
    "drive.mount('/content/drive')"
   ]
  },
  {
   "cell_type": "code",
   "execution_count": 8,
   "metadata": {
    "id": "9WKt4sAec7Tr"
   },
   "outputs": [],
   "source": [
    "import pandas as pd"
   ]
  },
  {
   "cell_type": "code",
   "execution_count": 70,
   "metadata": {
    "colab": {
     "base_uri": "https://localhost:8080/"
    },
    "id": "x0id6UiBc3RF",
    "outputId": "e204ffa5-d9b3-47f4-c225-f95eeda989a1"
   },
   "outputs": [
    {
     "name": "stdout",
     "output_type": "stream",
     "text": [
      "49 11\n"
     ]
    }
   ],
   "source": [
    "char_core = ['acc','agr','beta','bm','cash','cashpr','cfp','chatoia','chcsho','chfeps','chinv','chmom',\n",
    "             'chpmia','chtx','currat','depr','dy','ear','ep','gma','grcapx','grltnoa','ill','indmom','invest',\n",
    "             'lev','lgr','maxret','mom12m','mom1m','mom36m','mve','nincr','orgcap','pchgm_pchsale','pchsale_pchinvt',\n",
    "             'pchsale_pchrect','pchsale_pchxsga','retvol','roaq','roavol','roeq','salecash','saleinv','sgr','sp',\n",
    "             'std_dolvol','std_turn','turn']\n",
    "\n",
    "core = ['date','permno','ticker','comnam','exchcd','exchname','siccd',\n",
    "        'indname','size_class','mve_m','ret_adj_ex',]\n",
    "\n",
    "#core = ['fyear','year','jyear','permno','ticker','comnam','exchcd','exchname','siccd',\n",
    "#        'indname','size_class','mve_m','rf','ret','ret_adj','ret_ex','ret_adj_ex',]\n",
    "\n",
    "print(len(char_core), len(core))\n",
    "\n",
    "data = pd.read_pickle('/content/drive/MyDrive/Colab Notebooks/Dataset/research_result/norm_df49.pkl')\n",
    "data['date'] = pd.to_datetime(data.index).to_period('M')\n",
    "data.sort_values(by='date', ascending=True, inplace=True)"
   ]
  },
  {
   "cell_type": "code",
   "execution_count": 79,
   "metadata": {
    "colab": {
     "base_uri": "https://localhost:8080/"
    },
    "id": "CJ2y0x9Jj14v",
    "outputId": "0a7b801b-f35a-4435-d3af-224ae5a43462"
   },
   "outputs": [
    {
     "name": "stdout",
     "output_type": "stream",
     "text": [
      "(210205, 50) (210205, 2)\n"
     ]
    }
   ],
   "source": [
    "X = data[char_core+['date']]\n",
    "X_info = data[core]\n",
    "Y = data[['predicted_return','date']]\n",
    "print(X.shape, Y.shape)"
   ]
  },
  {
   "cell_type": "code",
   "execution_count": 98,
   "metadata": {
    "id": "AQMjyEC7b1Sx"
   },
   "outputs": [],
   "source": [
    "from keras.models import load_model\n",
    "import tensorflow as tf\n",
    "\n",
    "def my_metric_fn(y_true, y_pred):\n",
    "    num = tf.reduce_mean(tf.square(y_true - y_pred))\n",
    "    den = tf.reduce_mean(tf.square(y_true))\n",
    "    return 1 - num / den\n",
    "\n",
    "model = load_model('/content/drive/MyDrive/Colab Notebooks/Dataset/research_result/model2.h5',\n",
    "                   custom_objects = {\"my_metric_fn\": my_metric_fn})"
   ]
  },
  {
   "cell_type": "markdown",
   "metadata": {
    "id": "LPmAypb-dWys"
   },
   "source": [
    "## Neural Network Model (Pretrain before year 2000)"
   ]
  },
  {
   "cell_type": "code",
   "execution_count": 88,
   "metadata": {
    "id": "b0e7PLLnlQlB"
   },
   "outputs": [],
   "source": [
    "x_train = X[(X['date'] < pd.Period((str(1995)+\"-1\"),freq='M'))]\n",
    "y_train = Y[(Y['date'] < pd.Period((str(1995)+\"-1\"),freq='M'))]\n",
    "\n",
    "x_val = X[(X['date'] >= pd.Period((str(1995)+\"-1\"),freq='M')) & (X['date'] <= pd.Period((str(1999)+\"-12\"),freq='M'))]\n",
    "y_val = Y[(Y['date'] >= pd.Period((str(1995)+\"-1\"),freq='M')) & (Y['date'] <= pd.Period((str(1999)+\"-12\"),freq='M'))]"
   ]
  },
  {
   "cell_type": "code",
   "execution_count": 90,
   "metadata": {
    "id": "L9sc7K6jlLfg"
   },
   "outputs": [],
   "source": [
    "x_train=x_train.drop(\"date\", axis=1)\n",
    "y_train= y_train.drop(\"date\", axis=1)\n",
    "x_val=x_val.drop(\"date\", axis=1)\n",
    "y_val=y_val.drop(\"date\", axis=1)"
   ]
  },
  {
   "cell_type": "code",
   "execution_count": 99,
   "metadata": {
    "colab": {
     "base_uri": "https://localhost:8080/"
    },
    "id": "x67AYVOacUbP",
    "outputId": "b42da48d-468c-499f-97f2-df1a71c76a67"
   },
   "outputs": [
    {
     "name": "stdout",
     "output_type": "stream",
     "text": [
      "2813/2813 [==============================] - 3s 1ms/step - loss: 0.0156 - my_metric_fn: 0.0031 - mae: 0.0814\n",
      "2813/2813 [==============================] - 3s 1ms/step\n",
      "0.0078965025 0.0049119988\n"
     ]
    }
   ],
   "source": [
    "x_test_info = X_info[(X_info['date'] >= pd.Period((str(2000)+\"-1\"),freq='M'))]\n",
    "x_test = X[(X['date'] >= pd.Period((str(2000)+\"-1\"),freq='M'))]\n",
    "y_test = Y[(Y['date'] >= pd.Period((str(2000)+\"-1\"),freq='M'))]\n",
    "\n",
    "x_test = x_test.drop(\"date\", axis=1)\n",
    "y_test = y_test.drop(\"date\", axis=1)\n",
    "model.evaluate(x_test, y_test)\n",
    "y_NN2 = model.predict(x_test)\n",
    "print(y_NN2.reshape(-1).mean(), y_NN2.reshape(-1).std())"
   ]
  },
  {
   "cell_type": "code",
   "execution_count": 100,
   "metadata": {
    "colab": {
     "base_uri": "https://localhost:8080/"
    },
    "id": "9CSJDsWRf_vH",
    "outputId": "8c72bffb-3c45-4bfd-8c0b-831cc7aadd33"
   },
   "outputs": [
    {
     "data": {
      "text/plain": [
       "90007"
      ]
     },
     "execution_count": 100,
     "metadata": {},
     "output_type": "execute_result"
    }
   ],
   "source": [
    "(x_test_info.index == y_test.index).sum()"
   ]
  },
  {
   "cell_type": "markdown",
   "metadata": {
    "id": "pQWaEag9dZrU"
   },
   "source": [
    "## Linear Regression Model (Pretrain before year 2000)"
   ]
  },
  {
   "cell_type": "code",
   "execution_count": 102,
   "metadata": {
    "colab": {
     "base_uri": "https://localhost:8080/"
    },
    "id": "cqMCwjHUcwle",
    "outputId": "93a82484-2040-4ba1-f458-8503963eb756"
   },
   "outputs": [
    {
     "name": "stdout",
     "output_type": "stream",
     "text": [
      "0.01566968182931832 predicted_return    0.005432\n",
      "dtype: float64\n"
     ]
    },
    {
     "name": "stderr",
     "output_type": "stream",
     "text": [
      "/usr/local/lib/python3.10/dist-packages/sklearn/base.py:432: UserWarning: X has feature names, but LinearRegression was fitted without feature names\n",
      "  warnings.warn(\n",
      "/usr/local/lib/python3.10/dist-packages/numpy/core/fromnumeric.py:3472: FutureWarning: In a future version, DataFrame.mean(axis=None) will return a scalar mean over the entire DataFrame. To retain the old behavior, use 'frame.mean(axis=0)' or just 'frame.mean()'\n",
      "  return mean(axis=axis, dtype=dtype, out=out, **kwargs)\n",
      "/usr/local/lib/python3.10/dist-packages/numpy/core/fromnumeric.py:3472: FutureWarning: In a future version, DataFrame.mean(axis=None) will return a scalar mean over the entire DataFrame. To retain the old behavior, use 'frame.mean(axis=0)' or just 'frame.mean()'\n",
      "  return mean(axis=axis, dtype=dtype, out=out, **kwargs)\n"
     ]
    }
   ],
   "source": [
    "import numpy as np\n",
    "from sklearn import datasets, linear_model\n",
    "from sklearn.metrics import mean_squared_error\n",
    "\n",
    "def np_metric_fn(y_true, y_pred):\n",
    "    num = np.mean(np.square(y_true - y_pred))\n",
    "    den = np.mean(np.square(y_true - np.zeros_like(y_true)))\n",
    "    return 1 - num / den\n",
    "\n",
    "x_all = np.concatenate((x_train, x_val))\n",
    "y_all = np.concatenate((y_train, y_val))\n",
    "\n",
    "regr = linear_model.LinearRegression()\n",
    "regr.fit(x_all, y_all)\n",
    "y_pred_linear = regr.predict(x_test)\n",
    "mse = mean_squared_error(y_test, y_pred_linear)\n",
    "r2 = np_metric_fn(y_test, y_pred_linear)\n",
    "print(mse, r2)"
   ]
  },
  {
   "cell_type": "markdown",
   "metadata": {
    "id": "tw2TMJ6A8dYj"
   },
   "source": [
    "# Peformance Metrics"
   ]
  },
  {
   "cell_type": "code",
   "execution_count": 103,
   "metadata": {
    "id": "bCcMnnbFemmK"
   },
   "outputs": [],
   "source": [
    "pred_result = x_test_info.copy()\n",
    "pred_result.index = x_test.index\n",
    "\n",
    "pred_result['y_real'] = y_test.values\n",
    "pred_result['NN_pred_pretrain'] = y_NN2.reshape(-1)\n",
    "pred_result['lin_pred_pretrain'] = y_pred_linear"
   ]
  },
  {
   "cell_type": "code",
   "execution_count": 144,
   "metadata": {
    "colab": {
     "base_uri": "https://localhost:8080/"
    },
    "id": "dBeVsoADifO0",
    "outputId": "64bfc55e-914c-490b-9aec-0deebf894869"
   },
   "outputs": [
    {
     "name": "stdout",
     "output_type": "stream",
     "text": [
      "607 269\n"
     ]
    }
   ],
   "source": [
    "stock_list = pred_result['permno'].unique()\n",
    "month_list = pred_result.index.unique()\n",
    "print(len(stock_list), len(month_list))"
   ]
  },
  {
   "cell_type": "code",
   "execution_count": 173,
   "metadata": {
    "id": "Dsk-XUqqE9JK"
   },
   "outputs": [],
   "source": [
    "pred_result.to_pickle(\"senario_1_result.pkl\")"
   ]
  },
  {
   "cell_type": "markdown",
   "metadata": {
    "id": "FYtKdZmQ8ho7"
   },
   "source": [
    "## XS - R2"
   ]
  },
  {
   "cell_type": "code",
   "execution_count": 164,
   "metadata": {
    "colab": {
     "base_uri": "https://localhost:8080/"
    },
    "id": "d0s0RLIXi1pO",
    "outputId": "9f99c02b-7522-4c99-8be0-77d4e27193de"
   },
   "outputs": [
    {
     "name": "stdout",
     "output_type": "stream",
     "text": [
      "-0.8150487244022571\n"
     ]
    }
   ],
   "source": [
    "# Metrics: XS-R^2 of Neural Network Model  (weighted)\n",
    "r2_stock = {}\n",
    "num_ = []\n",
    "deno_ = []\n",
    "for i in stock_list:\n",
    "  df = pred_result[pred_result['permno'] == i]\n",
    "  num_month = df.shape[0]\n",
    "  num = np.square((df['y_real'] -  df['NN_pred_pretrain']).sum() / num_month) * num_month\n",
    "  deno = np.square((df['NN_pred_pretrain']).sum() / num_month)  * num_month\n",
    "  num_.append(num)\n",
    "  deno_.append(deno)\n",
    "print(1 - np.mean(num_) / np.mean(deno_))"
   ]
  },
  {
   "cell_type": "code",
   "execution_count": 165,
   "metadata": {
    "colab": {
     "base_uri": "https://localhost:8080/"
    },
    "id": "2eQORIJF77le",
    "outputId": "042eb4a8-459f-44eb-d001-e9e7706f2d48"
   },
   "outputs": [
    {
     "name": "stdout",
     "output_type": "stream",
     "text": [
      "-1.6860012050668507\n"
     ]
    }
   ],
   "source": [
    "# Metrics: XS-R^2 of Linear Regresion (weighted)\n",
    "r2_stock = {}\n",
    "num_ = []\n",
    "deno_ = []\n",
    "for i in stock_list:\n",
    "  df = pred_result[pred_result['permno'] == i]\n",
    "  num_month = df.shape[0]\n",
    "  num = np.square((df['y_real'] -  df['lin_pred_pretrain']).sum() / num_month) * num_month\n",
    "  deno = np.square((df['lin_pred_pretrain']).sum() / num_month)  * num_month\n",
    "  num_.append(num)\n",
    "  deno_.append(deno)\n",
    "print(1 - np.mean(num_) / np.mean(deno_))"
   ]
  },
  {
   "cell_type": "code",
   "execution_count": 166,
   "metadata": {
    "colab": {
     "base_uri": "https://localhost:8080/"
    },
    "id": "jZ1_Jx8H8Of9",
    "outputId": "dec5aa70-bf3a-4f7e-f0dc-2f75c75c0c14"
   },
   "outputs": [
    {
     "name": "stdout",
     "output_type": "stream",
     "text": [
      "-16.658326364290787\n"
     ]
    }
   ],
   "source": [
    "# Metrics: XS-R^2 of Neural Network Model  (NO weighted)\n",
    "r2_stock = {}\n",
    "num_ = []\n",
    "deno_ = []\n",
    "for i in stock_list:\n",
    "  df = pred_result[pred_result['permno'] == i]\n",
    "  num_month = df.shape[0]\n",
    "  num = np.square((df['y_real'] -  df['NN_pred_pretrain']).sum() / num_month)\n",
    "  deno = np.square((df['NN_pred_pretrain']).sum() / num_month)\n",
    "  num_.append(num)\n",
    "  deno_.append(deno)\n",
    "print(1 - np.mean(num_) / np.mean(deno_))"
   ]
  },
  {
   "cell_type": "code",
   "execution_count": 167,
   "metadata": {
    "colab": {
     "base_uri": "https://localhost:8080/"
    },
    "id": "lf076Z908Rzq",
    "outputId": "59529c6e-27f9-4e97-c231-1cbb690b469a"
   },
   "outputs": [
    {
     "name": "stdout",
     "output_type": "stream",
     "text": [
      "-30.426142440845414\n"
     ]
    }
   ],
   "source": [
    "# Metrics: XS-R^2 of Linear Regresion (NO weighted)\n",
    "r2_stock = {}\n",
    "num_ = []\n",
    "deno_ = []\n",
    "for i in stock_list:\n",
    "  df = pred_result[pred_result['permno'] == i]\n",
    "  num_month = df.shape[0]\n",
    "  num = np.square((df['y_real'] -  df['lin_pred_pretrain']).sum() / num_month)\n",
    "  deno = np.square((df['lin_pred_pretrain']).sum() / num_month)\n",
    "  num_.append(num)\n",
    "  deno_.append(deno)\n",
    "print(1 - np.mean(num_) / np.mean(deno_))"
   ]
  },
  {
   "cell_type": "markdown",
   "metadata": {
    "id": "BNe1dO268lt2"
   },
   "source": [
    "## EV"
   ]
  },
  {
   "cell_type": "code",
   "execution_count": 163,
   "metadata": {
    "colab": {
     "base_uri": "https://localhost:8080/"
    },
    "id": "jtCVITqh6Y6B",
    "outputId": "bde5e4e9-a4f0-4b37-a2d2-2557d964b500"
   },
   "outputs": [
    {
     "name": "stdout",
     "output_type": "stream",
     "text": [
      "0.007265052040344333\n"
     ]
    }
   ],
   "source": [
    "# Metrics: EV of Neural Network\n",
    "r2_stock = {}\n",
    "num_ = []\n",
    "deno_ = []\n",
    "for i in month_list:\n",
    "  df = pred_result[pred_result.index == i]\n",
    "  num_stock = df.shape[0]\n",
    "  num = (np.square(df['y_real'] -  df['NN_pred_pretrain'])).sum() / num_stock\n",
    "  deno = (np.square(df['y_real'])).sum() /num_stock\n",
    "  num_.append(num)\n",
    "  deno_.append(deno)\n",
    "  break\n",
    "print(1 - np.mean(num_) / np.mean(deno_))"
   ]
  },
  {
   "cell_type": "code",
   "execution_count": 162,
   "metadata": {
    "colab": {
     "base_uri": "https://localhost:8080/"
    },
    "id": "PU4QeIp8eynp",
    "outputId": "1bda9aec-c8f7-4a31-86eb-32433239b1e1"
   },
   "outputs": [
    {
     "name": "stdout",
     "output_type": "stream",
     "text": [
      "0.004059510189341364\n"
     ]
    }
   ],
   "source": [
    "# Metrics: EV of Linear Model\n",
    "r2_stock = {}\n",
    "num_ = []\n",
    "deno_ = []\n",
    "for i in month_list:\n",
    "  df = pred_result[pred_result.index == i]\n",
    "  num_stock = df.shape[0]\n",
    "  num = (np.square(df['y_real'] -  df['lin_pred_pretrain'])).sum() / num_stock\n",
    "  deno = (np.square(df['y_real'])).sum() /num_stock\n",
    "  num_.append(num)\n",
    "  deno_.append(deno)\n",
    "  break\n",
    "print(1 - np.mean(num_) / np.mean(deno_))"
   ]
  },
  {
   "cell_type": "markdown",
   "metadata": {
    "id": "-vwdyYjD8vYm"
   },
   "source": [
    "## Total R2"
   ]
  },
  {
   "cell_type": "code",
   "execution_count": 168,
   "metadata": {
    "colab": {
     "base_uri": "https://localhost:8080/"
    },
    "id": "EHcvqtd_8vBG",
    "outputId": "6a6e8f3e-f8cc-4273-fc4e-715cc0afb480"
   },
   "outputs": [
    {
     "data": {
      "text/plain": [
       "0.005432492063096261"
      ]
     },
     "execution_count": 168,
     "metadata": {},
     "output_type": "execute_result"
    }
   ],
   "source": [
    "# R^2 of Linear Regresion\n",
    "a = np.sum(np.square(pred_result['y_real'] -  pred_result['lin_pred_pretrain']))\n",
    "b = np.sum(np.square(pred_result['y_real']))\n",
    "1-a/b"
   ]
  },
  {
   "cell_type": "code",
   "execution_count": 169,
   "metadata": {
    "colab": {
     "base_uri": "https://localhost:8080/"
    },
    "id": "-arDJreq83Np",
    "outputId": "8d6e5c33-8ffe-4edc-c605-8924bbe8d3ff"
   },
   "outputs": [
    {
     "data": {
      "text/plain": [
       "0.007359925494608732"
      ]
     },
     "execution_count": 169,
     "metadata": {},
     "output_type": "execute_result"
    }
   ],
   "source": [
    "# R^2 of Neural Network\n",
    "a = np.sum(np.square(pred_result['y_real'] -  pred_result['NN_pred_pretrain']))\n",
    "b = np.sum(np.square(pred_result['y_real']))\n",
    "1-a/b"
   ]
  },
  {
   "cell_type": "markdown",
   "metadata": {
    "id": "HGmDU5UO9StT"
   },
   "source": [
    "## MSE"
   ]
  },
  {
   "cell_type": "code",
   "execution_count": 171,
   "metadata": {
    "colab": {
     "base_uri": "https://localhost:8080/"
    },
    "id": "k3bKseDx85gA",
    "outputId": "47d1d38c-4a30-4654-d730-1be6a63c4c94"
   },
   "outputs": [
    {
     "name": "stdout",
     "output_type": "stream",
     "text": [
      "MSE of Linear model: 0.01566968182931832\n",
      "MSE of Neural model: 0.01563931459091774\n"
     ]
    }
   ],
   "source": [
    "## MSE\n",
    "\n",
    "mse_Linear = mean_squared_error(pred_result['y_real'], pred_result['lin_pred_pretrain'])\n",
    "mse_NN = mean_squared_error(pred_result['y_real'], pred_result['NN_pred_pretrain'])\n",
    "print(f\"MSE of Linear model: {mse_Linear}\")\n",
    "print(f\"MSE of Neural model: {mse_NN}\")"
   ]
  }
 ],
 "metadata": {
  "colab": {
   "collapsed_sections": [
    "FYtKdZmQ8ho7",
    "BNe1dO268lt2",
    "-vwdyYjD8vYm",
    "HGmDU5UO9StT"
   ],
   "provenance": [],
   "toc_visible": true
  },
  "kernelspec": {
   "display_name": "Python 3 (ipykernel)",
   "language": "python",
   "name": "python3"
  },
  "language_info": {
   "codemirror_mode": {
    "name": "ipython",
    "version": 3
   },
   "file_extension": ".py",
   "mimetype": "text/x-python",
   "name": "python",
   "nbconvert_exporter": "python",
   "pygments_lexer": "ipython3",
   "version": "3.9.16"
  }
 },
 "nbformat": 4,
 "nbformat_minor": 1
}
