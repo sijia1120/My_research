{
  "nbformat": 4,
  "nbformat_minor": 0,
  "metadata": {
    "colab": {
      "provenance": []
    },
    "kernelspec": {
      "name": "python3",
      "display_name": "Python 3"
    },
    "language_info": {
      "name": "python"
    }
  },
  "cells": [
    {
      "cell_type": "code",
      "execution_count": 6,
      "metadata": {
        "colab": {
          "base_uri": "https://localhost:8080/"
        },
        "id": "2VqnUptSN8vQ",
        "outputId": "b74ee0bb-ce6c-4b0b-c911-585be113b586"
      },
      "outputs": [
        {
          "output_type": "stream",
          "name": "stdout",
          "text": [
            "Drive already mounted at /content/drive; to attempt to forcibly remount, call drive.mount(\"/content/drive\", force_remount=True).\n"
          ]
        }
      ],
      "source": [
        "from google.colab import drive\n",
        "drive.mount('/content/drive')\n",
        "\n",
        "import pandas as pd\n",
        "from keras.models import load_model\n",
        "import tensorflow as tf\n",
        "import numpy as np\n",
        "\n",
        "from sklearn import datasets, linear_model\n",
        "from sklearn.metrics import mean_squared_error"
      ]
    },
    {
      "cell_type": "code",
      "source": [
        "char_core = ['acc','agr','beta','bm','cash','cashpr','cfp','chatoia','chcsho','chfeps','chinv','chmom',\n",
        "             'chpmia','chtx','currat','depr','dy','ear','ep','gma','grcapx','grltnoa','ill','indmom','invest',\n",
        "             'lev','lgr','maxret','mom12m','mom1m','mom36m','mve','nincr','orgcap','pchgm_pchsale','pchsale_pchinvt',\n",
        "             'pchsale_pchrect','pchsale_pchxsga','retvol','roaq','roavol','roeq','salecash','saleinv','sgr','sp',\n",
        "             'std_dolvol','std_turn','turn']\n",
        "\n",
        "core = ['date','permno','ticker','comnam','exchcd','exchname','siccd',\n",
        "        'indname','size_class','mve_m','ret_adj_ex',]\n",
        "\n",
        "#core = ['fyear','year','jyear','permno','ticker','comnam','exchcd','exchname','siccd',\n",
        "#        'indname','size_class','mve_m','rf','ret','ret_adj','ret_ex','ret_adj_ex',]\n",
        "\n",
        "print(len(char_core), len(core))\n",
        "\n",
        "data = pd.read_pickle('/content/drive/MyDrive/Colab Notebooks/Dataset/research_result/norm_df49.pkl')\n",
        "data['date'] = pd.to_datetime(data.index).to_period('M')\n",
        "data.sort_values(by='date', ascending=True, inplace=True)\n",
        "\n",
        "X = data[char_core+['date']]\n",
        "X_info = data[core]\n",
        "Y = data[['predicted_return','date']]\n",
        "print(X.shape, Y.shape)"
      ],
      "metadata": {
        "colab": {
          "base_uri": "https://localhost:8080/"
        },
        "id": "9inFo_bbOFJL",
        "outputId": "b4918b9b-fd40-45ff-942a-4971d1e7a05d"
      },
      "execution_count": 14,
      "outputs": [
        {
          "output_type": "stream",
          "name": "stdout",
          "text": [
            "49 11\n",
            "(210205, 50) (210205, 2)\n"
          ]
        }
      ]
    },
    {
      "cell_type": "code",
      "source": [
        "def my_metric_fn(y_true, y_pred):\n",
        "    num = tf.reduce_mean(tf.square(y_true - y_pred))\n",
        "    den = tf.reduce_mean(tf.square(y_true))\n",
        "    return 1 - num / den\n",
        "\n",
        "model_file = '/content/drive/MyDrive/Colab Notebooks/Dataset/research_result/model2.h5'\n",
        "\n",
        "model = load_model(model_file, custom_objects = {\"my_metric_fn\": my_metric_fn})"
      ],
      "metadata": {
        "id": "H18wYfV6OO9_"
      },
      "execution_count": 15,
      "outputs": []
    },
    {
      "cell_type": "code",
      "source": [
        "import keras\n",
        "y_hat_all = []\n",
        "mse_ = {}\n",
        "r2_ = {}\n",
        "\n",
        "for i in range(2000, 2023):\n",
        "    print(f\"Year {i}\")\n",
        "    x_train = X[ (X['date'] < pd.Period((str(i)+\"-1\"),freq='M')) ]\n",
        "    y_train = Y[ (Y['date'] < pd.Period((str(i)+\"-1\"),freq='M')) ]\n",
        "\n",
        "    x_test = X[(X['date'] >= pd.Period((str(i)+\"-1\"),freq='M')) & (X['date'] <= pd.Period((str(i)+\"-12\"),freq='M'))]\n",
        "    y_test = Y[(X['date'] >= pd.Period((str(i)+\"-1\"),freq='M')) & (X['date'] <= pd.Period((str(i)+\"-12\"),freq='M'))]\n",
        "\n",
        "    x_train = x_train.drop(\"date\", axis=1)\n",
        "    y_train = y_train.drop(\"date\", axis=1)\n",
        "    x_test = x_test.drop(\"date\", axis=1)\n",
        "    y_test = y_test.drop(\"date\", axis=1)\n",
        "\n",
        "    model_1yr = load_model(model_file, custom_objects = {\"my_metric_fn\": my_metric_fn})\n",
        "    model_1yr.fit(x_train, y_train, epochs=30,\n",
        "                  callbacks=[keras.callbacks.EarlyStopping(monitor='loss', patience=2)],  batch_size = 256,)\n",
        "    mse, r2, mae = model_1yr.evaluate(x_test, y_test)\n",
        "    print(mse, r2, mae)\n",
        "    mse_[i] =mse\n",
        "    r2_[i] = r2\n",
        "    y_NN2 = model_1yr.predict(x_test)\n",
        "    for a in y_NN2.reshape(-1):\n",
        "        y_hat_all.append(a)\n",
        "    print(y_NN2.reshape(-1).mean(), y_NN2.reshape(-1).std())"
      ],
      "metadata": {
        "id": "OzEevbPQWj7U"
      },
      "execution_count": null,
      "outputs": []
    },
    {
      "cell_type": "code",
      "source": [
        "# Linear Model of Senario 2\n",
        "y_hat_linear = []\n",
        "mse_linear = []\n",
        "r2_linear = []\n",
        "\n",
        "for i in range(2000, 2023):\n",
        "    print(f\"Year {i}\")\n",
        "    x_train = X[ (X['date'] < pd.Period((str(i)+\"-1\"),freq='M')) ]\n",
        "    y_train = Y[ (Y['date'] < pd.Period((str(i)+\"-1\"),freq='M')) ]\n",
        "\n",
        "    x_test = X[(X['date'] >= pd.Period((str(i)+\"-1\"),freq='M')) & (X['date'] <= pd.Period((str(i)+\"-12\"),freq='M'))]\n",
        "    y_test = Y[(X['date'] >= pd.Period((str(i)+\"-1\"),freq='M')) & (X['date'] <= pd.Period((str(i)+\"-12\"),freq='M'))]\n",
        "\n",
        "    x_train = x_train.drop(\"date\", axis=1)\n",
        "    y_train = y_train.drop(\"date\", axis=1)\n",
        "    x_test = x_test.drop(\"date\", axis=1)\n",
        "    y_test = y_test.drop(\"date\", axis=1)\n",
        "\n",
        "    regr = linear_model.LinearRegression()\n",
        "    regr.fit(x_train, y_train)\n",
        "    y_pred_linear = regr.predict(x_test)\n",
        "    mse = mean_squared_error(y_test, y_pred_linear)\n",
        "    for a in y_pred_linear.reshape(-1):\n",
        "        y_hat_linear.append(a)"
      ],
      "metadata": {
        "id": "ZNewD6HDbQ7f"
      },
      "execution_count": null,
      "outputs": []
    },
    {
      "cell_type": "code",
      "source": [
        "X_info = data[core]\n",
        "x_test_info = X_info[(X_info['date'] >= pd.Period((str(2000)+\"-1\"),freq='M'))]\n",
        "\n",
        "x_test = X[(X['date'] >= pd.Period((str(2000)+\"-1\"),freq='M'))]\n",
        "y_test = Y[(Y['date'] >= pd.Period((str(2000)+\"-1\"),freq='M'))]\n",
        "\n",
        "senario_2_result = x_test_info.copy()\n",
        "senario_2_result.index = x_test.index\n",
        "\n",
        "senario_2_result['y_real'] = y_test['predicted_return']\n",
        "senario_2_result['NN_pred_pretrain'] = y_hat_all\n",
        "senario_2_result['lin_pred_pretrain'] = y_hat_linear\n",
        "\n",
        "senario_2_result.to_pickle(\"senario_2_result1.pkl\")"
      ],
      "metadata": {
        "id": "jM9EPlqsbQ5I"
      },
      "execution_count": 18,
      "outputs": []
    },
    {
      "cell_type": "code",
      "source": [
        "## MSE\n",
        "mse_Linear = mean_squared_error(senario_2_result['y_real'], senario_2_result['lin_pred_pretrain'])\n",
        "mse_NN = mean_squared_error(senario_2_result['y_real'], senario_2_result['NN_pred_pretrain'])\n",
        "print(f\"【Senario 2】MSE of Linear model: {mse_Linear}\")\n",
        "print(f\"【Senario 2】MSE of Neural model: {mse_NN}\")"
      ],
      "metadata": {
        "colab": {
          "base_uri": "https://localhost:8080/"
        },
        "id": "tyvQMKqqbtT8",
        "outputId": "ece46561-7758-422e-9aa6-23107dd4811f"
      },
      "execution_count": 19,
      "outputs": [
        {
          "output_type": "stream",
          "name": "stdout",
          "text": [
            "【Senario 2】MSE of Linear model: 0.01566540810352375\n",
            "【Senario 2】MSE of Neural model: 0.015703034167274834\n"
          ]
        }
      ]
    },
    {
      "cell_type": "code",
      "source": [
        "# R^2 of Linear Regresion\n",
        "a = np.sum(np.square(senario_2_result['y_real'] -  senario_2_result['lin_pred_pretrain']))\n",
        "b = np.sum(np.square(senario_2_result['y_real']))\n",
        "print(f\"【Senario 2】 R^2 of Linear Regresion :\",1-a/b)\n",
        "\n",
        "# R^2 of Neural Network\n",
        "a = np.sum(np.square(senario_2_result['y_real'] -  senario_2_result['NN_pred_pretrain']))\n",
        "b = np.sum(np.square(senario_2_result['y_real']))\n",
        "print(f\"【Senario 2】 R^2 of Neural Network :\",1-a/b)"
      ],
      "metadata": {
        "colab": {
          "base_uri": "https://localhost:8080/"
        },
        "id": "BrlxrB4JbtR0",
        "outputId": "aa13b807-d52c-4d88-9063-cd61d1bc0f19"
      },
      "execution_count": 20,
      "outputs": [
        {
          "output_type": "stream",
          "name": "stdout",
          "text": [
            "【Senario 2】 R^2 of Linear Regresion : 0.0057037489309388345\n",
            "【Senario 2】 R^2 of Neural Network : 0.003315591923923278\n"
          ]
        }
      ]
    },
    {
      "cell_type": "code",
      "source": [
        "# Metrics: XS-R^2 of Neural Network Model  (weighted)\n",
        "stock_list = senario_2_result['permno'].unique()\n",
        "month_list = senario_2_result.index.unique()\n",
        "print(len(stock_list), len(month_list))\n",
        "\n",
        "r2_stock = {}\n",
        "num_ = []\n",
        "deno_ = []\n",
        "for i in stock_list:\n",
        "  df = senario_2_result[senario_2_result['permno'] == i]\n",
        "  num_month = df.shape[0]\n",
        "  num = np.square((df['y_real'] -  df['NN_pred_pretrain']).sum() / num_month) * num_month\n",
        "  deno = np.square((df['NN_pred_pretrain']).sum() / num_month)  * num_month\n",
        "  num_.append(num)\n",
        "  deno_.append(deno)\n",
        "print(f\"XS-R^2 of Neural Network Model  (weighted):\",1 - np.mean(num_) / np.mean(deno_))\n",
        "\n",
        "# Metrics: XS-R^2 of Linear Regresion (weighted)\n",
        "r2_stock = {}\n",
        "num_ = []\n",
        "deno_ = []\n",
        "for i in stock_list:\n",
        "  df = senario_2_result[senario_2_result['permno'] == i]\n",
        "  num_month = df.shape[0]\n",
        "  num = np.square((df['y_real'] -  df['lin_pred_pretrain']).sum() / num_month) * num_month\n",
        "  deno = np.square((df['lin_pred_pretrain']).sum() / num_month)  * num_month\n",
        "  num_.append(num)\n",
        "  deno_.append(deno)\n",
        "print(f\"XS-R^2 of Linear Regresion (weighted):\", 1 - np.mean(num_) / np.mean(deno_))"
      ],
      "metadata": {
        "colab": {
          "base_uri": "https://localhost:8080/"
        },
        "id": "7ulSbfbSb_L7",
        "outputId": "c5dd81dc-3289-4a81-f111-29cf562e628a"
      },
      "execution_count": 21,
      "outputs": [
        {
          "output_type": "stream",
          "name": "stdout",
          "text": [
            "607 269\n",
            "XS-R^2 of Neural Network Model  (weighted): -0.7404501948643314\n",
            "XS-R^2 of Linear Regresion (weighted): -0.9542138628254369\n"
          ]
        }
      ]
    },
    {
      "cell_type": "code",
      "source": [
        "# Metrics: XS-R^2 of Neural Network Model  (no weighted)\n",
        "stock_list = senario_2_result['permno'].unique()\n",
        "month_list = senario_2_result.index.unique()\n",
        "print(len(stock_list), len(month_list))\n",
        "\n",
        "r2_stock = {}\n",
        "num_ = []\n",
        "deno_ = []\n",
        "for i in stock_list:\n",
        "  df = senario_2_result[senario_2_result['permno'] == i]\n",
        "  num_month = df.shape[0]\n",
        "  num = np.square((df['y_real'] -  df['NN_pred_pretrain']).sum() / num_month)\n",
        "  deno = np.square((df['NN_pred_pretrain']).sum() / num_month)\n",
        "  num_.append(num)\n",
        "  deno_.append(deno)\n",
        "print(f\"【Senario 2】 XS-R^2 of Neural Network Model  (no weighted):\",1 - np.mean(num_) / np.mean(deno_))\n",
        "\n",
        "# Metrics: XS-R^2 of Linear Regresion (no weighted)\n",
        "r2_stock = {}\n",
        "num_ = []\n",
        "deno_ = []\n",
        "for i in stock_list:\n",
        "  df = senario_2_result[senario_2_result['permno'] == i]\n",
        "  num_month = df.shape[0]\n",
        "  num = np.square((df['y_real'] -  df['lin_pred_pretrain']).sum() / num_month)\n",
        "  deno = np.square((df['lin_pred_pretrain']).sum() / num_month)\n",
        "  num_.append(num)\n",
        "  deno_.append(deno)\n",
        "print(f\"【Senario 2】 XS-R^2 of Linear Regresion (no weighted):\", 1 - np.mean(num_) / np.mean(deno_))"
      ],
      "metadata": {
        "colab": {
          "base_uri": "https://localhost:8080/"
        },
        "id": "RvSc8gTieKdu",
        "outputId": "2f8176fc-b624-401d-9201-5c3cb6e928bf"
      },
      "execution_count": 24,
      "outputs": [
        {
          "output_type": "stream",
          "name": "stdout",
          "text": [
            "607 269\n",
            "【Senario 2】 XS-R^2 of Neural Network Model  (no weighted): -19.60326057898728\n",
            "【Senario 2】 XS-R^2 of Linear Regresion (no weighted): -23.84399135612912\n"
          ]
        }
      ]
    },
    {
      "cell_type": "code",
      "source": [
        "# Metrics: EV of Neural Network\n",
        "r2_stock = {}\n",
        "num_ = []\n",
        "deno_ = []\n",
        "for i in month_list:\n",
        "  df = senario_2_result[senario_2_result.index == i]\n",
        "  num_stock = df.shape[0]\n",
        "  num = (np.square(df['y_real'] -  df['NN_pred_pretrain'])).sum() / num_stock\n",
        "  deno = (np.square(df['y_real'])).sum() /num_stock\n",
        "  num_.append(num)\n",
        "  deno_.append(deno)\n",
        "  break\n",
        "print(f\"【Senario 2】 EV of Neural Network:\",1 - np.mean(num_) / np.mean(deno_))\n",
        "\n",
        "# Metrics: EV of Linear Model\n",
        "r2_stock = {}\n",
        "num_ = []\n",
        "deno_ = []\n",
        "for i in month_list:\n",
        "  df = senario_2_result[senario_2_result.index == i]\n",
        "  num_stock = df.shape[0]\n",
        "  num = (np.square(df['y_real'] -  df['lin_pred_pretrain'])).sum() / num_stock\n",
        "  deno = (np.square(df['y_real'])).sum() /num_stock\n",
        "  num_.append(num)\n",
        "  deno_.append(deno)\n",
        "  break\n",
        "print(f\"【Senario 2】 EV of Linear Model:\",1 - np.mean(num_) / np.mean(deno_))"
      ],
      "metadata": {
        "colab": {
          "base_uri": "https://localhost:8080/"
        },
        "id": "FayH22Lab_I0",
        "outputId": "d81fb547-e22f-4e04-c695-a592529ba6ca"
      },
      "execution_count": 22,
      "outputs": [
        {
          "output_type": "stream",
          "name": "stdout",
          "text": [
            "【Senario 2】 EV of Neural Network: -0.00010379938953031242\n",
            "【Senario 2】 EV of Linear Model: 0.004059510189341364\n"
          ]
        }
      ]
    },
    {
      "cell_type": "code",
      "source": [],
      "metadata": {
        "id": "-fq0cB-mb_F6"
      },
      "execution_count": null,
      "outputs": []
    },
    {
      "cell_type": "code",
      "source": [],
      "metadata": {
        "id": "5YRs-ZrGbtO7"
      },
      "execution_count": null,
      "outputs": []
    },
    {
      "cell_type": "code",
      "source": [],
      "metadata": {
        "id": "iSi1pF1CbQ2Q"
      },
      "execution_count": null,
      "outputs": []
    },
    {
      "cell_type": "code",
      "source": [],
      "metadata": {
        "id": "VoFN1_NGbQuc"
      },
      "execution_count": null,
      "outputs": []
    },
    {
      "cell_type": "code",
      "source": [],
      "metadata": {
        "id": "qNI2ACTIbNRW"
      },
      "execution_count": null,
      "outputs": []
    },
    {
      "cell_type": "code",
      "source": [
        "# Neural Network\n",
        "\n",
        "import keras\n",
        "y_hat_all = []\n",
        "mse_ = {}\n",
        "r2_ = {}\n",
        "\n",
        "for i in range(2000, 2023):\n",
        "    print(f\"Year {i}\")\n",
        "    x_train = X[ (X['date'] < pd.Period((str(i)+\"-1\"),freq='M')) ]\n",
        "    y_train = Y[ (Y['date'] < pd.Period((str(i)+\"-1\"),freq='M')) ]\n",
        "\n",
        "    x_test = X[(X['date'] >= pd.Period((str(i)+\"-1\"),freq='M')) & (X['date'] <= pd.Period((str(i)+\"-12\"),freq='M'))]\n",
        "    y_test = Y[(X['date'] >= pd.Period((str(i)+\"-1\"),freq='M')) & (X['date'] <= pd.Period((str(i)+\"-12\"),freq='M'))]\n",
        "\n",
        "    x_train = x_train.drop(\"date\", axis=1)\n",
        "    y_train = y_train.drop(\"date\", axis=1)\n",
        "    x_test = x_test.drop(\"date\", axis=1)\n",
        "    y_test = y_test.drop(\"date\", axis=1)\n",
        "\n",
        "    model_1yr = load_model(model_file, custom_objects = {\"my_metric_fn\": my_metric_fn})\n",
        "    model_1yr.fit(x_train, y_train, epochs=30,\n",
        "                  callbacks=[keras.callbacks.EarlyStopping(monitor='loss', patience=2)],  batch_size = 256,)\n",
        "    mse, r2, mae = model_1yr.evaluate(x_test, y_test)\n",
        "    print(mse, r2, mae)\n",
        "    mse_[i] =mse\n",
        "    r2_[i] = r2\n",
        "    y_NN2 = model_1yr.predict(x_test)\n",
        "    for a in y_NN2.reshape(-1):\n",
        "        y_hat_all.append(a)\n",
        "    print(y_NN2.reshape(-1).mean(), y_NN2.reshape(-1).std())"
      ],
      "metadata": {
        "id": "lTQc4HS-OO62"
      },
      "execution_count": null,
      "outputs": []
    },
    {
      "cell_type": "code",
      "source": [
        "# Linear Model of Senario 2\n",
        "y_hat_linear = []\n",
        "mse_linear = []\n",
        "r2_linear = []\n",
        "\n",
        "for i in range(2000, 2023):\n",
        "    print(f\"Year {i}\")\n",
        "    x_train = X[ (X['date'] < pd.Period((str(i)+\"-1\"),freq='M')) ]\n",
        "    y_train = Y[ (Y['date'] < pd.Period((str(i)+\"-1\"),freq='M')) ]\n",
        "\n",
        "    x_test = X[(X['date'] >= pd.Period((str(i)+\"-1\"),freq='M')) & (X['date'] <= pd.Period((str(i)+\"-12\"),freq='M'))]\n",
        "    y_test = Y[(X['date'] >= pd.Period((str(i)+\"-1\"),freq='M')) & (X['date'] <= pd.Period((str(i)+\"-12\"),freq='M'))]\n",
        "\n",
        "    x_train = x_train.drop(\"date\", axis=1)\n",
        "    y_train = y_train.drop(\"date\", axis=1)\n",
        "    x_test = x_test.drop(\"date\", axis=1)\n",
        "    y_test = y_test.drop(\"date\", axis=1)\n",
        "\n",
        "    regr = linear_model.LinearRegression()\n",
        "    regr.fit(x_train, y_train)\n",
        "    y_pred_linear = regr.predict(x_test)\n",
        "    mse = mean_squared_error(y_test, y_pred_linear)\n",
        "    for a in y_pred_linear.reshape(-1):\n",
        "        y_hat_linear.append(a)"
      ],
      "metadata": {
        "id": "_N0KC7B3OO3_"
      },
      "execution_count": null,
      "outputs": []
    },
    {
      "cell_type": "code",
      "source": [
        "X_info = data[core]\n",
        "x_test_info = X_info[(X_info['date'] >= pd.Period((str(2000)+\"-1\"),freq='M'))]\n",
        "\n",
        "x_test = X[(X['date'] >= pd.Period((str(2000)+\"-1\"),freq='M'))]\n",
        "y_test = Y[(Y['date'] >= pd.Period((str(2000)+\"-1\"),freq='M'))]\n",
        "\n",
        "senario_2_result = x_test_info.copy()\n",
        "senario_2_result.index = x_test.index\n",
        "\n",
        "senario_2_result['y_real'] = y_test['predicted_return']\n",
        "senario_2_result['NN_pred_pretrain'] = y_hat_all\n",
        "senario_2_result['lin_pred_pretrain'] = y_hat_linear\n",
        "\n",
        "senario_2_result.to_pickle(\"senario_2_result.pkl\")"
      ],
      "metadata": {
        "id": "Lc9kBGrcOcD9"
      },
      "execution_count": 8,
      "outputs": []
    },
    {
      "cell_type": "code",
      "source": [
        "## MSE\n",
        "mse_Linear = mean_squared_error(senario_2_result['y_real'], senario_2_result['lin_pred_pretrain'])\n",
        "mse_NN = mean_squared_error(senario_2_result['y_real'], senario_2_result['NN_pred_pretrain'])\n",
        "print(f\"【Senario 2】MSE of Linear model: {mse_Linear}\")\n",
        "print(f\"【Senario 2】MSE of Neural model: {mse_NN}\")\n",
        "print()\n",
        "\n",
        "# R^2 of Linear Regresion\n",
        "a = np.sum(np.square(senario_2_result['y_real'] -  senario_2_result['lin_pred_pretrain']))\n",
        "b = np.sum(np.square(senario_2_result['y_real']))\n",
        "print(f\"【Senario 2】 R^2 of Linear Regresion :\",1-a/b)\n",
        "\n",
        "# R^2 of Neural Network\n",
        "a = np.sum(np.square(senario_2_result['y_real'] -  senario_2_result['NN_pred_pretrain']))\n",
        "b = np.sum(np.square(senario_2_result['y_real']))\n",
        "print(f\"【Senario 2】 R^2 of Neural Network :\",1-a/b)"
      ],
      "metadata": {
        "colab": {
          "base_uri": "https://localhost:8080/"
        },
        "id": "Xo2Fh74TOeOw",
        "outputId": "bc8800af-baf2-40cb-9eb6-5c1cf83222a4"
      },
      "execution_count": 9,
      "outputs": [
        {
          "output_type": "stream",
          "name": "stdout",
          "text": [
            "【Senario 2】MSE of Linear model: 0.01566540810352375\n",
            "【Senario 2】MSE of Neural model: 0.0156932345213041\n"
          ]
        }
      ]
    },
    {
      "cell_type": "code",
      "source": [
        "# R^2 of Linear Regresion\n",
        "a = np.sum(np.square(senario_2_result['y_real'] -  senario_2_result['lin_pred_pretrain']))\n",
        "b = np.sum(np.square(senario_2_result['y_real']))\n",
        "print(f\"【Senario 2】 R^2 of Linear Regresion :\",1-a/b)\n",
        "\n",
        "# R^2 of Neural Network\n",
        "a = np.sum(np.square(senario_2_result['y_real'] -  senario_2_result['NN_pred_pretrain']))\n",
        "b = np.sum(np.square(senario_2_result['y_real']))\n",
        "print(f\"【Senario 2】 R^2 of Neural Network :\",1-a/b)"
      ],
      "metadata": {
        "colab": {
          "base_uri": "https://localhost:8080/"
        },
        "id": "yyuOhUtiOvJj",
        "outputId": "37364588-8479-4f74-a28b-e271aed70469"
      },
      "execution_count": 10,
      "outputs": [
        {
          "output_type": "stream",
          "name": "stdout",
          "text": [
            "【Senario 2】 R^2 of Linear Regresion : 0.0057037489309388345\n",
            "【Senario 2】 R^2 of Neural Network : 0.003937583460059013\n"
          ]
        }
      ]
    },
    {
      "cell_type": "code",
      "source": [
        "# Metrics: XS-R^2 of Neural Network Model  (weighted)\n",
        "stock_list = senario_2_result['permno'].unique()\n",
        "month_list = senario_2_result.index.unique()\n",
        "print(len(stock_list), len(month_list))\n",
        "\n",
        "r2_stock = {}\n",
        "num_ = []\n",
        "deno_ = []\n",
        "for i in stock_list:\n",
        "  df = senario_2_result[senario_2_result['permno'] == i]\n",
        "  num_month = df.shape[0]\n",
        "  num = np.square((df['y_real'] -  df['NN_pred_pretrain']).sum() / num_month) * num_month\n",
        "  deno = np.square((df['NN_pred_pretrain']).sum() / num_month)  * num_month\n",
        "  num_.append(num)\n",
        "  deno_.append(deno)\n",
        "print(f\"XS-R^2 of Neural Network Model  (weighted):\",1 - np.mean(num_) / np.mean(deno_))\n",
        "\n",
        "# Metrics: XS-R^2 of Linear Regresion (weighted)\n",
        "r2_stock = {}\n",
        "num_ = []\n",
        "deno_ = []\n",
        "for i in stock_list:\n",
        "  df = senario_2_result[senario_2_result['permno'] == i]\n",
        "  num_month = df.shape[0]\n",
        "  num = np.square((df['y_real'] -  df['lin_pred_pretrain']).sum() / num_month) * num_month\n",
        "  deno = np.square((df['lin_pred_pretrain']).sum() / num_month)  * num_month\n",
        "  num_.append(num)\n",
        "  deno_.append(deno)\n",
        "print(f\"XS-R^2 of Linear Regresion (weighted):\", 1 - np.mean(num_) / np.mean(deno_))"
      ],
      "metadata": {
        "colab": {
          "base_uri": "https://localhost:8080/"
        },
        "id": "FgE2vzEdOxMB",
        "outputId": "1a2cd300-7f92-4f68-93af-ed1db318e5cc"
      },
      "execution_count": 12,
      "outputs": [
        {
          "output_type": "stream",
          "name": "stdout",
          "text": [
            "XS-R^2 of Neural Network Model  (weighted): -0.1614102688995509\n",
            "XS-R^2 of Linear Regresion (weighted): -0.9542138628254369\n"
          ]
        }
      ]
    },
    {
      "cell_type": "code",
      "source": [
        "# Metrics: EV of Neural Network\n",
        "r2_stock = {}\n",
        "num_ = []\n",
        "deno_ = []\n",
        "for i in month_list:\n",
        "  df = senario_2_result[senario_2_result.index == i]\n",
        "  num_stock = df.shape[0]\n",
        "  num = (np.square(df['y_real'] -  df['NN_pred_pretrain'])).sum() / num_stock\n",
        "  deno = (np.square(df['y_real'])).sum() /num_stock\n",
        "  num_.append(num)\n",
        "  deno_.append(deno)\n",
        "  break\n",
        "print(f\"【Senario 2】 EV of Neural Network:\",1 - np.mean(num_) / np.mean(deno_))\n",
        "\n",
        "# Metrics: EV of Linear Model\n",
        "r2_stock = {}\n",
        "num_ = []\n",
        "deno_ = []\n",
        "for i in month_list:\n",
        "  df = senario_2_result[senario_2_result.index == i]\n",
        "  num_stock = df.shape[0]\n",
        "  num = (np.square(df['y_real'] -  df['lin_pred_pretrain'])).sum() / num_stock\n",
        "  deno = (np.square(df['y_real'])).sum() /num_stock\n",
        "  num_.append(num)\n",
        "  deno_.append(deno)\n",
        "  break\n",
        "print(f\"【Senario 2】 EV of Linear Model:\",1 - np.mean(num_) / np.mean(deno_))"
      ],
      "metadata": {
        "colab": {
          "base_uri": "https://localhost:8080/"
        },
        "id": "yYFNkeoAO0hU",
        "outputId": "cc3b1c57-dc92-4ae2-8e1a-7a0ff1d8e1cd"
      },
      "execution_count": 13,
      "outputs": [
        {
          "output_type": "stream",
          "name": "stdout",
          "text": [
            "【Senario 2】 EV of Neural Network: -0.0011904280992580674\n",
            "【Senario 2】 EV of Linear Model: 0.004059510189341364\n"
          ]
        }
      ]
    },
    {
      "cell_type": "code",
      "source": [],
      "metadata": {
        "id": "Qp2bwBMYWgfB"
      },
      "execution_count": null,
      "outputs": []
    },
    {
      "cell_type": "markdown",
      "source": [],
      "metadata": {
        "id": "bqA7oRCsf9E1"
      }
    }
  ]
}
