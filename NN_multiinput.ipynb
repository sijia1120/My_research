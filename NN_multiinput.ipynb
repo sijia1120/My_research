{
  "cells": [
    {
      "cell_type": "code",
      "execution_count": 1,
      "metadata": {
        "colab": {
          "base_uri": "https://localhost:8080/"
        },
        "id": "XhHib7_O9g0n",
        "outputId": "05916579-ce4e-4b31-e9a6-9a3af11b39c5"
      },
      "outputs": [],
      "source": [
        "# Import Library\n",
        "import numpy as np\n",
        "import pandas as pd\n",
        "#!pip install keras_tuner\n",
        "#import keras_tuner\n",
        "\n",
        "import keras\n",
        "from keras import models, layers, metrics, Sequential\n",
        "from keras.layers import Dense, BatchNormalization, Dropout\n",
        "import tensorflow as tf\n",
        "from keras.regularizers import l1,l2,l1_l2\n",
        "from sklearn.metrics import mean_squared_error\n",
        "from tensorflow.keras.layers import Input, Dense, Multiply, Concatenate\n",
        "from tensorflow.keras.models import Model\n",
        "\n",
        "import tensorflow as tf\n",
        "import random\n",
        "\n",
        "#!pip install keras_tuner\n",
        "import keras_tuner\n",
        "from keras_tuner import HyperModel\n",
        "import keras_tuner as kt"
      ]
    },
    {
      "cell_type": "markdown",
      "metadata": {
        "id": "_osSUW839vDJ"
      },
      "source": [
        "# Import Dataset"
      ]
    },
    {
      "cell_type": "code",
      "execution_count": 2,
      "metadata": {
        "id": "fT7cINyB9umJ"
      },
      "outputs": [],
      "source": [
        "char_core = ['acc','agr','beta','bm','cash','cashpr','cfp','chatoia','chcsho','chfeps','chinv',\n",
        "       'chmom','chpmia','chtx','currat','depr','dy','ear','ep','gma','grcapx','grltnoa',\n",
        "       'ill','indmom','invest','lev','lgr','maxret','mom12m','mom1m','mom36m','mve','nincr',\n",
        "       'orgcap','pchgm_pchsale','pchsale_pchinvt','pchsale_pchrect','pchsale_pchxsga',\n",
        "       'retvol','roaq','roavol','roeq','salecash','saleinv','sgr','sp','std_dolvol','std_turn','turn']\n",
        "info_list = ['fyear','year','jyear','permno','ticker','comnam','exchcd','exchname','siccd',\n",
        "       'indname','size_class','mve_m','rf','ret','ret_adj','ret_ex','ret_adj_ex',]\n",
        "macro_col = ['RPI', 'W875RX1', 'DPCERA3M086SBEA', 'CMRMTSPLx', 'RETAILx','INDPRO', 'IPFPNSS', 'IPFINAL', 'IPCONGD', 'IPDCONGD', 'IPNCONGD',\n",
        "       'IPBUSEQ', 'IPMAT', 'IPDMAT', 'IPNMAT', 'IPMANSICS', 'IPB51222S','IPFUELS', 'CUMFNS', 'HWI', 'HWIURATIO', 'CLF16OV', 'CE16OV',\n",
        "       'UNRATE', 'UEMPMEAN', 'UEMPLT5', 'UEMP5TO14', 'UEMP15OV','UEMP15T26', 'UEMP27OV', 'CLAIMSx', 'PAYEMS', 'USGOOD',\n",
        "       'CES1021000001', 'USCONS', 'MANEMP', 'DMANEMP', 'NDMANEMP','SRVPRD', 'USTPU', 'USWTRADE', 'USTRADE', 'USFIRE', 'USGOVT',\n",
        "       'CES0600000007', 'AWOTMAN', 'AWHMAN', 'HOUST', 'HOUSTNE','HOUSTMW', 'HOUSTS', 'HOUSTW', 'PERMIT', 'PERMITNE', 'PERMITMW',\n",
        "       'PERMITS', 'PERMITW', 'AMDMNOx', 'ANDENOx', 'AMDMUOx', 'BUSINVx','ISRATIOx', 'M1SL', 'M2SL', 'M2REAL', 'BOGMBASE', 'TOTRESNS',\n",
        "       'NONBORRES', 'BUSLOANS', 'REALLN', 'NONREVSL', 'CONSPI', 'S&P 500','S&P: indust', 'S&P div yield', 'S&P PE ratio', 'FEDFUNDS',\n",
        "       'CP3Mx', 'TB3MS', 'TB6MS', 'GS1', 'GS5', 'GS10', 'AAA', 'BAA','COMPAPFFx', 'TB3SMFFM', 'TB6SMFFM', 'T1YFFM', 'T5YFFM', 'T10YFFM',\n",
        "       'AAAFFM', 'BAAFFM', 'TWEXAFEGSMTHx', 'EXSZUSx', 'EXJPUSx','EXUSUKx', 'EXCAUSx', 'WPSFD49207', 'WPSFD49502', 'WPSID61',\n",
        "       'WPSID62', 'OILPRICEx', 'PPICMM', 'CPIAUCSL', 'CPIAPPSL','CPITRNSL', 'CPIMEDSL', 'CUSR0000SAC', 'CUSR0000SAD',\n",
        "       'CUSR0000SAS', 'CPIULFSL', 'CUSR0000SA0L2', 'CUSR0000SA0L5','PCEPI', 'DDURRG3M086SBEA', 'DNDGRG3M086SBEA', 'DSERRG3M086SBEA',\n",
        "       'CES0600000008', 'CES2000000008', 'CES3000000008', 'UMCSENTx','DTCOLNVHFNM', 'DTCTHFNM', 'INVEST', 'VIXCLSx', 'dp', 'ep_macro', 'b/m',\n",
        "       'ntis', 'tbl', 'tms', 'dfy', 'svar']\n",
        "\n",
        "\n",
        "# Import Dataset\n",
        "# path = '/content/drive/MyDrive/Colab Notebooks/Paper1/'\n",
        "path= \"dataset/\"\n",
        "firm_df = pd.read_pickle(path+'firm_df49.pkl')\n",
        "firm_df.index = pd.to_datetime(firm_df.index).to_period('M')\n",
        "\n",
        "# macro-economic variables\n",
        "# There is one features which has 37 missing values but before year 1980\n",
        "macro_df = pd.read_pickle(path+'macro_df.pkl')\n",
        "macro_df.index = pd.to_datetime(macro_df.index, format='%m/%d/%Y')\n",
        "macro_df.rename(columns={\"ep\": \"ep_macro\"}, inplace=True)\n",
        "macro_index = macro_df.index[1:]\n",
        "macro_new = macro_df.iloc[:-1, :]\n",
        "macro_new.index = macro_index\n",
        "macro_new.index = macro_new.index.to_period('M')\n",
        "\n",
        "# Scale macro-features\n",
        "from sklearn.preprocessing import MinMaxScaler\n",
        "scaler = MinMaxScaler(feature_range=(-0.5, 0.5))\n",
        "macro_scaled = scaler.fit_transform(macro_new)\n",
        "macro_scaled_df = pd.DataFrame(macro_scaled, columns=macro_new.columns)\n",
        "macro_scaled_df.index = macro_new.index\n",
        "\n",
        "# merged data 1\n",
        "merged_df = pd.merge(firm_df, macro_scaled_df, left_on='jdate', right_on='sasdate', how='inner')\n",
        "merged_df.index = firm_df.index"
      ]
    },
    {
      "cell_type": "code",
      "execution_count": 3,
      "metadata": {
        "id": "V4Cz0on69qnY"
      },
      "outputs": [],
      "source": [
        "class DataPrepare():\n",
        "  def __init__(self):\n",
        "    self.char_core = ['acc','agr','beta','bm','cash','cashpr','cfp','chatoia','chcsho','chfeps','chinv',\n",
        "       'chmom','chpmia','chtx','currat','depr','dy','ear','ep','gma','grcapx','grltnoa',\n",
        "       'ill','indmom','invest','lev','lgr','maxret','mom12m','mom1m','mom36m','mve','nincr',\n",
        "       'orgcap','pchgm_pchsale','pchsale_pchinvt','pchsale_pchrect','pchsale_pchxsga',\n",
        "       'retvol','roaq','roavol','roeq','salecash','saleinv','sgr','sp','std_dolvol','std_turn','turn']\n",
        "    self.info_list = ['fyear','year','jyear','permno','ticker','comnam','exchcd','exchname','siccd',\n",
        "       'indname','size_class','mve_m','rf','ret','ret_adj','ret_ex','ret_adj_ex',]\n",
        "    self.macro_col = ['RPI', 'W875RX1', 'DPCERA3M086SBEA', 'CMRMTSPLx', 'RETAILx','INDPRO', 'IPFPNSS', 'IPFINAL', 'IPCONGD', 'IPDCONGD', 'IPNCONGD',\n",
        "       'IPBUSEQ', 'IPMAT', 'IPDMAT', 'IPNMAT', 'IPMANSICS', 'IPB51222S','IPFUELS', 'CUMFNS', 'HWI', 'HWIURATIO', 'CLF16OV', 'CE16OV',\n",
        "       'UNRATE', 'UEMPMEAN', 'UEMPLT5', 'UEMP5TO14', 'UEMP15OV','UEMP15T26', 'UEMP27OV', 'CLAIMSx', 'PAYEMS', 'USGOOD',\n",
        "       'CES1021000001', 'USCONS', 'MANEMP', 'DMANEMP', 'NDMANEMP','SRVPRD', 'USTPU', 'USWTRADE', 'USTRADE', 'USFIRE', 'USGOVT',\n",
        "       'CES0600000007', 'AWOTMAN', 'AWHMAN', 'HOUST', 'HOUSTNE','HOUSTMW', 'HOUSTS', 'HOUSTW', 'PERMIT', 'PERMITNE', 'PERMITMW',\n",
        "       'PERMITS', 'PERMITW', 'AMDMNOx', 'ANDENOx', 'AMDMUOx', 'BUSINVx','ISRATIOx', 'M1SL', 'M2SL', 'M2REAL', 'BOGMBASE', 'TOTRESNS',\n",
        "       'NONBORRES', 'BUSLOANS', 'REALLN', 'NONREVSL', 'CONSPI', 'S&P 500','S&P: indust', 'S&P div yield', 'S&P PE ratio', 'FEDFUNDS',\n",
        "       'CP3Mx', 'TB3MS', 'TB6MS', 'GS1', 'GS5', 'GS10', 'AAA', 'BAA','COMPAPFFx', 'TB3SMFFM', 'TB6SMFFM', 'T1YFFM', 'T5YFFM', 'T10YFFM',\n",
        "       'AAAFFM', 'BAAFFM', 'TWEXAFEGSMTHx', 'EXSZUSx', 'EXJPUSx','EXUSUKx', 'EXCAUSx', 'WPSFD49207', 'WPSFD49502', 'WPSID61',\n",
        "       'WPSID62', 'OILPRICEx', 'PPICMM', 'CPIAUCSL', 'CPIAPPSL','CPITRNSL', 'CPIMEDSL', 'CUSR0000SAC', 'CUSR0000SAD',\n",
        "       'CUSR0000SAS', 'CPIULFSL', 'CUSR0000SA0L2', 'CUSR0000SA0L5','PCEPI', 'DDURRG3M086SBEA', 'DNDGRG3M086SBEA', 'DSERRG3M086SBEA',\n",
        "       'CES0600000008', 'CES2000000008', 'CES3000000008', 'UMCSENTx','DTCOLNVHFNM', 'DTCTHFNM', 'INVEST', 'VIXCLSx', 'dp', 'ep_macro', 'b/m',\n",
        "       'ntis', 'tbl', 'tms', 'dfy', 'svar']\n",
        "\n",
        "  def datasplit(self, df, dataset):\n",
        "    df_train = df[df.index < pd.Period((str(1995)+\"-1\"),freq='M')]\n",
        "    df_val = df[(df.index >= pd.Period((str(1995)+\"-1\"),freq='M')) & (df.index < pd.Period((str(2000)+\"-1\"),freq='M'))]\n",
        "    df_test = df[df.index >= pd.Period((str(2000)+\"-1\"),freq='M')]\n",
        "    if dataset == \"firm\":\n",
        "      X_train = df_train[self.char_core]\n",
        "      X_val = df_val[self.char_core]\n",
        "      X_test = df_test[self.char_core]\n",
        "    elif dataset == \"firm_macro\":\n",
        "      X_train = df_train[self.char_core+self.macro_col]\n",
        "      X_val = df_val[self.char_core+self.macro_col]\n",
        "      X_test = df_test[self.char_core+self.macro_col]\n",
        "    y_train = df_train['predicted_return']\n",
        "    y_val = df_val['predicted_return']\n",
        "    y_test = df_test['predicted_return']\n",
        "    return (X_train, y_train, X_val, y_val, X_test, y_test, )"
      ]
    },
    {
      "cell_type": "code",
      "execution_count": 4,
      "metadata": {
        "colab": {
          "base_uri": "https://localhost:8080/"
        },
        "id": "LbWvYMfv-P9s",
        "outputId": "9db7f032-8567-4948-a558-d945eefa77b6"
      },
      "outputs": [
        {
          "name": "stdout",
          "output_type": "stream",
          "text": [
            "(88347, 183) (88347,) (31851, 183) (31851,) (90007, 183) (90007,)\n"
          ]
        }
      ],
      "source": [
        "prepare = DataPrepare()\n",
        "X_train, y_train, X_val, y_val, X_test, y_test = prepare.datasplit(merged_df, dataset = \"firm_macro\")\n",
        "print(X_train.shape, y_train.shape, X_val.shape, y_val.shape, X_test.shape, y_test.shape)"
      ]
    },
    {
      "cell_type": "code",
      "execution_count": 5,
      "metadata": {
        "colab": {
          "base_uri": "https://localhost:8080/"
        },
        "id": "0a6hoTKEK036",
        "outputId": "b00bbd1e-b6e7-4bfa-e466-ac28887aee6b"
      },
      "outputs": [
        {
          "name": "stdout",
          "output_type": "stream",
          "text": [
            "(88347, 49) (88347, 134) (88347,)\n",
            "(31851, 49) (31851, 134) (31851,)\n",
            "(90007, 49) (90007, 134) (90007,)\n"
          ]
        }
      ],
      "source": [
        "merged_train_firm = X_train[char_core]\n",
        "merged_train_macro = X_train[macro_col]\n",
        "merged_train_y = y_train\n",
        "print(merged_train_firm.shape, merged_train_macro.shape, merged_train_y.shape)\n",
        "\n",
        "merged_val_firm = X_val[char_core]\n",
        "merged_val_macro = X_val[macro_col]\n",
        "merged_val_y = y_val\n",
        "print(merged_val_firm.shape, merged_val_macro.shape, merged_val_y.shape)\n",
        "\n",
        "merged_test_firm = X_test[char_core]\n",
        "merged_test_macro = X_test[macro_col]\n",
        "merged_test_y = y_test\n",
        "print(merged_test_firm.shape, merged_test_macro.shape, merged_test_y.shape)"
      ]
    },
    {
      "cell_type": "code",
      "execution_count": 6,
      "metadata": {
        "id": "LPM537_0BdsV"
      },
      "outputs": [],
      "source": [
        "def my_metric_fn(y_true, y_pred):\n",
        "  num = tf.reduce_mean(tf.square(y_true - y_pred))\n",
        "  den = tf.reduce_mean(tf.square(y_true - tf.zeros_like(y_true)))\n",
        "  return 1 - num / den\n",
        "\n",
        "\n",
        "def multi_input_model():\n",
        "  # Define the first input with 134 features\n",
        "  input1 = Input(shape=(134,))\n",
        "  x1 = Dense(4, activation='relu')(input1)\n",
        "  x1 = Dense(49, activation='relu')(x1)\n",
        "\n",
        "  input2 = Input(shape=(49,))\n",
        "\n",
        "  # Multiply the outputs of the first branch and the second input element-wise\n",
        "  merged = Multiply()([x1, input2])\n",
        "\n",
        "  # Create the second branch of the network\n",
        "  x2 = Dense(32, activation='relu')(merged)\n",
        "  x2 = Dense(16, activation='relu')(x2)\n",
        "  output = Dense(1, activation='linear')(x2)\n",
        "\n",
        "  # Create the model with two inputs and one output\n",
        "  model = Model(inputs=[input1, input2], outputs=output)\n",
        "  # optimizer = tf.keras.optimizers.legacy.Adam(learning_rate=0.0001)\n",
        "  optimizer = tf.keras.optimizers.legacy.Adam(learning_rate=0.0001, beta_1=0.92) # best\n",
        "  model.compile(optimizer=optimizer, loss='mean_squared_error', metrics=[my_metric_fn])\n",
        "  return model"
      ]
    },
    {
      "cell_type": "code",
      "execution_count": 7,
      "metadata": {
        "colab": {
          "base_uri": "https://localhost:8080/"
        },
        "id": "hoVfvUmLBfeQ",
        "outputId": "b8d75372-8129-49d8-8c6f-43b7efbd0565"
      },
      "outputs": [
        {
          "name": "stdout",
          "output_type": "stream",
          "text": [
            "(88347, 49) (88347, 134) (88347,)\n",
            "Epoch 1/100\n",
            "691/691 [==============================] - 1s 819us/step - loss: 0.0121 - my_metric_fn: 0.0043 - val_loss: 0.0146 - val_my_metric_fn: 0.0043\n",
            "Epoch 2/100\n",
            "691/691 [==============================] - 0s 668us/step - loss: 0.0120 - my_metric_fn: 0.0112 - val_loss: 0.0146 - val_my_metric_fn: 0.0037\n",
            "Epoch 3/100\n",
            "691/691 [==============================] - 0s 585us/step - loss: 0.0119 - my_metric_fn: 0.0219 - val_loss: 0.0147 - val_my_metric_fn: -0.0014\n",
            "Epoch 4/100\n",
            "691/691 [==============================] - 1s 1ms/step - loss: 0.0118 - my_metric_fn: 0.0347 - val_loss: 0.0148 - val_my_metric_fn: -0.0069\n"
          ]
        },
        {
          "data": {
            "text/plain": [
              "<keras.src.callbacks.History at 0x29bde4d90>"
            ]
          },
          "execution_count": 7,
          "metadata": {},
          "output_type": "execute_result"
        }
      ],
      "source": [
        "print(merged_train_firm.shape, merged_train_macro.shape, merged_train_y.shape)\n",
        "# Create the model\n",
        "random_seed = 1120\n",
        "random.seed(random_seed)\n",
        "np.random.seed(random_seed)\n",
        "tf.random.set_seed(random_seed)\n",
        "model = multi_input_model()\n",
        "\n",
        "# Fit the model to your training data\n",
        "model.fit([merged_train_macro, merged_train_firm], merged_train_y,\n",
        "          validation_data=([merged_val_macro, merged_val_firm], merged_val_y),\n",
        "          epochs=100,\n",
        "          batch_size=128,\n",
        "          callbacks=[tf.keras.callbacks.EarlyStopping(monitor='val_loss', mode='min',patience=3)],\n",
        "          )  # You can adjust the number"
      ]
    },
    {
      "cell_type": "code",
      "execution_count": 8,
      "metadata": {
        "id": "Og77K1xcBfb9"
      },
      "outputs": [
        {
          "name": "stdout",
          "output_type": "stream",
          "text": [
            "Epoch 1/30\n",
            "940/940 [==============================] - 1s 967us/step - loss: 0.0128 - my_metric_fn: 6.0141e-04 - val_loss: 0.0157 - val_my_metric_fn: 0.0059\n",
            "Epoch 2/30\n",
            "940/940 [==============================] - 1s 751us/step - loss: 0.0128 - my_metric_fn: 0.0039 - val_loss: 0.0156 - val_my_metric_fn: 0.0064\n",
            "Epoch 3/30\n",
            "940/940 [==============================] - 1s 1ms/step - loss: 0.0127 - my_metric_fn: 0.0093 - val_loss: 0.0157 - val_my_metric_fn: 9.3597e-04\n",
            "2813/2813 [==============================] - 1s 386us/step - loss: 0.0157 - my_metric_fn: -0.0012\n",
            "[0.0156911201775074, -0.0012159886537119746]\n",
            "2813/2813 [==============================] - 1s 299us/step\n",
            "\n",
            "Epoch 1/30\n",
            "940/940 [==============================] - 1s 1ms/step - loss: 0.0128 - my_metric_fn: 0.0042 - val_loss: 0.0156 - val_my_metric_fn: 0.0065\n",
            "Epoch 2/30\n",
            "940/940 [==============================] - 1s 828us/step - loss: 0.0127 - my_metric_fn: 0.0094 - val_loss: 0.0156 - val_my_metric_fn: 0.0033\n",
            "2813/2813 [==============================] - 1s 248us/step - loss: 0.0156 - my_metric_fn: 7.0308e-04\n",
            "[0.01560688205063343, 0.0007030786946415901]\n",
            "2813/2813 [==============================] - 1s 260us/step\n",
            "\n",
            "Epoch 1/30\n",
            "940/940 [==============================] - 2s 1ms/step - loss: 0.0128 - my_metric_fn: 0.0031 - val_loss: 0.0157 - val_my_metric_fn: 0.0042\n",
            "Epoch 2/30\n",
            "940/940 [==============================] - 1s 662us/step - loss: 0.0127 - my_metric_fn: 0.0047 - val_loss: 0.0157 - val_my_metric_fn: 0.0051\n",
            "Epoch 3/30\n",
            "940/940 [==============================] - 1s 837us/step - loss: 0.0127 - my_metric_fn: 0.0064 - val_loss: 0.0158 - val_my_metric_fn: 1.7345e-04\n",
            "2813/2813 [==============================] - 1s 293us/step - loss: 0.0158 - my_metric_fn: -6.0961e-06\n",
            "[0.01576991379261017, -6.096074230299564e-06]\n",
            "2813/2813 [==============================] - 1s 433us/step\n",
            "\n",
            "Epoch 1/30\n",
            "940/940 [==============================] - 1s 869us/step - loss: 0.0128 - my_metric_fn: 0.0021 - val_loss: 0.0157 - val_my_metric_fn: 0.0059\n",
            "Epoch 2/30\n",
            "940/940 [==============================] - 1s 931us/step - loss: 0.0127 - my_metric_fn: 0.0050 - val_loss: 0.0157 - val_my_metric_fn: 0.0051\n",
            "Epoch 3/30\n",
            "940/940 [==============================] - 2s 2ms/step - loss: 0.0127 - my_metric_fn: 0.0090 - val_loss: 0.0157 - val_my_metric_fn: -3.4108e-04\n",
            "2813/2813 [==============================] - 2s 779us/step - loss: 0.0157 - my_metric_fn: -0.0023\n",
            "[0.015678562223911285, -0.0022638775408267975]\n",
            "2813/2813 [==============================] - 1s 382us/step\n",
            "\n",
            "Epoch 1/30\n",
            "940/940 [==============================] - 1s 1ms/step - loss: 0.0128 - my_metric_fn: 0.0041 - val_loss: 0.0156 - val_my_metric_fn: 0.0060\n",
            "Epoch 2/30\n",
            "940/940 [==============================] - 1s 1ms/step - loss: 0.0127 - my_metric_fn: 0.0113 - val_loss: 0.0157 - val_my_metric_fn: 0.0025\n",
            "2813/2813 [==============================] - 1s 283us/step - loss: 0.0157 - my_metric_fn: 0.0011\n",
            "[0.015674637630581856, 0.0011184255126863718]\n",
            "2813/2813 [==============================] - 1s 280us/step\n",
            "\n",
            "Epoch 1/30\n",
            "940/940 [==============================] - 4s 4ms/step - loss: 0.0128 - my_metric_fn: 0.0027 - val_loss: 0.0157 - val_my_metric_fn: 0.0031\n",
            "Epoch 2/30\n",
            "940/940 [==============================] - 2s 2ms/step - loss: 0.0127 - my_metric_fn: 0.0096 - val_loss: 0.0158 - val_my_metric_fn: -0.0056\n",
            "2813/2813 [==============================] - 2s 602us/step - loss: 0.0158 - my_metric_fn: -0.0100\n",
            "[0.015770234167575836, -0.009995151311159134]\n",
            "2813/2813 [==============================] - 1s 343us/step\n",
            "\n",
            "Epoch 1/30\n",
            "940/940 [==============================] - 2s 2ms/step - loss: 0.0128 - my_metric_fn: 0.0023 - val_loss: 0.0156 - val_my_metric_fn: 0.0066\n",
            "Epoch 2/30\n",
            "940/940 [==============================] - 1s 1ms/step - loss: 0.0127 - my_metric_fn: 0.0045 - val_loss: 0.0157 - val_my_metric_fn: 0.0057\n",
            "2813/2813 [==============================] - 1s 481us/step - loss: 0.0157 - my_metric_fn: 0.0053\n",
            "[0.015661217272281647, 0.005322576500475407]\n",
            "2813/2813 [==============================] - 1s 294us/step\n",
            "\n",
            "Epoch 1/30\n",
            "940/940 [==============================] - 6s 6ms/step - loss: 0.0128 - my_metric_fn: 0.0026 - val_loss: 0.0157 - val_my_metric_fn: 0.0068\n",
            "Epoch 2/30\n",
            "940/940 [==============================] - 1s 693us/step - loss: 0.0127 - my_metric_fn: 0.0081 - val_loss: 0.0157 - val_my_metric_fn: 0.0051\n",
            "2813/2813 [==============================] - 1s 402us/step - loss: 0.0157 - my_metric_fn: 0.0038\n",
            "[0.01566131040453911, 0.0038056555204093456]\n",
            "2813/2813 [==============================] - 1s 237us/step\n",
            "\n",
            "Epoch 1/30\n",
            "940/940 [==============================] - 1s 768us/step - loss: 0.0128 - my_metric_fn: 5.3677e-04 - val_loss: 0.0156 - val_my_metric_fn: 0.0067\n",
            "Epoch 2/30\n",
            "940/940 [==============================] - 1s 646us/step - loss: 0.0128 - my_metric_fn: 0.0044 - val_loss: 0.0157 - val_my_metric_fn: 0.0062\n",
            "2813/2813 [==============================] - 1s 277us/step - loss: 0.0157 - my_metric_fn: 0.0061\n",
            "[0.01565183512866497, 0.0060841734521090984]\n",
            "2813/2813 [==============================] - 1s 271us/step\n",
            "\n",
            "Epoch 1/30\n",
            "940/940 [==============================] - 1s 970us/step - loss: 0.0127 - my_metric_fn: 0.0071 - val_loss: 0.0157 - val_my_metric_fn: 0.0031\n",
            "Epoch 2/30\n",
            "940/940 [==============================] - 1s 626us/step - loss: 0.0126 - my_metric_fn: 0.0154 - val_loss: 0.0158 - val_my_metric_fn: -0.0059\n",
            "2813/2813 [==============================] - 1s 285us/step - loss: 0.0158 - my_metric_fn: -0.0091\n",
            "[0.015763849020004272, -0.009144403971731663]\n",
            "2813/2813 [==============================] - 1s 415us/step\n",
            "\n"
          ]
        }
      ],
      "source": [
        "seed_list = [458, 165, 530, 564, 590, 560, 829, 170, 376, 176]\n",
        "yhat_df = pd.DataFrame()\n",
        "# 10 Trials for Prediction\n",
        "merged_train_macro_all = np.concatenate((merged_train_macro, merged_val_macro))\n",
        "merged_train_firm_all = np.concatenate((merged_train_firm, merged_val_firm))\n",
        "merged_y_all = np.concatenate((merged_train_y, merged_val_y))\n",
        "\n",
        "for random_seed in seed_list:\n",
        "    random.seed(random_seed)\n",
        "    np.random.seed(random_seed)\n",
        "    tf.random.set_seed(random_seed)\n",
        "\n",
        "    model = multi_input_model()\n",
        "    model.fit(x=[merged_train_macro_all, merged_train_firm_all], y=merged_y_all,\n",
        "              epochs=30,\n",
        "              batch_size = 128,\n",
        "              validation_data=([merged_test_macro, merged_test_firm], merged_test_y),\n",
        "              callbacks=[keras.callbacks.EarlyStopping(monitor='val_loss',mode='min', patience=1)])\n",
        "    print(model.evaluate([merged_test_macro, merged_test_firm], merged_test_y))\n",
        "    y_hat = model.predict([merged_test_macro, merged_test_firm]).reshape(-1)\n",
        "    yhat_df[random_seed] = y_hat\n",
        "    print()"
      ]
    },
    {
      "cell_type": "code",
      "execution_count": 9,
      "metadata": {},
      "outputs": [
        {
          "name": "stdout",
          "output_type": "stream",
          "text": [
            "0.009153514814708386\n"
          ]
        }
      ],
      "source": [
        "# Print out Predictive R^2\n",
        "y_predict = yhat_df.mean(axis=1).values.reshape(-1)\n",
        "y_real = merged_test_y\n",
        "\n",
        "a = np.mean(np.square(y_predict -  y_real))\n",
        "b = np.mean(np.square(y_real))\n",
        "print(1-a/b)"
      ]
    },
    {
      "cell_type": "code",
      "execution_count": 10,
      "metadata": {},
      "outputs": [
        {
          "name": "stdout",
          "output_type": "stream",
          "text": [
            "Epoch 1/30\n",
            "691/691 [==============================] - 2s 2ms/step - loss: 0.0121 - my_metric_fn: -8.0408e-05 - val_loss: 0.0146 - val_my_metric_fn: 0.0035\n",
            "Epoch 2/30\n",
            "691/691 [==============================] - 0s 687us/step - loss: 0.0121 - my_metric_fn: 0.0048 - val_loss: 0.0146 - val_my_metric_fn: 0.0043\n",
            "Epoch 3/30\n",
            "691/691 [==============================] - 0s 616us/step - loss: 0.0120 - my_metric_fn: 0.0130 - val_loss: 0.0147 - val_my_metric_fn: -0.0013\n",
            "2813/2813 [==============================] - 1s 264us/step - loss: 0.0157 - my_metric_fn: -6.2087e-04\n",
            "[0.015727000311017036, -0.0006208717823028564]\n",
            "2813/2813 [==============================] - 1s 235us/step\n",
            "\n",
            "Epoch 1/30\n",
            "691/691 [==============================] - 2s 3ms/step - loss: 0.0121 - my_metric_fn: 0.0033 - val_loss: 0.0146 - val_my_metric_fn: 0.0048\n",
            "Epoch 2/30\n",
            "691/691 [==============================] - 1s 1ms/step - loss: 0.0120 - my_metric_fn: 0.0104 - val_loss: 0.0146 - val_my_metric_fn: 0.0023\n",
            "2813/2813 [==============================] - 2s 575us/step - loss: 0.0156 - my_metric_fn: 0.0040\n",
            "[0.015611090697348118, 0.003969299606978893]\n",
            "2813/2813 [==============================] - 1s 324us/step\n",
            "\n",
            "Epoch 1/30\n",
            "691/691 [==============================] - 1s 1ms/step - loss: 0.0121 - my_metric_fn: 0.0024 - val_loss: 0.0146 - val_my_metric_fn: 0.0058\n",
            "Epoch 2/30\n",
            "691/691 [==============================] - 0s 641us/step - loss: 0.0121 - my_metric_fn: 0.0045 - val_loss: 0.0146 - val_my_metric_fn: 0.0044\n",
            "2813/2813 [==============================] - 1s 318us/step - loss: 0.0157 - my_metric_fn: 0.0068\n",
            "[0.015653997659683228, 0.00676710344851017]\n",
            "2813/2813 [==============================] - 1s 374us/step\n",
            "\n",
            "Epoch 1/30\n",
            "691/691 [==============================] - 2s 2ms/step - loss: 0.0121 - my_metric_fn: 0.0012 - val_loss: 0.0146 - val_my_metric_fn: 0.0059\n",
            "Epoch 2/30\n",
            "691/691 [==============================] - 1s 787us/step - loss: 0.0121 - my_metric_fn: 0.0044 - val_loss: 0.0146 - val_my_metric_fn: 0.0051\n",
            "2813/2813 [==============================] - 1s 376us/step - loss: 0.0157 - my_metric_fn: 0.0058\n",
            "[0.015657702460885048, 0.005848654545843601]\n",
            "2813/2813 [==============================] - 1s 238us/step\n",
            "\n",
            "Epoch 1/30\n",
            "691/691 [==============================] - 1s 689us/step - loss: 0.0121 - my_metric_fn: 0.0024 - val_loss: 0.0146 - val_my_metric_fn: 0.0055\n",
            "Epoch 2/30\n",
            "691/691 [==============================] - 0s 578us/step - loss: 0.0121 - my_metric_fn: 0.0066 - val_loss: 0.0146 - val_my_metric_fn: 0.0031\n",
            "2813/2813 [==============================] - 1s 271us/step - loss: 0.0157 - my_metric_fn: 0.0021\n",
            "[0.015690941363573074, 0.0020569059997797012]\n",
            "2813/2813 [==============================] - 1s 224us/step\n",
            "\n",
            "Epoch 1/30\n",
            "691/691 [==============================] - 1s 847us/step - loss: 0.0121 - my_metric_fn: 0.0018 - val_loss: 0.0146 - val_my_metric_fn: 0.0051\n",
            "Epoch 2/30\n",
            "691/691 [==============================] - 1s 1ms/step - loss: 0.0120 - my_metric_fn: 0.0110 - val_loss: 0.0146 - val_my_metric_fn: 0.0043\n",
            "2813/2813 [==============================] - 1s 265us/step - loss: 0.0157 - my_metric_fn: -0.0040\n",
            "[0.01573820225894451, -0.004007316194474697]\n",
            "2813/2813 [==============================] - 1s 242us/step\n",
            "\n",
            "Epoch 1/30\n",
            "691/691 [==============================] - 1s 840us/step - loss: 0.0121 - my_metric_fn: 0.0011 - val_loss: 0.0146 - val_my_metric_fn: 0.0054\n",
            "Epoch 2/30\n",
            "691/691 [==============================] - 1s 2ms/step - loss: 0.0121 - my_metric_fn: 0.0036 - val_loss: 0.0146 - val_my_metric_fn: 0.0055\n",
            "2813/2813 [==============================] - 1s 406us/step - loss: 0.0157 - my_metric_fn: 0.0055\n",
            "[0.015664061531424522, 0.0054629468359053135]\n",
            "2813/2813 [==============================] - 1s 238us/step\n",
            "\n",
            "Epoch 1/30\n",
            "691/691 [==============================] - 1s 904us/step - loss: 0.0121 - my_metric_fn: 0.0016 - val_loss: 0.0146 - val_my_metric_fn: 0.0057\n",
            "Epoch 2/30\n",
            "691/691 [==============================] - 0s 594us/step - loss: 0.0120 - my_metric_fn: 0.0095 - val_loss: 0.0146 - val_my_metric_fn: 0.0021\n",
            "2813/2813 [==============================] - 2s 570us/step - loss: 0.0157 - my_metric_fn: 0.0022\n",
            "[0.015686817467212677, 0.002180822193622589]\n",
            "2813/2813 [==============================] - 1s 239us/step\n",
            "\n",
            "Epoch 1/30\n",
            "691/691 [==============================] - 1s 799us/step - loss: 0.0121 - my_metric_fn: 3.5205e-04 - val_loss: 0.0146 - val_my_metric_fn: 0.0033\n",
            "Epoch 2/30\n",
            "691/691 [==============================] - 0s 615us/step - loss: 0.0121 - my_metric_fn: 0.0054 - val_loss: 0.0146 - val_my_metric_fn: 0.0019\n",
            "2813/2813 [==============================] - 1s 302us/step - loss: 0.0157 - my_metric_fn: 0.0030\n",
            "[0.01569034531712532, 0.0029795176815241575]\n",
            "2813/2813 [==============================] - 2s 593us/step\n",
            "\n",
            "Epoch 1/30\n",
            "691/691 [==============================] - 1s 749us/step - loss: 0.0121 - my_metric_fn: 0.0059 - val_loss: 0.0145 - val_my_metric_fn: 0.0071\n",
            "Epoch 2/30\n",
            "691/691 [==============================] - 0s 646us/step - loss: 0.0119 - my_metric_fn: 0.0170 - val_loss: 0.0145 - val_my_metric_fn: 0.0049\n",
            "2813/2813 [==============================] - 1s 304us/step - loss: 0.0158 - my_metric_fn: -0.0073\n",
            "[0.015750525519251823, -0.0072979615069925785]\n",
            "2813/2813 [==============================] - 1s 282us/step\n",
            "\n"
          ]
        }
      ],
      "source": [
        "seed_list = [458, 165, 530, 564, 590, 560, 829, 170, 376, 176]\n",
        "yhat_df = pd.DataFrame()\n",
        "# 10 Trials for Prediction\n",
        "merged_train_macro_all = np.concatenate((merged_train_macro, merged_val_macro))\n",
        "merged_train_firm_all = np.concatenate((merged_train_firm, merged_val_firm))\n",
        "merged_y_all = np.concatenate((merged_train_y, merged_val_y))\n",
        "\n",
        "for random_seed in seed_list:\n",
        "    random.seed(random_seed)\n",
        "    np.random.seed(random_seed)\n",
        "    tf.random.set_seed(random_seed)\n",
        "\n",
        "    model = multi_input_model()\n",
        "    model.fit([merged_train_macro, merged_train_firm], merged_train_y,\n",
        "              validation_data=([merged_val_macro, merged_val_firm], merged_val_y),\n",
        "              epochs=30,\n",
        "              batch_size = 128,\n",
        "              callbacks=[keras.callbacks.EarlyStopping(monitor='val_loss',mode='min', patience=1)]\n",
        "              )\n",
        "    print(model.evaluate([merged_test_macro, merged_test_firm], merged_test_y))\n",
        "    y_hat = model.predict([merged_test_macro, merged_test_firm]).reshape(-1)\n",
        "    yhat_df[random_seed] = y_hat\n",
        "    print()"
      ]
    },
    {
      "cell_type": "code",
      "execution_count": 11,
      "metadata": {},
      "outputs": [
        {
          "name": "stdout",
          "output_type": "stream",
          "text": [
            "0.008230163432272009\n"
          ]
        }
      ],
      "source": [
        "# Print out Predictive R^2\n",
        "y_predict = yhat_df.mean(axis=1).values.reshape(-1)\n",
        "y_real = merged_test_y\n",
        "\n",
        "a = np.mean(np.square(y_predict -  y_real))\n",
        "b = np.mean(np.square(y_real))\n",
        "print(1-a/b)"
      ]
    },
    {
      "cell_type": "code",
      "execution_count": 12,
      "metadata": {},
      "outputs": [
        {
          "name": "stdout",
          "output_type": "stream",
          "text": [
            "Epoch 1/30\n",
            "691/691 [==============================] - 2s 2ms/step - loss: 0.0121 - my_metric_fn: -8.0408e-05 - val_loss: 0.0146 - val_my_metric_fn: 0.0035\n",
            "Epoch 2/30\n",
            "691/691 [==============================] - 0s 591us/step - loss: 0.0121 - my_metric_fn: 0.0048 - val_loss: 0.0146 - val_my_metric_fn: 0.0043\n",
            "Epoch 3/30\n",
            "691/691 [==============================] - 0s 569us/step - loss: 0.0120 - my_metric_fn: 0.0130 - val_loss: 0.0147 - val_my_metric_fn: -0.0013\n",
            "Epoch 4/30\n",
            "691/691 [==============================] - 1s 875us/step - loss: 0.0118 - my_metric_fn: 0.0269 - val_loss: 0.0148 - val_my_metric_fn: -0.0076\n",
            "2813/2813 [==============================] - 1s 323us/step - loss: 0.0158 - my_metric_fn: -0.0148\n",
            "[0.015846000984311104, -0.01483175065368414]\n",
            "2813/2813 [==============================] - 1s 241us/step\n",
            "\n",
            "Epoch 1/30\n",
            "691/691 [==============================] - 1s 710us/step - loss: 0.0121 - my_metric_fn: 0.0033 - val_loss: 0.0146 - val_my_metric_fn: 0.0048\n",
            "Epoch 2/30\n",
            "691/691 [==============================] - 1s 1ms/step - loss: 0.0120 - my_metric_fn: 0.0104 - val_loss: 0.0146 - val_my_metric_fn: 0.0023\n",
            "Epoch 3/30\n",
            "691/691 [==============================] - 1s 807us/step - loss: 0.0119 - my_metric_fn: 0.0223 - val_loss: 0.0147 - val_my_metric_fn: -0.0016\n",
            "2813/2813 [==============================] - 1s 311us/step - loss: 0.0157 - my_metric_fn: -0.0046\n",
            "[0.015668530017137527, -0.004556526895612478]\n",
            "2813/2813 [==============================] - 1s 238us/step\n",
            "\n",
            "Epoch 1/30\n",
            "691/691 [==============================] - 1s 890us/step - loss: 0.0121 - my_metric_fn: 0.0024 - val_loss: 0.0146 - val_my_metric_fn: 0.0058\n",
            "Epoch 2/30\n",
            "691/691 [==============================] - 1s 2ms/step - loss: 0.0121 - my_metric_fn: 0.0045 - val_loss: 0.0146 - val_my_metric_fn: 0.0044\n",
            "Epoch 3/30\n",
            "691/691 [==============================] - 1s 905us/step - loss: 0.0121 - my_metric_fn: 0.0081 - val_loss: 0.0146 - val_my_metric_fn: 0.0035\n",
            "2813/2813 [==============================] - 1s 275us/step - loss: 0.0157 - my_metric_fn: 0.0023\n",
            "[0.015663452446460724, 0.002341585699468851]\n",
            "2813/2813 [==============================] - 1s 245us/step\n",
            "\n",
            "Epoch 1/30\n",
            "691/691 [==============================] - 1s 1ms/step - loss: 0.0121 - my_metric_fn: 0.0012 - val_loss: 0.0146 - val_my_metric_fn: 0.0059\n",
            "Epoch 2/30\n",
            "691/691 [==============================] - 1s 1ms/step - loss: 0.0121 - my_metric_fn: 0.0044 - val_loss: 0.0146 - val_my_metric_fn: 0.0051\n",
            "Epoch 3/30\n",
            "691/691 [==============================] - 0s 558us/step - loss: 0.0120 - my_metric_fn: 0.0095 - val_loss: 0.0146 - val_my_metric_fn: 0.0011\n",
            "2813/2813 [==============================] - 1s 275us/step - loss: 0.0157 - my_metric_fn: 0.0030\n",
            "[0.015654567629098892, 0.002990638604387641]\n",
            "2813/2813 [==============================] - 1s 238us/step\n",
            "\n",
            "Epoch 1/30\n",
            "691/691 [==============================] - 1s 969us/step - loss: 0.0121 - my_metric_fn: 0.0024 - val_loss: 0.0146 - val_my_metric_fn: 0.0055\n",
            "Epoch 2/30\n",
            "691/691 [==============================] - 1s 1ms/step - loss: 0.0121 - my_metric_fn: 0.0066 - val_loss: 0.0146 - val_my_metric_fn: 0.0031\n",
            "Epoch 3/30\n",
            "691/691 [==============================] - 0s 582us/step - loss: 0.0119 - my_metric_fn: 0.0196 - val_loss: 0.0147 - val_my_metric_fn: 3.0310e-04\n",
            "2813/2813 [==============================] - 1s 282us/step - loss: 0.0157 - my_metric_fn: -0.0091\n",
            "[0.015746694058179855, -0.009078623726963997]\n",
            "2813/2813 [==============================] - 1s 232us/step\n",
            "\n",
            "Epoch 1/30\n",
            "691/691 [==============================] - 1s 2ms/step - loss: 0.0121 - my_metric_fn: 0.0018 - val_loss: 0.0146 - val_my_metric_fn: 0.0051\n",
            "Epoch 2/30\n",
            "691/691 [==============================] - 1s 1ms/step - loss: 0.0120 - my_metric_fn: 0.0110 - val_loss: 0.0146 - val_my_metric_fn: 0.0043\n",
            "Epoch 3/30\n",
            "691/691 [==============================] - 0s 564us/step - loss: 0.0119 - my_metric_fn: 0.0222 - val_loss: 0.0146 - val_my_metric_fn: 0.0010\n",
            "2813/2813 [==============================] - 1s 289us/step - loss: 0.0160 - my_metric_fn: -0.0236\n",
            "[0.01595303975045681, -0.02357134036719799]\n",
            "2813/2813 [==============================] - 1s 238us/step\n",
            "\n",
            "Epoch 1/30\n",
            "691/691 [==============================] - 1s 2ms/step - loss: 0.0121 - my_metric_fn: 0.0011 - val_loss: 0.0146 - val_my_metric_fn: 0.0054\n",
            "Epoch 2/30\n",
            "691/691 [==============================] - 2s 2ms/step - loss: 0.0121 - my_metric_fn: 0.0036 - val_loss: 0.0146 - val_my_metric_fn: 0.0055\n",
            "Epoch 3/30\n",
            "691/691 [==============================] - 1s 859us/step - loss: 0.0121 - my_metric_fn: 0.0058 - val_loss: 0.0146 - val_my_metric_fn: 0.0055\n",
            "Epoch 4/30\n",
            "691/691 [==============================] - 0s 620us/step - loss: 0.0120 - my_metric_fn: 0.0092 - val_loss: 0.0146 - val_my_metric_fn: 0.0051\n",
            "Epoch 5/30\n",
            "691/691 [==============================] - 0s 581us/step - loss: 0.0120 - my_metric_fn: 0.0141 - val_loss: 0.0145 - val_my_metric_fn: 0.0059\n",
            "Epoch 6/30\n",
            "691/691 [==============================] - 0s 720us/step - loss: 0.0119 - my_metric_fn: 0.0204 - val_loss: 0.0146 - val_my_metric_fn: 8.5509e-04\n",
            "Epoch 7/30\n",
            "691/691 [==============================] - 1s 728us/step - loss: 0.0118 - my_metric_fn: 0.0293 - val_loss: 0.0147 - val_my_metric_fn: -0.0044\n",
            "2813/2813 [==============================] - 1s 293us/step - loss: 0.0165 - my_metric_fn: -0.0716\n",
            "[0.016468200832605362, -0.07157863676548004]\n",
            "2813/2813 [==============================] - 1s 396us/step\n",
            "\n",
            "Epoch 1/30\n",
            "691/691 [==============================] - 1s 704us/step - loss: 0.0121 - my_metric_fn: 0.0016 - val_loss: 0.0146 - val_my_metric_fn: 0.0057\n",
            "Epoch 2/30\n",
            "691/691 [==============================] - 0s 537us/step - loss: 0.0120 - my_metric_fn: 0.0095 - val_loss: 0.0146 - val_my_metric_fn: 0.0021\n",
            "Epoch 3/30\n",
            "691/691 [==============================] - 0s 530us/step - loss: 0.0119 - my_metric_fn: 0.0178 - val_loss: 0.0146 - val_my_metric_fn: 3.7236e-04\n",
            "2813/2813 [==============================] - 1s 270us/step - loss: 0.0157 - my_metric_fn: -0.0060\n",
            "[0.015738660469651222, -0.005997321102768183]\n",
            "2813/2813 [==============================] - 1s 349us/step\n",
            "\n",
            "Epoch 1/30\n",
            "691/691 [==============================] - 1s 672us/step - loss: 0.0121 - my_metric_fn: 3.5205e-04 - val_loss: 0.0146 - val_my_metric_fn: 0.0033\n",
            "Epoch 2/30\n",
            "691/691 [==============================] - 0s 544us/step - loss: 0.0121 - my_metric_fn: 0.0054 - val_loss: 0.0146 - val_my_metric_fn: 0.0019\n",
            "Epoch 3/30\n",
            "691/691 [==============================] - 0s 551us/step - loss: 0.0120 - my_metric_fn: 0.0101 - val_loss: 0.0147 - val_my_metric_fn: 5.2617e-04\n",
            "2813/2813 [==============================] - 1s 400us/step - loss: 0.0157 - my_metric_fn: 0.0027\n",
            "[0.01566559448838234, 0.0026757873129099607]\n",
            "2813/2813 [==============================] - 1s 246us/step\n",
            "\n",
            "Epoch 1/30\n",
            "691/691 [==============================] - 1s 874us/step - loss: 0.0121 - my_metric_fn: 0.0059 - val_loss: 0.0145 - val_my_metric_fn: 0.0071\n",
            "Epoch 2/30\n",
            "691/691 [==============================] - 0s 561us/step - loss: 0.0119 - my_metric_fn: 0.0170 - val_loss: 0.0145 - val_my_metric_fn: 0.0049\n",
            "Epoch 3/30\n",
            "691/691 [==============================] - 0s 577us/step - loss: 0.0118 - my_metric_fn: 0.0261 - val_loss: 0.0146 - val_my_metric_fn: -1.4684e-04\n",
            "2813/2813 [==============================] - 2s 690us/step - loss: 0.0159 - my_metric_fn: -0.0193\n",
            "[0.01588352769613266, -0.019322695210576057]\n",
            "2813/2813 [==============================] - 1s 508us/step\n",
            "\n",
            "0.006273572885498457\n"
          ]
        }
      ],
      "source": [
        "## Having patience = 2 is worse, which gives R^2 == 0.006273572885498457\n",
        "\n",
        "seed_list = [458, 165, 530, 564, 590, 560, 829, 170, 376, 176]\n",
        "yhat_df = pd.DataFrame()\n",
        "# 10 Trials for Prediction\n",
        "merged_train_macro_all = np.concatenate((merged_train_macro, merged_val_macro))\n",
        "merged_train_firm_all = np.concatenate((merged_train_firm, merged_val_firm))\n",
        "merged_y_all = np.concatenate((merged_train_y, merged_val_y))\n",
        "\n",
        "for random_seed in seed_list:\n",
        "    random.seed(random_seed)\n",
        "    np.random.seed(random_seed)\n",
        "    tf.random.set_seed(random_seed)\n",
        "\n",
        "    model = multi_input_model()\n",
        "    model.fit([merged_train_macro, merged_train_firm], merged_train_y,\n",
        "              validation_data=([merged_val_macro, merged_val_firm], merged_val_y),\n",
        "              epochs=30,\n",
        "              batch_size = 128,\n",
        "              callbacks=[keras.callbacks.EarlyStopping(monitor='val_loss',mode='min', patience=2)]\n",
        "              )\n",
        "    print(model.evaluate([merged_test_macro, merged_test_firm], merged_test_y))\n",
        "    y_hat = model.predict([merged_test_macro, merged_test_firm]).reshape(-1)\n",
        "    yhat_df[random_seed] = y_hat\n",
        "    print()\n",
        "\n",
        "# Print out Predictive R^2\n",
        "y_predict = yhat_df.mean(axis=1).values.reshape(-1)\n",
        "y_real = merged_test_y\n",
        "\n",
        "a = np.mean(np.square(y_predict -  y_real))\n",
        "b = np.mean(np.square(y_real))\n",
        "print(1-a/b)"
      ]
    },
    {
      "cell_type": "markdown",
      "metadata": {},
      "source": [
        "# Finished ---"
      ]
    },
    {
      "cell_type": "code",
      "execution_count": 77,
      "metadata": {},
      "outputs": [
        {
          "name": "stdout",
          "output_type": "stream",
          "text": [
            "-0.04536933219533523\n"
          ]
        }
      ],
      "source": [
        "# lr = 0.0005 beta_1 = 0.95\n",
        "# Print out Predictive R^2\n",
        "y_predict = yhat_df.mean(axis=1).values.reshape(-1)\n",
        "y_real = merged_test_y\n",
        "\n",
        "a = np.mean(np.square(y_predict -  y_real))\n",
        "b = np.mean(np.square(y_real))\n",
        "print(1-a/b)"
      ]
    },
    {
      "cell_type": "code",
      "execution_count": 72,
      "metadata": {},
      "outputs": [
        {
          "name": "stdout",
          "output_type": "stream",
          "text": [
            "0.009117545377412162\n"
          ]
        }
      ],
      "source": [
        "# beta_1 = 0.95\n",
        "# Print out Predictive R^2\n",
        "y_predict = yhat_df.mean(axis=1).values.reshape(-1)\n",
        "y_real = merged_test_y\n",
        "\n",
        "a = np.mean(np.square(y_predict -  y_real))\n",
        "b = np.mean(np.square(y_real))\n",
        "print(1-a/b)"
      ]
    },
    {
      "cell_type": "code",
      "execution_count": 67,
      "metadata": {},
      "outputs": [
        {
          "name": "stdout",
          "output_type": "stream",
          "text": [
            "0.009153514814708386\n"
          ]
        }
      ],
      "source": [
        "# beta_1 = 0.92\n",
        "#  Print out Predictive R^2\n",
        "y_predict = yhat_df.mean(axis=1).values.reshape(-1)\n",
        "y_real = merged_test_y\n",
        "\n",
        "a = np.mean(np.square(y_predict -  y_real))\n",
        "b = npx.mean(np.square(y_real))\n",
        "print(1-a/b)"
      ]
    },
    {
      "cell_type": "code",
      "execution_count": 63,
      "metadata": {},
      "outputs": [
        {
          "name": "stdout",
          "output_type": "stream",
          "text": [
            "0.009135297134495346\n"
          ]
        }
      ],
      "source": [
        "# Print out Predictive R^2\n",
        "y_predict = yhat_df.mean(axis=1).values.reshape(-1)\n",
        "y_real = merged_test_y\n",
        "\n",
        "a = np.mean(np.square(y_predict -  y_real))\n",
        "b = np.mean(np.square(y_real))\n",
        "print(1-a/b)"
      ]
    },
    {
      "cell_type": "code",
      "execution_count": 57,
      "metadata": {},
      "outputs": [
        {
          "name": "stdout",
          "output_type": "stream",
          "text": [
            "0.007872937845400108\n"
          ]
        }
      ],
      "source": [
        "# Print out Predictive R^2\n",
        "y_predict = yhat_df.mean(axis=1).values.reshape(-1)\n",
        "y_real = merged_test_y\n",
        "\n",
        "a = np.mean(np.square(y_predict -  y_real))\n",
        "b = np.mean(np.square(y_real))\n",
        "print(1-a/b)"
      ]
    },
    {
      "cell_type": "code",
      "execution_count": null,
      "metadata": {},
      "outputs": [],
      "source": []
    },
    {
      "cell_type": "code",
      "execution_count": 30,
      "metadata": {
        "colab": {
          "base_uri": "https://localhost:8080/"
        },
        "id": "ZdfIpGWhbi63",
        "outputId": "8089b4f7-1db4-4974-ab30-cf8c3bef0861"
      },
      "outputs": [
        {
          "name": "stdout",
          "output_type": "stream",
          "text": [
            "0.009098028226459998\n"
          ]
        }
      ],
      "source": [
        "# Print out Predictive R^2\n",
        "y_predict = yhat_df.mean(axis=1).values.reshape(-1)\n",
        "y_real = merged_test_y\n",
        "\n",
        "a = np.mean(np.square(y_predict -  y_real))\n",
        "b = np.mean(np.square(y_real))\n",
        "print(1-a/b)"
      ]
    },
    {
      "cell_type": "code",
      "execution_count": 27,
      "metadata": {
        "colab": {
          "base_uri": "https://localhost:8080/"
        },
        "id": "_lI_jLzBCI68",
        "outputId": "166d78fb-3e89-4f21-f6a7-09171b93059a"
      },
      "outputs": [
        {
          "name": "stdout",
          "output_type": "stream",
          "text": [
            "0.007956089805917554\n"
          ]
        }
      ],
      "source": [
        "# Print out Predictive R^2\n",
        "y_predict = yhat_df.mean(axis=1).values.reshape(-1)\n",
        "y_real = merged_test_y\n",
        "\n",
        "a = np.mean(np.square(y_predict -  y_real))\n",
        "b = np.mean(np.square(y_real))\n",
        "print(1-a/b)"
      ]
    },
    {
      "cell_type": "code",
      "execution_count": null,
      "metadata": {
        "id": "8W12f7IaSUax"
      },
      "outputs": [],
      "source": []
    },
    {
      "cell_type": "markdown",
      "metadata": {
        "id": "87SO_8ReScfF"
      },
      "source": [
        "# Try 2"
      ]
    },
    {
      "cell_type": "code",
      "execution_count": null,
      "metadata": {
        "colab": {
          "base_uri": "https://localhost:8080/"
        },
        "id": "x7YXIirbSUYr",
        "outputId": "81ad0f22-52b5-4f04-a7be-422e3fb9e499"
      },
      "outputs": [
        {
          "name": "stdout",
          "output_type": "stream",
          "text": [
            "Model: \"model\"\n",
            "__________________________________________________________________________________________________\n",
            " Layer (type)                Output Shape                 Param #   Connected to                  \n",
            "==================================================================================================\n",
            " input_1 (InputLayer)        [(None, 134)]                0         []                            \n",
            "                                                                                                  \n",
            " dense (Dense)               (None, 128)                  17280     ['input_1[0][0]']             \n",
            "                                                                                                  \n",
            " dense_1 (Dense)             (None, 64)                   8256      ['dense[0][0]']               \n",
            "                                                                                                  \n",
            " dense_2 (Dense)             (None, 49)                   3185      ['dense_1[0][0]']             \n",
            "                                                                                                  \n",
            " input_2 (InputLayer)        [(None, 49)]                 0         []                            \n",
            "                                                                                                  \n",
            " multiply (Multiply)         (None, 49)                   0         ['dense_2[0][0]',             \n",
            "                                                                     'input_2[0][0]']             \n",
            "                                                                                                  \n",
            " dense_3 (Dense)             (None, 1)                    50        ['multiply[0][0]']            \n",
            "                                                                                                  \n",
            "==================================================================================================\n",
            "Total params: 28771 (112.39 KB)\n",
            "Trainable params: 28771 (112.39 KB)\n",
            "Non-trainable params: 0 (0.00 Byte)\n",
            "__________________________________________________________________________________________________\n"
          ]
        }
      ],
      "source": [
        "def my_metric_fn(y_true, y_pred):\n",
        "  num = tf.reduce_mean(tf.square(y_true - y_pred))\n",
        "  den = tf.reduce_mean(tf.square(y_true - tf.zeros_like(y_true)))\n",
        "  return 1 - num / den\n",
        "\n",
        "\n",
        "def multi_input_model2():\n",
        "  # Define the first input with 134 features\n",
        "  input1 = Input(shape=(134,))\n",
        "\n",
        "  # Define the first branch of the network\n",
        "  x1 = Dense(128, activation='relu')(input1)\n",
        "  x1 = Dense(64, activation='relu')(x1)\n",
        "  x1 = Dense(49, activation='relu')(x1)\n",
        "\n",
        "  # Define the second input with 49 features\n",
        "  input2 = Input(shape=(49,))\n",
        "\n",
        "  # Multiply the outputs of the first branch and the second input element-wise\n",
        "  merged = Multiply()([x1, input2])\n",
        "\n",
        "  # Create the second branch of the network\n",
        "  output = Dense(1, activation='linear')(merged)\n",
        "\n",
        "  # Create the model with two inputs and one output\n",
        "  model = Model(inputs=[input1, input2], outputs=output)\n",
        "\n",
        "  # Compile the model (you can adjust the optimizer and loss function as needed)\n",
        "  model.compile(optimizer='adam', loss='mean_squared_error', metrics=[my_metric_fn])\n",
        "\n",
        "  return model\n",
        "\n",
        "model2 = multi_input_model2()\n",
        "model2.summary()"
      ]
    },
    {
      "cell_type": "code",
      "execution_count": null,
      "metadata": {
        "colab": {
          "base_uri": "https://localhost:8080/"
        },
        "id": "U46yso9aSUVT",
        "outputId": "31d392dd-b9f3-4491-9dca-a488da7ff815"
      },
      "outputs": [
        {
          "name": "stdout",
          "output_type": "stream",
          "text": [
            "(88347, 49) (88347, 134) (88347,)\n",
            "Epoch 1/100\n",
            "691/691 [==============================] - 5s 5ms/step - loss: 0.0433 - my_metric_fn: -2.4062 - val_loss: 0.0151 - val_my_metric_fn: -0.0424\n",
            "Epoch 2/100\n",
            "691/691 [==============================] - 4s 6ms/step - loss: 0.0121 - my_metric_fn: 0.0018 - val_loss: 0.0146 - val_my_metric_fn: 0.0012\n",
            "Epoch 3/100\n",
            "691/691 [==============================] - 3s 4ms/step - loss: 0.0121 - my_metric_fn: 0.0026 - val_loss: 0.0147 - val_my_metric_fn: -0.0023\n",
            "Epoch 4/100\n",
            "691/691 [==============================] - 3s 4ms/step - loss: 0.0121 - my_metric_fn: 0.0027 - val_loss: 0.0146 - val_my_metric_fn: 0.0022\n",
            "Epoch 5/100\n",
            "691/691 [==============================] - 3s 4ms/step - loss: 0.0121 - my_metric_fn: 0.0027 - val_loss: 0.0146 - val_my_metric_fn: 5.7153e-04\n",
            "Epoch 6/100\n",
            "691/691 [==============================] - 5s 7ms/step - loss: 0.0121 - my_metric_fn: 0.0026 - val_loss: 0.0146 - val_my_metric_fn: 0.0021\n",
            "Epoch 7/100\n",
            "691/691 [==============================] - 3s 4ms/step - loss: 0.0121 - my_metric_fn: 0.0027 - val_loss: 0.0146 - val_my_metric_fn: 0.0043\n",
            "Epoch 8/100\n",
            "691/691 [==============================] - 3s 5ms/step - loss: 0.0121 - my_metric_fn: 0.0027 - val_loss: 0.0147 - val_my_metric_fn: -0.0023\n",
            "Epoch 9/100\n",
            "691/691 [==============================] - 3s 4ms/step - loss: 0.0121 - my_metric_fn: 0.0025 - val_loss: 0.0146 - val_my_metric_fn: 0.0012\n",
            "Epoch 10/100\n",
            "691/691 [==============================] - 4s 6ms/step - loss: 0.0121 - my_metric_fn: 0.0027 - val_loss: 0.0146 - val_my_metric_fn: 0.0015\n"
          ]
        },
        {
          "data": {
            "text/plain": [
              "<keras.src.callbacks.History at 0x7e216ce59c00>"
            ]
          },
          "execution_count": 11,
          "metadata": {},
          "output_type": "execute_result"
        }
      ],
      "source": [
        "print(merged_train_firm.shape, merged_train_macro.shape, merged_train_y.shape)\n",
        "# Create the model\n",
        "random_seed = 1120\n",
        "random.seed(random_seed)\n",
        "np.random.seed(random_seed)\n",
        "tf.random.set_seed(random_seed)\n",
        "model2 = multi_input_model2()\n",
        "\n",
        "# Fit the model to your training data\n",
        "model2.fit([merged_train_macro, merged_train_firm], merged_train_y,\n",
        "          validation_data=([merged_val_macro, merged_val_firm], merged_val_y),\n",
        "          epochs=100,\n",
        "          batch_size=128,\n",
        "          callbacks=[tf.keras.callbacks.EarlyStopping(monitor='val_loss', mode='min',patience=3)],\n",
        "          )  # You can adjust the number"
      ]
    },
    {
      "cell_type": "code",
      "execution_count": null,
      "metadata": {
        "colab": {
          "base_uri": "https://localhost:8080/"
        },
        "id": "aQ8A9AZ0SUSn",
        "outputId": "a3ffb734-0dcb-475a-f452-1922d59aa84d"
      },
      "outputs": [
        {
          "name": "stdout",
          "output_type": "stream",
          "text": [
            "Epoch 1/20\n",
            "3757/3757 [==============================] - 11s 3ms/step - loss: 0.0128 - my_metric_fn: 8.2239e-04\n",
            "Epoch 2/20\n",
            "3757/3757 [==============================] - 11s 3ms/step - loss: 0.0128 - my_metric_fn: 7.5088e-04\n",
            "Epoch 3/20\n",
            "3757/3757 [==============================] - 11s 3ms/step - loss: 0.0128 - my_metric_fn: 7.4576e-04\n",
            "Epoch 4/20\n",
            "3757/3757 [==============================] - 11s 3ms/step - loss: 0.0128 - my_metric_fn: 7.9300e-04\n",
            "Epoch 5/20\n",
            "3757/3757 [==============================] - 10s 3ms/step - loss: 0.0128 - my_metric_fn: 9.2977e-04\n",
            "Epoch 6/20\n",
            "3757/3757 [==============================] - 11s 3ms/step - loss: 0.0128 - my_metric_fn: 0.0010\n",
            "Epoch 7/20\n",
            "3757/3757 [==============================] - 11s 3ms/step - loss: 0.0128 - my_metric_fn: 8.0571e-04\n",
            "2813/2813 [==============================] - 6s 2ms/step - loss: 0.0156 - my_metric_fn: 0.0069\n",
            "[0.015640422701835632, 0.0068958960473537445]\n",
            "2813/2813 [==============================] - 5s 2ms/step\n",
            "\n",
            "Epoch 1/20\n",
            "3757/3757 [==============================] - 10s 3ms/step - loss: 0.0128 - my_metric_fn: 7.0753e-04\n",
            "Epoch 2/20\n",
            "3757/3757 [==============================] - 11s 3ms/step - loss: 0.0128 - my_metric_fn: 7.2206e-04\n",
            "Epoch 3/20\n",
            "3757/3757 [==============================] - 13s 3ms/step - loss: 0.0128 - my_metric_fn: 7.1514e-04\n",
            "2813/2813 [==============================] - 6s 2ms/step - loss: 0.0157 - my_metric_fn: 0.0026\n",
            "[0.01572362706065178, 0.0025963063817471266]\n",
            "2813/2813 [==============================] - 6s 2ms/step\n",
            "\n",
            "Epoch 1/20\n",
            "3757/3757 [==============================] - 12s 3ms/step - loss: 0.0128 - my_metric_fn: 5.1390e-04\n",
            "Epoch 2/20\n",
            "3757/3757 [==============================] - 11s 3ms/step - loss: 0.0128 - my_metric_fn: 6.6941e-04\n",
            "Epoch 3/20\n",
            "3757/3757 [==============================] - 10s 3ms/step - loss: 0.0128 - my_metric_fn: 9.9181e-04\n",
            "Epoch 4/20\n",
            "3757/3757 [==============================] - 11s 3ms/step - loss: 0.0128 - my_metric_fn: 0.0010\n",
            "Epoch 5/20\n",
            "3757/3757 [==============================] - 11s 3ms/step - loss: 0.0128 - my_metric_fn: 0.0010\n",
            "Epoch 6/20\n",
            "3757/3757 [==============================] - 12s 3ms/step - loss: 0.0128 - my_metric_fn: 7.4495e-04\n",
            "2813/2813 [==============================] - 6s 2ms/step - loss: 0.0156 - my_metric_fn: 0.0060\n",
            "[0.01563636213541031, 0.006043592002242804]\n",
            "2813/2813 [==============================] - 5s 2ms/step\n",
            "\n",
            "Epoch 1/20\n",
            "3757/3757 [==============================] - 10s 2ms/step - loss: 0.0128 - my_metric_fn: 8.8870e-04\n",
            "Epoch 2/20\n",
            "3757/3757 [==============================] - 11s 3ms/step - loss: 0.0128 - my_metric_fn: 7.2096e-04\n",
            "Epoch 3/20\n",
            "3757/3757 [==============================] - 11s 3ms/step - loss: 0.0128 - my_metric_fn: 8.5176e-04\n",
            "2813/2813 [==============================] - 6s 2ms/step - loss: 0.0158 - my_metric_fn: -0.0035\n",
            "[0.015795275568962097, -0.003467801259830594]\n",
            "2813/2813 [==============================] - 6s 2ms/step\n",
            "\n",
            "Epoch 1/20\n",
            "3757/3757 [==============================] - 12s 3ms/step - loss: 0.0128 - my_metric_fn: 8.5767e-04\n",
            "Epoch 2/20\n",
            "3757/3757 [==============================] - 10s 3ms/step - loss: 0.0128 - my_metric_fn: 5.6884e-04\n",
            "Epoch 3/20\n",
            "3757/3757 [==============================] - 11s 3ms/step - loss: 0.0128 - my_metric_fn: 5.8715e-04\n",
            "Epoch 4/20\n",
            "3757/3757 [==============================] - 12s 3ms/step - loss: 0.0128 - my_metric_fn: 6.6216e-04\n",
            "Epoch 5/20\n",
            "3757/3757 [==============================] - 12s 3ms/step - loss: 0.0128 - my_metric_fn: 9.7331e-04\n",
            "Epoch 6/20\n",
            "3757/3757 [==============================] - 11s 3ms/step - loss: 0.0128 - my_metric_fn: 8.8561e-04\n",
            "Epoch 7/20\n",
            "3757/3757 [==============================] - 11s 3ms/step - loss: 0.0128 - my_metric_fn: 7.7698e-04\n",
            "Epoch 8/20\n",
            "3757/3757 [==============================] - 11s 3ms/step - loss: 0.0128 - my_metric_fn: 7.9729e-04\n",
            "2813/2813 [==============================] - 6s 2ms/step - loss: 0.0157 - my_metric_fn: 0.0043\n",
            "[0.01570163667201996, 0.004253182094544172]\n",
            "2813/2813 [==============================] - 5s 2ms/step\n",
            "\n",
            "Epoch 1/20\n",
            "3757/3757 [==============================] - 11s 3ms/step - loss: 0.0128 - my_metric_fn: 8.3792e-04\n",
            "Epoch 2/20\n",
            "3757/3757 [==============================] - 11s 3ms/step - loss: 0.0128 - my_metric_fn: 6.6031e-04\n",
            "Epoch 3/20\n",
            "3757/3757 [==============================] - 11s 3ms/step - loss: 0.0128 - my_metric_fn: 6.8523e-04\n",
            "2813/2813 [==============================] - 6s 2ms/step - loss: 0.0157 - my_metric_fn: 0.0056\n",
            "[0.015681536868214607, 0.005610120017081499]\n",
            "2813/2813 [==============================] - 7s 2ms/step\n",
            "\n",
            "Epoch 1/20\n",
            "3757/3757 [==============================] - 11s 3ms/step - loss: 0.0128 - my_metric_fn: 6.8542e-04\n",
            "Epoch 2/20\n",
            "3757/3757 [==============================] - 10s 3ms/step - loss: 0.0128 - my_metric_fn: 9.1232e-04\n",
            "Epoch 3/20\n",
            "3757/3757 [==============================] - 12s 3ms/step - loss: 0.0128 - my_metric_fn: 6.1027e-04\n",
            "Epoch 4/20\n",
            "3757/3757 [==============================] - 12s 3ms/step - loss: 0.0128 - my_metric_fn: 6.6791e-04\n",
            "2813/2813 [==============================] - 5s 2ms/step - loss: 0.0157 - my_metric_fn: 0.0046\n",
            "[0.015696758404374123, 0.004600524436682463]\n",
            "2813/2813 [==============================] - 6s 2ms/step\n",
            "\n",
            "Epoch 1/20\n",
            "3757/3757 [==============================] - 10s 3ms/step - loss: 0.0128 - my_metric_fn: 8.4342e-04\n",
            "Epoch 2/20\n",
            "3757/3757 [==============================] - 18s 5ms/step - loss: 0.0128 - my_metric_fn: 7.8269e-04\n",
            "Epoch 3/20\n",
            "3757/3757 [==============================] - 10s 3ms/step - loss: 0.0128 - my_metric_fn: 9.4558e-04\n",
            "2813/2813 [==============================] - 6s 2ms/step - loss: 0.0156 - my_metric_fn: 0.0069\n",
            "[0.01564006321132183, 0.006865935865789652]\n",
            "2813/2813 [==============================] - 5s 2ms/step\n",
            "\n",
            "Epoch 1/20\n",
            "3757/3757 [==============================] - 11s 3ms/step - loss: 0.0128 - my_metric_fn: 6.3348e-04\n",
            "Epoch 2/20\n",
            "3757/3757 [==============================] - 10s 3ms/step - loss: 0.0128 - my_metric_fn: 9.5085e-04\n",
            "Epoch 3/20\n",
            "3757/3757 [==============================] - 11s 3ms/step - loss: 0.0128 - my_metric_fn: 5.5257e-04\n",
            "Epoch 4/20\n",
            "3757/3757 [==============================] - 12s 3ms/step - loss: 0.0128 - my_metric_fn: 4.5864e-04\n",
            "2813/2813 [==============================] - 6s 2ms/step - loss: 0.0157 - my_metric_fn: 0.0049\n",
            "[0.01569296233355999, 0.004865508992224932]\n",
            "2813/2813 [==============================] - 6s 2ms/step\n",
            "\n",
            "Epoch 1/20\n",
            "3757/3757 [==============================] - 11s 3ms/step - loss: 0.0128 - my_metric_fn: 7.2209e-04\n",
            "Epoch 2/20\n",
            "3757/3757 [==============================] - 10s 3ms/step - loss: 0.0128 - my_metric_fn: 0.0010\n",
            "Epoch 3/20\n",
            "3757/3757 [==============================] - 11s 3ms/step - loss: 0.0128 - my_metric_fn: 7.3365e-04\n",
            "Epoch 4/20\n",
            "3757/3757 [==============================] - 11s 3ms/step - loss: 0.0128 - my_metric_fn: 6.2135e-04\n",
            "Epoch 5/20\n",
            "3757/3757 [==============================] - 11s 3ms/step - loss: 0.0128 - my_metric_fn: 0.0013\n",
            "2813/2813 [==============================] - 6s 2ms/step - loss: 0.0157 - my_metric_fn: 0.0044\n",
            "[0.015699278563261032, 0.004422152880579233]\n",
            "2813/2813 [==============================] - 5s 2ms/step\n",
            "\n"
          ]
        }
      ],
      "source": [
        "seed_list = [458, 165, 530, 564, 590, 560, 829, 170, 376, 176]\n",
        "yhat_df = pd.DataFrame()\n",
        "# 10 Trials for Prediction\n",
        "merged_train_macro_all = np.concatenate((merged_train_macro, merged_val_macro))\n",
        "merged_train_firm_all = np.concatenate((merged_train_firm, merged_val_firm))\n",
        "merged_y_all = np.concatenate((merged_train_y, merged_val_y))\n",
        "\n",
        "for random_seed in seed_list:\n",
        "    random.seed(random_seed)\n",
        "    np.random.seed(random_seed)\n",
        "    tf.random.set_seed(random_seed)\n",
        "\n",
        "    model2.fit(x=[merged_train_macro_all, merged_train_firm_all], y=merged_y_all, epochs=20,\n",
        "              callbacks=[keras.callbacks.EarlyStopping(monitor='loss',mode='min', patience=2)])\n",
        "    print(model2.evaluate([merged_test_macro, merged_test_firm], merged_test_y))\n",
        "    y_hat = model2.predict([merged_test_macro, merged_test_firm]).reshape(-1)\n",
        "    yhat_df[random_seed] = y_hat\n",
        "    print()"
      ]
    },
    {
      "cell_type": "code",
      "execution_count": null,
      "metadata": {
        "colab": {
          "base_uri": "https://localhost:8080/",
          "height": 424
        },
        "id": "Bf-T-m6Jac6Q",
        "outputId": "3bdfe7a9-1708-46e3-8048-09752baf60a1"
      },
      "outputs": [
        {
          "data": {
            "text/html": [
              "\n",
              "  <div id=\"df-89dc2213-e7d4-48ec-862e-99f44044fd16\" class=\"colab-df-container\">\n",
              "    <div>\n",
              "<style scoped>\n",
              "    .dataframe tbody tr th:only-of-type {\n",
              "        vertical-align: middle;\n",
              "    }\n",
              "\n",
              "    .dataframe tbody tr th {\n",
              "        vertical-align: top;\n",
              "    }\n",
              "\n",
              "    .dataframe thead th {\n",
              "        text-align: right;\n",
              "    }\n",
              "</style>\n",
              "<table border=\"1\" class=\"dataframe\">\n",
              "  <thead>\n",
              "    <tr style=\"text-align: right;\">\n",
              "      <th></th>\n",
              "      <th>458</th>\n",
              "      <th>165</th>\n",
              "      <th>530</th>\n",
              "      <th>564</th>\n",
              "      <th>590</th>\n",
              "      <th>560</th>\n",
              "      <th>829</th>\n",
              "      <th>170</th>\n",
              "      <th>376</th>\n",
              "      <th>176</th>\n",
              "    </tr>\n",
              "  </thead>\n",
              "  <tbody>\n",
              "    <tr>\n",
              "      <th>0</th>\n",
              "      <td>0.008891</td>\n",
              "      <td>0.001587</td>\n",
              "      <td>0.010612</td>\n",
              "      <td>-0.001676</td>\n",
              "      <td>0.002848</td>\n",
              "      <td>0.004204</td>\n",
              "      <td>0.003156</td>\n",
              "      <td>0.00899</td>\n",
              "      <td>0.003406</td>\n",
              "      <td>0.002995</td>\n",
              "    </tr>\n",
              "    <tr>\n",
              "      <th>1</th>\n",
              "      <td>0.008891</td>\n",
              "      <td>0.001587</td>\n",
              "      <td>0.010612</td>\n",
              "      <td>-0.001676</td>\n",
              "      <td>0.002848</td>\n",
              "      <td>0.004204</td>\n",
              "      <td>0.003156</td>\n",
              "      <td>0.00899</td>\n",
              "      <td>0.003406</td>\n",
              "      <td>0.002995</td>\n",
              "    </tr>\n",
              "    <tr>\n",
              "      <th>2</th>\n",
              "      <td>0.008891</td>\n",
              "      <td>0.001587</td>\n",
              "      <td>0.010612</td>\n",
              "      <td>-0.001676</td>\n",
              "      <td>0.002848</td>\n",
              "      <td>0.004204</td>\n",
              "      <td>0.003156</td>\n",
              "      <td>0.00899</td>\n",
              "      <td>0.003406</td>\n",
              "      <td>0.002995</td>\n",
              "    </tr>\n",
              "    <tr>\n",
              "      <th>3</th>\n",
              "      <td>0.008891</td>\n",
              "      <td>0.001587</td>\n",
              "      <td>0.010612</td>\n",
              "      <td>-0.001676</td>\n",
              "      <td>0.002848</td>\n",
              "      <td>0.004204</td>\n",
              "      <td>0.003156</td>\n",
              "      <td>0.00899</td>\n",
              "      <td>0.003406</td>\n",
              "      <td>0.002995</td>\n",
              "    </tr>\n",
              "    <tr>\n",
              "      <th>4</th>\n",
              "      <td>0.008891</td>\n",
              "      <td>0.001587</td>\n",
              "      <td>0.010612</td>\n",
              "      <td>-0.001676</td>\n",
              "      <td>0.002848</td>\n",
              "      <td>0.004204</td>\n",
              "      <td>0.003156</td>\n",
              "      <td>0.00899</td>\n",
              "      <td>0.003406</td>\n",
              "      <td>0.002995</td>\n",
              "    </tr>\n",
              "    <tr>\n",
              "      <th>...</th>\n",
              "      <td>...</td>\n",
              "      <td>...</td>\n",
              "      <td>...</td>\n",
              "      <td>...</td>\n",
              "      <td>...</td>\n",
              "      <td>...</td>\n",
              "      <td>...</td>\n",
              "      <td>...</td>\n",
              "      <td>...</td>\n",
              "      <td>...</td>\n",
              "    </tr>\n",
              "    <tr>\n",
              "      <th>90002</th>\n",
              "      <td>0.008891</td>\n",
              "      <td>0.001587</td>\n",
              "      <td>0.010612</td>\n",
              "      <td>-0.001676</td>\n",
              "      <td>0.002848</td>\n",
              "      <td>0.004204</td>\n",
              "      <td>0.003156</td>\n",
              "      <td>0.00899</td>\n",
              "      <td>0.003406</td>\n",
              "      <td>0.002995</td>\n",
              "    </tr>\n",
              "    <tr>\n",
              "      <th>90003</th>\n",
              "      <td>0.008891</td>\n",
              "      <td>0.001587</td>\n",
              "      <td>0.010612</td>\n",
              "      <td>-0.001676</td>\n",
              "      <td>0.002848</td>\n",
              "      <td>0.004204</td>\n",
              "      <td>0.003156</td>\n",
              "      <td>0.00899</td>\n",
              "      <td>0.003406</td>\n",
              "      <td>0.002995</td>\n",
              "    </tr>\n",
              "    <tr>\n",
              "      <th>90004</th>\n",
              "      <td>0.008891</td>\n",
              "      <td>0.001587</td>\n",
              "      <td>0.010612</td>\n",
              "      <td>-0.001676</td>\n",
              "      <td>0.002848</td>\n",
              "      <td>0.004204</td>\n",
              "      <td>0.003156</td>\n",
              "      <td>0.00899</td>\n",
              "      <td>0.003406</td>\n",
              "      <td>0.002995</td>\n",
              "    </tr>\n",
              "    <tr>\n",
              "      <th>90005</th>\n",
              "      <td>0.008891</td>\n",
              "      <td>0.001587</td>\n",
              "      <td>0.010612</td>\n",
              "      <td>-0.001676</td>\n",
              "      <td>0.002848</td>\n",
              "      <td>0.004204</td>\n",
              "      <td>0.003156</td>\n",
              "      <td>0.00899</td>\n",
              "      <td>0.003406</td>\n",
              "      <td>0.002995</td>\n",
              "    </tr>\n",
              "    <tr>\n",
              "      <th>90006</th>\n",
              "      <td>0.008891</td>\n",
              "      <td>0.001587</td>\n",
              "      <td>0.010612</td>\n",
              "      <td>-0.001676</td>\n",
              "      <td>0.002848</td>\n",
              "      <td>0.004204</td>\n",
              "      <td>0.003156</td>\n",
              "      <td>0.00899</td>\n",
              "      <td>0.003406</td>\n",
              "      <td>0.002995</td>\n",
              "    </tr>\n",
              "  </tbody>\n",
              "</table>\n",
              "<p>90007 rows × 10 columns</p>\n",
              "</div>\n",
              "    <div class=\"colab-df-buttons\">\n",
              "\n",
              "  <div class=\"colab-df-container\">\n",
              "    <button class=\"colab-df-convert\" onclick=\"convertToInteractive('df-89dc2213-e7d4-48ec-862e-99f44044fd16')\"\n",
              "            title=\"Convert this dataframe to an interactive table.\"\n",
              "            style=\"display:none;\">\n",
              "\n",
              "  <svg xmlns=\"http://www.w3.org/2000/svg\" height=\"24px\" viewBox=\"0 -960 960 960\">\n",
              "    <path d=\"M120-120v-720h720v720H120Zm60-500h600v-160H180v160Zm220 220h160v-160H400v160Zm0 220h160v-160H400v160ZM180-400h160v-160H180v160Zm440 0h160v-160H620v160ZM180-180h160v-160H180v160Zm440 0h160v-160H620v160Z\"/>\n",
              "  </svg>\n",
              "    </button>\n",
              "\n",
              "  <style>\n",
              "    .colab-df-container {\n",
              "      display:flex;\n",
              "      gap: 12px;\n",
              "    }\n",
              "\n",
              "    .colab-df-convert {\n",
              "      background-color: #E8F0FE;\n",
              "      border: none;\n",
              "      border-radius: 50%;\n",
              "      cursor: pointer;\n",
              "      display: none;\n",
              "      fill: #1967D2;\n",
              "      height: 32px;\n",
              "      padding: 0 0 0 0;\n",
              "      width: 32px;\n",
              "    }\n",
              "\n",
              "    .colab-df-convert:hover {\n",
              "      background-color: #E2EBFA;\n",
              "      box-shadow: 0px 1px 2px rgba(60, 64, 67, 0.3), 0px 1px 3px 1px rgba(60, 64, 67, 0.15);\n",
              "      fill: #174EA6;\n",
              "    }\n",
              "\n",
              "    .colab-df-buttons div {\n",
              "      margin-bottom: 4px;\n",
              "    }\n",
              "\n",
              "    [theme=dark] .colab-df-convert {\n",
              "      background-color: #3B4455;\n",
              "      fill: #D2E3FC;\n",
              "    }\n",
              "\n",
              "    [theme=dark] .colab-df-convert:hover {\n",
              "      background-color: #434B5C;\n",
              "      box-shadow: 0px 1px 3px 1px rgba(0, 0, 0, 0.15);\n",
              "      filter: drop-shadow(0px 1px 2px rgba(0, 0, 0, 0.3));\n",
              "      fill: #FFFFFF;\n",
              "    }\n",
              "  </style>\n",
              "\n",
              "    <script>\n",
              "      const buttonEl =\n",
              "        document.querySelector('#df-89dc2213-e7d4-48ec-862e-99f44044fd16 button.colab-df-convert');\n",
              "      buttonEl.style.display =\n",
              "        google.colab.kernel.accessAllowed ? 'block' : 'none';\n",
              "\n",
              "      async function convertToInteractive(key) {\n",
              "        const element = document.querySelector('#df-89dc2213-e7d4-48ec-862e-99f44044fd16');\n",
              "        const dataTable =\n",
              "          await google.colab.kernel.invokeFunction('convertToInteractive',\n",
              "                                                    [key], {});\n",
              "        if (!dataTable) return;\n",
              "\n",
              "        const docLinkHtml = 'Like what you see? Visit the ' +\n",
              "          '<a target=\"_blank\" href=https://colab.research.google.com/notebooks/data_table.ipynb>data table notebook</a>'\n",
              "          + ' to learn more about interactive tables.';\n",
              "        element.innerHTML = '';\n",
              "        dataTable['output_type'] = 'display_data';\n",
              "        await google.colab.output.renderOutput(dataTable, element);\n",
              "        const docLink = document.createElement('div');\n",
              "        docLink.innerHTML = docLinkHtml;\n",
              "        element.appendChild(docLink);\n",
              "      }\n",
              "    </script>\n",
              "  </div>\n",
              "\n",
              "\n",
              "<div id=\"df-41566d95-463b-4377-8bb0-0b1bdd262ad3\">\n",
              "  <button class=\"colab-df-quickchart\" onclick=\"quickchart('df-41566d95-463b-4377-8bb0-0b1bdd262ad3')\"\n",
              "            title=\"Suggest charts.\"\n",
              "            style=\"display:none;\">\n",
              "\n",
              "<svg xmlns=\"http://www.w3.org/2000/svg\" height=\"24px\"viewBox=\"0 0 24 24\"\n",
              "     width=\"24px\">\n",
              "    <g>\n",
              "        <path d=\"M19 3H5c-1.1 0-2 .9-2 2v14c0 1.1.9 2 2 2h14c1.1 0 2-.9 2-2V5c0-1.1-.9-2-2-2zM9 17H7v-7h2v7zm4 0h-2V7h2v10zm4 0h-2v-4h2v4z\"/>\n",
              "    </g>\n",
              "</svg>\n",
              "  </button>\n",
              "\n",
              "<style>\n",
              "  .colab-df-quickchart {\n",
              "      --bg-color: #E8F0FE;\n",
              "      --fill-color: #1967D2;\n",
              "      --hover-bg-color: #E2EBFA;\n",
              "      --hover-fill-color: #174EA6;\n",
              "      --disabled-fill-color: #AAA;\n",
              "      --disabled-bg-color: #DDD;\n",
              "  }\n",
              "\n",
              "  [theme=dark] .colab-df-quickchart {\n",
              "      --bg-color: #3B4455;\n",
              "      --fill-color: #D2E3FC;\n",
              "      --hover-bg-color: #434B5C;\n",
              "      --hover-fill-color: #FFFFFF;\n",
              "      --disabled-bg-color: #3B4455;\n",
              "      --disabled-fill-color: #666;\n",
              "  }\n",
              "\n",
              "  .colab-df-quickchart {\n",
              "    background-color: var(--bg-color);\n",
              "    border: none;\n",
              "    border-radius: 50%;\n",
              "    cursor: pointer;\n",
              "    display: none;\n",
              "    fill: var(--fill-color);\n",
              "    height: 32px;\n",
              "    padding: 0;\n",
              "    width: 32px;\n",
              "  }\n",
              "\n",
              "  .colab-df-quickchart:hover {\n",
              "    background-color: var(--hover-bg-color);\n",
              "    box-shadow: 0 1px 2px rgba(60, 64, 67, 0.3), 0 1px 3px 1px rgba(60, 64, 67, 0.15);\n",
              "    fill: var(--button-hover-fill-color);\n",
              "  }\n",
              "\n",
              "  .colab-df-quickchart-complete:disabled,\n",
              "  .colab-df-quickchart-complete:disabled:hover {\n",
              "    background-color: var(--disabled-bg-color);\n",
              "    fill: var(--disabled-fill-color);\n",
              "    box-shadow: none;\n",
              "  }\n",
              "\n",
              "  .colab-df-spinner {\n",
              "    border: 2px solid var(--fill-color);\n",
              "    border-color: transparent;\n",
              "    border-bottom-color: var(--fill-color);\n",
              "    animation:\n",
              "      spin 1s steps(1) infinite;\n",
              "  }\n",
              "\n",
              "  @keyframes spin {\n",
              "    0% {\n",
              "      border-color: transparent;\n",
              "      border-bottom-color: var(--fill-color);\n",
              "      border-left-color: var(--fill-color);\n",
              "    }\n",
              "    20% {\n",
              "      border-color: transparent;\n",
              "      border-left-color: var(--fill-color);\n",
              "      border-top-color: var(--fill-color);\n",
              "    }\n",
              "    30% {\n",
              "      border-color: transparent;\n",
              "      border-left-color: var(--fill-color);\n",
              "      border-top-color: var(--fill-color);\n",
              "      border-right-color: var(--fill-color);\n",
              "    }\n",
              "    40% {\n",
              "      border-color: transparent;\n",
              "      border-right-color: var(--fill-color);\n",
              "      border-top-color: var(--fill-color);\n",
              "    }\n",
              "    60% {\n",
              "      border-color: transparent;\n",
              "      border-right-color: var(--fill-color);\n",
              "    }\n",
              "    80% {\n",
              "      border-color: transparent;\n",
              "      border-right-color: var(--fill-color);\n",
              "      border-bottom-color: var(--fill-color);\n",
              "    }\n",
              "    90% {\n",
              "      border-color: transparent;\n",
              "      border-bottom-color: var(--fill-color);\n",
              "    }\n",
              "  }\n",
              "</style>\n",
              "\n",
              "  <script>\n",
              "    async function quickchart(key) {\n",
              "      const quickchartButtonEl =\n",
              "        document.querySelector('#' + key + ' button');\n",
              "      quickchartButtonEl.disabled = true;  // To prevent multiple clicks.\n",
              "      quickchartButtonEl.classList.add('colab-df-spinner');\n",
              "      try {\n",
              "        const charts = await google.colab.kernel.invokeFunction(\n",
              "            'suggestCharts', [key], {});\n",
              "      } catch (error) {\n",
              "        console.error('Error during call to suggestCharts:', error);\n",
              "      }\n",
              "      quickchartButtonEl.classList.remove('colab-df-spinner');\n",
              "      quickchartButtonEl.classList.add('colab-df-quickchart-complete');\n",
              "    }\n",
              "    (() => {\n",
              "      let quickchartButtonEl =\n",
              "        document.querySelector('#df-41566d95-463b-4377-8bb0-0b1bdd262ad3 button');\n",
              "      quickchartButtonEl.style.display =\n",
              "        google.colab.kernel.accessAllowed ? 'block' : 'none';\n",
              "    })();\n",
              "  </script>\n",
              "</div>\n",
              "    </div>\n",
              "  </div>\n"
            ],
            "text/plain": [
              "            458       165       530       564       590       560       829  \\\n",
              "0      0.008891  0.001587  0.010612 -0.001676  0.002848  0.004204  0.003156   \n",
              "1      0.008891  0.001587  0.010612 -0.001676  0.002848  0.004204  0.003156   \n",
              "2      0.008891  0.001587  0.010612 -0.001676  0.002848  0.004204  0.003156   \n",
              "3      0.008891  0.001587  0.010612 -0.001676  0.002848  0.004204  0.003156   \n",
              "4      0.008891  0.001587  0.010612 -0.001676  0.002848  0.004204  0.003156   \n",
              "...         ...       ...       ...       ...       ...       ...       ...   \n",
              "90002  0.008891  0.001587  0.010612 -0.001676  0.002848  0.004204  0.003156   \n",
              "90003  0.008891  0.001587  0.010612 -0.001676  0.002848  0.004204  0.003156   \n",
              "90004  0.008891  0.001587  0.010612 -0.001676  0.002848  0.004204  0.003156   \n",
              "90005  0.008891  0.001587  0.010612 -0.001676  0.002848  0.004204  0.003156   \n",
              "90006  0.008891  0.001587  0.010612 -0.001676  0.002848  0.004204  0.003156   \n",
              "\n",
              "           170       376       176  \n",
              "0      0.00899  0.003406  0.002995  \n",
              "1      0.00899  0.003406  0.002995  \n",
              "2      0.00899  0.003406  0.002995  \n",
              "3      0.00899  0.003406  0.002995  \n",
              "4      0.00899  0.003406  0.002995  \n",
              "...        ...       ...       ...  \n",
              "90002  0.00899  0.003406  0.002995  \n",
              "90003  0.00899  0.003406  0.002995  \n",
              "90004  0.00899  0.003406  0.002995  \n",
              "90005  0.00899  0.003406  0.002995  \n",
              "90006  0.00899  0.003406  0.002995  \n",
              "\n",
              "[90007 rows x 10 columns]"
            ]
          },
          "execution_count": 17,
          "metadata": {},
          "output_type": "execute_result"
        }
      ],
      "source": [
        "yhat_df"
      ]
    },
    {
      "cell_type": "code",
      "execution_count": null,
      "metadata": {
        "colab": {
          "base_uri": "https://localhost:8080/"
        },
        "id": "X6mde3fgZJ3H",
        "outputId": "e5a45391-179e-4ef4-9cf5-e166d97042a6"
      },
      "outputs": [
        {
          "name": "stdout",
          "output_type": "stream",
          "text": [
            "0.004926950787370377\n"
          ]
        }
      ],
      "source": [
        "# Print out Predictive R^2\n",
        "y_predict = yhat_df.mean(axis=1).values.reshape(-1)\n",
        "y_real = merged_test_y\n",
        "\n",
        "a = np.mean(np.square(y_predict -  y_real))\n",
        "b = np.mean(np.square(y_real))\n",
        "print(1-a/b)"
      ]
    },
    {
      "cell_type": "code",
      "execution_count": null,
      "metadata": {
        "colab": {
          "base_uri": "https://localhost:8080/"
        },
        "id": "0wrlAy3ASUP3",
        "outputId": "fbd92a8f-a9aa-4e2c-c9e8-099f32ec25b3"
      },
      "outputs": [
        {
          "name": "stdout",
          "output_type": "stream",
          "text": [
            "0.006030776913818592\n"
          ]
        }
      ],
      "source": [
        "# Print out Predictive R^2\n",
        "y_predict = yhat_df.mean(axis=1).values.reshape(-1)\n",
        "y_real = merged_test_y\n",
        "\n",
        "a = np.mean(np.square(y_predict -  y_real))\n",
        "b = np.mean(np.square(y_real))\n",
        "print(1-a/b)"
      ]
    },
    {
      "cell_type": "code",
      "execution_count": null,
      "metadata": {
        "id": "y59tQcwZSUNO"
      },
      "outputs": [],
      "source": []
    },
    {
      "cell_type": "code",
      "execution_count": null,
      "metadata": {
        "id": "ITaCu5KDSUKc"
      },
      "outputs": [],
      "source": []
    },
    {
      "cell_type": "code",
      "execution_count": null,
      "metadata": {
        "id": "kQ-w8sd_SUHU"
      },
      "outputs": [],
      "source": []
    },
    {
      "cell_type": "code",
      "execution_count": null,
      "metadata": {
        "id": "JP9EuNS4SUEG"
      },
      "outputs": [],
      "source": []
    },
    {
      "cell_type": "code",
      "execution_count": null,
      "metadata": {
        "colab": {
          "base_uri": "https://localhost:8080/"
        },
        "id": "R23x5YLOBfY9",
        "outputId": "599e05ff-305e-4cb7-e2fc-e932c1301148"
      },
      "outputs": [
        {
          "name": "stdout",
          "output_type": "stream",
          "text": [
            "(120198, 49) (120198, 134) (120198,)\n",
            "(90007, 49) (90007, 134) (90007,)\n"
          ]
        }
      ],
      "source": [
        "merged_train = merged_df[:120198]\n",
        "merged_test = merged_df[120198:]\n",
        "\n",
        "merged_train_firm = merged_train[char_core]\n",
        "merged_train_macro = merged_train[macro_col]\n",
        "merged_train_y = merged_train['predicted_return']\n",
        "\n",
        "merged_test_firm = merged_test[char_core]\n",
        "merged_test_macro = merged_test[macro_col]\n",
        "merged_test_y = merged_test['predicted_return']\n",
        "\n",
        "print(merged_train_firm.shape, merged_train_macro.shape, merged_train_y.shape)\n",
        "print(merged_test_firm.shape, merged_test_macro.shape, merged_test_y.shape)"
      ]
    },
    {
      "cell_type": "code",
      "execution_count": null,
      "metadata": {
        "colab": {
          "base_uri": "https://localhost:8080/"
        },
        "id": "8iHmXZOsBfUn",
        "outputId": "1043d864-de22-4324-a67b-93f832177757"
      },
      "outputs": [
        {
          "name": "stdout",
          "output_type": "stream",
          "text": [
            "Model: \"model_5\"\n",
            "__________________________________________________________________________________________________\n",
            " Layer (type)                Output Shape                 Param #   Connected to                  \n",
            "==================================================================================================\n",
            " input_11 (InputLayer)       [(None, 134)]                0         []                            \n",
            "                                                                                                  \n",
            " dense_30 (Dense)            (None, 128)                  17280     ['input_11[0][0]']            \n",
            "                                                                                                  \n",
            " dense_31 (Dense)            (None, 64)                   8256      ['dense_30[0][0]']            \n",
            "                                                                                                  \n",
            " dense_32 (Dense)            (None, 49)                   3185      ['dense_31[0][0]']            \n",
            "                                                                                                  \n",
            " input_12 (InputLayer)       [(None, 49)]                 0         []                            \n",
            "                                                                                                  \n",
            " multiply_5 (Multiply)       (None, 49)                   0         ['dense_32[0][0]',            \n",
            "                                                                     'input_12[0][0]']            \n",
            "                                                                                                  \n",
            " dense_33 (Dense)            (None, 32)                   1600      ['multiply_5[0][0]']          \n",
            "                                                                                                  \n",
            " dense_34 (Dense)            (None, 16)                   528       ['dense_33[0][0]']            \n",
            "                                                                                                  \n",
            " dense_35 (Dense)            (None, 1)                    17        ['dense_34[0][0]']            \n",
            "                                                                                                  \n",
            "==================================================================================================\n",
            "Total params: 30866 (120.57 KB)\n",
            "Trainable params: 30866 (120.57 KB)\n",
            "Non-trainable params: 0 (0.00 Byte)\n",
            "__________________________________________________________________________________________________\n"
          ]
        }
      ],
      "source": [
        "def multi_input_model():\n",
        "  # Define the first input with 134 features\n",
        "  input1 = Input(shape=(134,))\n",
        "\n",
        "  # Define the first branch of the network\n",
        "  x1 = Dense(128, activation='relu')(input1)\n",
        "  x1 = Dense(64, activation='relu')(x1)\n",
        "  x1 = Dense(49, activation='relu')(x1)\n",
        "\n",
        "  # Define the second input with 49 features\n",
        "  input2 = Input(shape=(49,))\n",
        "\n",
        "  # Multiply the outputs of the first branch and the second input element-wise\n",
        "  merged = Multiply()([x1, input2])\n",
        "\n",
        "  # Create the second branch of the network\n",
        "  x2 = Dense(32, activation='relu')(merged)\n",
        "  x2 = Dense(16, activation='relu')(x2)\n",
        "  output = Dense(1, activation='linear')(x2)\n",
        "\n",
        "  # Create the model with two inputs and one output\n",
        "  model = Model(inputs=[input1, input2], outputs=output)\n",
        "\n",
        "  # Compile the model (you can adjust the optimizer and loss function as needed)\n",
        "  model.compile(optimizer='adam', loss='mean_squared_error')\n",
        "\n",
        "  return model\n",
        "\n",
        "model = multi_input_model()\n",
        "model.summary()"
      ]
    },
    {
      "cell_type": "code",
      "execution_count": null,
      "metadata": {
        "colab": {
          "base_uri": "https://localhost:8080/"
        },
        "id": "Z4Wjv9KPHW6y",
        "outputId": "2594d887-c9c5-483b-f783-e35b56c6d85d"
      },
      "outputs": [
        {
          "name": "stdout",
          "output_type": "stream",
          "text": [
            "(120198, 49) (120198, 134) (120198,)\n",
            "Epoch 1/10\n",
            "940/940 [==============================] - 6s 5ms/step - loss: 0.0178\n",
            "Epoch 2/10\n",
            "940/940 [==============================] - 4s 5ms/step - loss: 0.0127\n",
            "Epoch 3/10\n",
            "940/940 [==============================] - 3s 4ms/step - loss: 0.0125\n",
            "Epoch 4/10\n",
            "940/940 [==============================] - 3s 4ms/step - loss: 0.0124\n",
            "Epoch 5/10\n",
            "940/940 [==============================] - 5s 5ms/step - loss: 0.0122\n",
            "Epoch 6/10\n",
            "940/940 [==============================] - 4s 4ms/step - loss: 0.0122\n",
            "Epoch 7/10\n",
            "940/940 [==============================] - 4s 4ms/step - loss: 0.0121\n",
            "Epoch 8/10\n",
            "940/940 [==============================] - 3s 4ms/step - loss: 0.0121\n",
            "Epoch 9/10\n",
            "940/940 [==============================] - 5s 5ms/step - loss: 0.0121\n",
            "Epoch 10/10\n",
            "940/940 [==============================] - 4s 4ms/step - loss: 0.0120\n",
            "2813/2813 [==============================] - 5s 2ms/step - loss: 0.0165\n",
            "Test Loss: 0.016530562192201614\n",
            "2813/2813 [==============================] - 7s 2ms/step\n",
            "-0.04920983307311544\n"
          ]
        }
      ],
      "source": [
        "print(merged_train_firm.shape, merged_train_macro.shape, merged_train_y.shape)\n",
        "random_seed = 1120\n",
        "random.seed(random_seed)\n",
        "np.random.seed(random_seed)\n",
        "tf.random.set_seed(random_seed)\n",
        "\n",
        "# Create the model\n",
        "model = multi_input_model()\n",
        "\n",
        "# Fit the model to your training data\n",
        "model.fit([merged_train_macro, merged_train_firm], merged_train_y, epochs=10, batch_size=128)  # You can adjust the number of epochs and batch size\n",
        "# Evaluate the model on your test data\n",
        "loss = model.evaluate([merged_test_macro, merged_test_firm], merged_test_y,)\n",
        "print(\"Test Loss:\", loss)\n",
        "yhat = model.predict([merged_test_macro, merged_test_firm])\n",
        "\n",
        "# Print out Predictive R^2\n",
        "y_predict = yhat.reshape(-1)\n",
        "y_real = merged_test_y\n",
        "\n",
        "a = np.mean(np.square(y_predict -  y_real))\n",
        "b = np.mean(np.square(y_real))\n",
        "print(1-a/b)"
      ]
    },
    {
      "cell_type": "code",
      "execution_count": null,
      "metadata": {
        "colab": {
          "base_uri": "https://localhost:8080/"
        },
        "id": "P9_KpwTZHZq2",
        "outputId": "57f2f438-5d33-4b71-fa5d-de5478f43f40"
      },
      "outputs": [
        {
          "name": "stdout",
          "output_type": "stream",
          "text": [
            "2813/2813 [==============================] - 8s 3ms/step - loss: 0.0159\n",
            "Test Loss: 0.015909628942608833\n",
            "2813/2813 [==============================] - 19s 7ms/step\n",
            "-0.009797561384419007\n"
          ]
        }
      ],
      "source": [
        "# Evaluate the model on your test data\n",
        "loss = model.evaluate([merged_test_macro, merged_test_firm], merged_test_y,)\n",
        "print(\"Test Loss:\", loss)\n",
        "yhat = model.predict([merged_test_macro, merged_test_firm])\n",
        "\n",
        "# Print out Predictive R^2\n",
        "y_predict = yhat.reshape(-1)\n",
        "y_real = merged_test_y\n",
        "\n",
        "a = np.mean(np.square(y_predict -  y_real))\n",
        "b = np.mean(np.square(y_real))\n",
        "print(1-a/b)"
      ]
    },
    {
      "cell_type": "code",
      "execution_count": null,
      "metadata": {
        "id": "QkER7RuwHrri"
      },
      "outputs": [],
      "source": []
    },
    {
      "cell_type": "code",
      "execution_count": null,
      "metadata": {
        "id": "u4_OXmABHroU"
      },
      "outputs": [],
      "source": []
    },
    {
      "cell_type": "code",
      "execution_count": null,
      "metadata": {
        "id": "zAkS1xjtHrli"
      },
      "outputs": [],
      "source": []
    },
    {
      "cell_type": "code",
      "execution_count": null,
      "metadata": {
        "id": "LKHz_ShKHri6"
      },
      "outputs": [],
      "source": []
    },
    {
      "cell_type": "code",
      "execution_count": null,
      "metadata": {
        "id": "IQU0x1olHrbk"
      },
      "outputs": [],
      "source": []
    },
    {
      "cell_type": "code",
      "execution_count": null,
      "metadata": {
        "id": "bZ_RaoBu-xwH"
      },
      "outputs": [],
      "source": [
        "# HyperParameter Tuning\n",
        "class MyHyperModel(HyperModel):\n",
        "  def __init__(self,batch_size, random_seed=None,):\n",
        "    self.batch_size = batch_size\n",
        "    if random_seed is not None:\n",
        "      random.seed(random_seed)\n",
        "      np.random.seed(random_seed)\n",
        "      tf.random.set_seed(random_seed)\n",
        "\n",
        "  def my_metric_fn(self, y_true, y_pred):\n",
        "    num = tf.reduce_mean(tf.square(y_true - y_pred))\n",
        "    den = tf.reduce_mean(tf.square(y_true - tf.zeros_like(y_true)))\n",
        "    return 1 - num / den\n",
        "\n",
        "  def call_existing_code(self,):\n",
        "    # Define the first input with 134 features\n",
        "    input1 = Input(shape=(134,))\n",
        "    # Define the first branch of the network\n",
        "    x1 = Dense(128, activation='relu')(input1)\n",
        "    x1 = Dense(64, activation='relu')(x1)\n",
        "    x1 = Dense(49, activation='relu')(x1)\n",
        "    # Define the second input with 49 features\n",
        "    input2 = Input(shape=(49,))\n",
        "    # Multiply the outputs of the first branch and the second input element-wise\n",
        "    merged = Multiply()([x1, input2])\n",
        "    # Create the second branch of the network\n",
        "    x2 = Dense(32, activation='relu')(merged)\n",
        "    x2 = Dense(16, activation='relu')(x2)\n",
        "    output = Dense(1, activation='linear')(x2)\n",
        "    # Create the model with two inputs and one output\n",
        "    model = Model(inputs=[input1, input2], outputs=output)\n",
        "    # Compile the model (you can adjust the optimizer and loss function as needed)\n",
        "    model.compile(optimizer='adam', loss='mean_squared_error')\n",
        "    return model\n",
        "\n",
        "  def build(self, hp, *args, **kwargs):\n",
        "    #l1_reg = hp.Choice(\"l1_ratio\", self.l1_reg)\n",
        "    #l2_reg = hp.Choice(\"l2_ratio\", self.l2_reg)\n",
        "    #layer = hp.Choice(\"layer\", self.layer)\n",
        "    #dropout = hp.Choice(\"dropout\", self.dropout)\n",
        "    #lr = hp.Choice(\"learning_rate\", self.lr)\n",
        "    model = self.call_existing_code()\n",
        "    return model\n",
        "\n",
        "  def fit(self, hp, model, *args, **kwargs):\n",
        "    return model.fit(\n",
        "    *args,\n",
        "    batch_size=hp.Choice(\"batch_size\", self.batch_size),\n",
        "    epochs=self.epoch,\n",
        "    **kwargs,\n",
        "    )"
      ]
    },
    {
      "cell_type": "code",
      "execution_count": null,
      "metadata": {
        "colab": {
          "base_uri": "https://localhost:8080/"
        },
        "id": "rumYT2wEAMbC",
        "outputId": "47c00ae6-df93-4c36-d1bb-7885736d1dd7"
      },
      "outputs": [
        {
          "name": "stdout",
          "output_type": "stream",
          "text": [
            "Trial 1 Complete [00h 00m 01s]\n",
            "\n",
            "Best val_loss So Far: None\n",
            "Total elapsed time: 00h 00m 01s\n",
            "{'batch_size': 128}\n"
          ]
        }
      ],
      "source": [
        "random_seed = 1120\n",
        "tuner = kt.RandomSearch(\n",
        "    MyHyperModel(random_seed=random_seed, batch_size = [128,],),\n",
        "    objective=\"val_loss\",\n",
        "    max_trials=100,\n",
        "    directory=\"my_dir\",\n",
        "    overwrite=True,\n",
        "    project_name=\"tune_hypermodel\",\n",
        ")\n",
        "tuner.search([merged_train_macro, merged_train_firm], merged_train_y,\n",
        "             validation_data=([merged_val_macro, merged_val_firm], merged_val_y),\n",
        "       callbacks=[tf.keras.callbacks.EarlyStopping(monitor='val_loss', patience=5)])\n",
        "\n",
        "# Print best parameters\n",
        "best_hps = tuner.get_best_hyperparameters(5)\n",
        "hps1_dic = best_hps[0].values\n",
        "print(hps1_dic)"
      ]
    },
    {
      "cell_type": "markdown",
      "metadata": {
        "id": "GiRRW_et-E2C"
      },
      "source": []
    }
  ],
  "metadata": {
    "colab": {
      "provenance": []
    },
    "kernelspec": {
      "display_name": "Python 3",
      "name": "python3"
    },
    "language_info": {
      "codemirror_mode": {
        "name": "ipython",
        "version": 3
      },
      "file_extension": ".py",
      "mimetype": "text/x-python",
      "name": "python",
      "nbconvert_exporter": "python",
      "pygments_lexer": "ipython3",
      "version": "3.11.5"
    }
  },
  "nbformat": 4,
  "nbformat_minor": 0
}
