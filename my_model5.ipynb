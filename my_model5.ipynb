{
 "cells": [
  {
   "cell_type": "code",
   "execution_count": 5,
   "metadata": {},
   "outputs": [],
   "source": [
    "# Import Library\n",
    "import pandas as pd\n",
    "import numpy as np\n",
    "from keras.models import load_model\n",
    "import tensorflow as tf\n",
    "import numpy as np\n",
    "\n",
    "from sklearn import datasets, linear_model\n",
    "from sklearn.metrics import mean_squared_error"
   ]
  },
  {
   "cell_type": "code",
   "execution_count": 26,
   "metadata": {},
   "outputs": [],
   "source": [
    "# Import Dataset\n",
    "import pandas as pd\n",
    "path = 'dataset/'\n",
    "firm_df = pd.read_pickle(path+'firm_df49.pkl')\n",
    "firm_df.index = pd.to_datetime(firm_df.index).to_period('M')\n",
    "\n",
    "# macro-economic variables\n",
    "# There is one features which has 37 missing values but before year 1980\n",
    "macro_df = pd.read_pickle(path+'macro_df.pkl')\n",
    "macro_df.index = pd.to_datetime(macro_df.index, format='%m/%d/%Y')\n",
    "macro_df.rename(columns={\"ep\": \"ep_macro\"}, inplace=True)\n",
    "macro_index = macro_df.index[1:]\n",
    "macro_new = macro_df.iloc[:-1, :]\n",
    "macro_new.index = macro_index\n",
    "macro_new.index = macro_new.index.to_period('M')\n",
    "\n",
    "# Scale macro-features\n",
    "from sklearn.preprocessing import MinMaxScaler\n",
    "#scaler = MinMaxScaler(feature_range=(-0.5, 0.5))\n",
    "#macro_scaled = scaler.fit_transform(macro_new)\n",
    "#macro_scaled_df = pd.DataFrame(macro_scaled, columns=macro_new.columns)\n",
    "#macro_scaled_df.index = macro_new.index\n",
    "\n",
    "# merged data 1\n",
    "merged_df = pd.merge(firm_df, macro_new, left_on='jdate', right_on='sasdate', how='inner')\n",
    "merged_df.index = firm_df.index"
   ]
  },
  {
   "cell_type": "code",
   "execution_count": 27,
   "metadata": {},
   "outputs": [],
   "source": [
    "char_core = ['acc','agr','beta','bm','cash','cashpr','cfp','chatoia','chcsho','chfeps','chinv',\n",
    "       'chmom','chpmia','chtx','currat','depr','dy','ear','ep','gma','grcapx','grltnoa',\n",
    "       'ill','indmom','invest','lev','lgr','maxret','mom12m','mom1m','mom36m','mve','nincr',\n",
    "       'orgcap','pchgm_pchsale','pchsale_pchinvt','pchsale_pchrect','pchsale_pchxsga',\n",
    "       'retvol','roaq','roavol','roeq','salecash','saleinv','sgr','sp','std_dolvol','std_turn','turn']\n",
    "\n",
    "info_list = ['fyear','year','jyear','permno','ticker','comnam','exchcd','exchname','siccd',\n",
    "       'indname','size_class','mve_m','rf','ret','ret_adj','ret_ex','ret_adj_ex',]\n",
    "\n",
    "macro_col = ['RPI', 'W875RX1', 'DPCERA3M086SBEA', 'CMRMTSPLx', 'RETAILx','INDPRO', 'IPFPNSS', 'IPFINAL', 'IPCONGD', 'IPDCONGD', 'IPNCONGD',\n",
    "       'IPBUSEQ', 'IPMAT', 'IPDMAT', 'IPNMAT', 'IPMANSICS', 'IPB51222S','IPFUELS', 'CUMFNS', 'HWI', 'HWIURATIO', 'CLF16OV', 'CE16OV',\n",
    "       'UNRATE', 'UEMPMEAN', 'UEMPLT5', 'UEMP5TO14', 'UEMP15OV','UEMP15T26', 'UEMP27OV', 'CLAIMSx', 'PAYEMS', 'USGOOD',\n",
    "       'CES1021000001', 'USCONS', 'MANEMP', 'DMANEMP', 'NDMANEMP','SRVPRD', 'USTPU', 'USWTRADE', 'USTRADE', 'USFIRE', 'USGOVT',\n",
    "       'CES0600000007', 'AWOTMAN', 'AWHMAN', 'HOUST', 'HOUSTNE','HOUSTMW', 'HOUSTS', 'HOUSTW', 'PERMIT', 'PERMITNE', 'PERMITMW',\n",
    "       'PERMITS', 'PERMITW', 'AMDMNOx', 'ANDENOx', 'AMDMUOx', 'BUSINVx','ISRATIOx', 'M1SL', 'M2SL', 'M2REAL', 'BOGMBASE', 'TOTRESNS',\n",
    "       'NONBORRES', 'BUSLOANS', 'REALLN', 'NONREVSL', 'CONSPI', 'S&P 500','S&P: indust', 'S&P div yield', 'S&P PE ratio', 'FEDFUNDS',\n",
    "       'CP3Mx', 'TB3MS', 'TB6MS', 'GS1', 'GS5', 'GS10', 'AAA', 'BAA','COMPAPFFx', 'TB3SMFFM', 'TB6SMFFM', 'T1YFFM', 'T5YFFM', 'T10YFFM',\n",
    "       'AAAFFM', 'BAAFFM', 'TWEXAFEGSMTHx', 'EXSZUSx', 'EXJPUSx','EXUSUKx', 'EXCAUSx', 'WPSFD49207', 'WPSFD49502', 'WPSID61',\n",
    "       'WPSID62', 'OILPRICEx', 'PPICMM', 'CPIAUCSL', 'CPIAPPSL','CPITRNSL', 'CPIMEDSL', 'CUSR0000SAC', 'CUSR0000SAD',\n",
    "       'CUSR0000SAS', 'CPIULFSL', 'CUSR0000SA0L2', 'CUSR0000SA0L5','PCEPI', 'DDURRG3M086SBEA', 'DNDGRG3M086SBEA', 'DSERRG3M086SBEA',\n",
    "       'CES0600000008', 'CES2000000008', 'CES3000000008', 'UMCSENTx','DTCOLNVHFNM', 'DTCTHFNM', 'INVEST', 'VIXCLSx', 'dp', 'ep_macro', 'b/m',\n",
    "       'ntis', 'tbl', 'tms', 'dfy', 'svar']\n",
    "\n",
    "macro_core =  ['dp', 'ep_macro', 'b/m','ntis', 'tbl', 'tms', 'dfy', 'svar']\n",
    "\n",
    "def datasplit(df, dataset):\n",
    "    df_train = df[df.index < pd.Period((str(1995)+\"-1\"),freq='M')]\n",
    "    df_val = df[(df.index >= pd.Period((str(1995)+\"-1\"),freq='M')) & (df.index < pd.Period((str(2000)+\"-1\"),freq='M'))]\n",
    "    df_test = df[df.index >= pd.Period((str(2000)+\"-1\"),freq='M')]\n",
    "    if dataset == \"firm\":\n",
    "        X_train = df_train[char_core]\n",
    "        X_val = df_val[char_core]\n",
    "        X_test = df_test[char_core]\n",
    "    elif dataset == 'macro':\n",
    "        X_train = df_train[macro_col]\n",
    "        X_val = df_val[macro_col]\n",
    "        X_test = df_test[macro_col]\n",
    "    elif dataset == \"firm_macro\":\n",
    "        X_train = df_train[char_core+macro_col]\n",
    "        X_val = df_val[char_core+macro_col]\n",
    "        X_test = df_test[char_core+macro_col]\n",
    "    elif dataset == \"firm_macro8\":\n",
    "        X_train = df_train[char_core+macro_core]\n",
    "        X_val = df_val[char_core+macro_core]\n",
    "        X_test = df_test[char_core+macro_core] \n",
    "    y_train = df_train['predicted_return']\n",
    "    y_val = df_val['predicted_return']\n",
    "    y_test = df_test['predicted_return']\n",
    "    return (X_train, y_train, X_val, y_val, X_test, y_test, )"
   ]
  },
  {
   "cell_type": "markdown",
   "metadata": {},
   "source": [
    "## Model 5a: 49 Firm-level + 8 Macroeconomic Variable"
   ]
  },
  {
   "cell_type": "code",
   "execution_count": 28,
   "metadata": {},
   "outputs": [
    {
     "name": "stdout",
     "output_type": "stream",
     "text": [
      "(88347, 57) (88347,) (31851, 57) (31851,) (90007, 57) (90007,)\n"
     ]
    }
   ],
   "source": [
    "X_train, y_train, X_val, y_val, X_test, y_test = datasplit(merged_df, dataset = \"firm_macro8\")\n",
    "print(X_train.shape, y_train.shape, X_val.shape, y_val.shape, X_test.shape, y_test.shape)"
   ]
  },
  {
   "cell_type": "code",
   "execution_count": 29,
   "metadata": {},
   "outputs": [
    {
     "name": "stdout",
     "output_type": "stream",
     "text": [
      "R^2 is -0.03882505278646131\n"
     ]
    },
    {
     "name": "stderr",
     "output_type": "stream",
     "text": [
      "/Users/scarlett_yin/Documents/Upgrade_paper/.venv/lib/python3.11/site-packages/sklearn/base.py:457: UserWarning: X has feature names, but LinearRegression was fitted without feature names\n",
      "  warnings.warn(\n"
     ]
    }
   ],
   "source": [
    "# Linear Model Training \n",
    "x_all = np.concatenate((X_train, X_val))\n",
    "y_all = np.concatenate((y_train, y_val))\n",
    "regr = linear_model.LinearRegression()\n",
    "regr.fit(x_all, y_all)\n",
    "\n",
    "# Print out Predictive R^2\n",
    "y_predict = regr.predict(X_test)\n",
    "y_real = y_test\n",
    "a = np.mean(np.square(y_predict -  y_real))\n",
    "b = np.mean(np.square(y_real))\n",
    "R2 = 1-a/b\n",
    "print(f\"R^2 is {R2}\")\n",
    "\n",
    "yhat_df = pd.DataFrame()\n",
    "yhat_df['OLSa_49_8'] = y_predict\n",
    "path_y = 'predict/'\n",
    "yhat_df.to_pickle(path_y+\"model5a49_8.pkl\")"
   ]
  },
  {
   "cell_type": "markdown",
   "metadata": {},
   "source": [
    "## Model 5b: 49 Firm-level + 134 Macroeconomic Variable "
   ]
  },
  {
   "cell_type": "code",
   "execution_count": 30,
   "metadata": {},
   "outputs": [
    {
     "name": "stdout",
     "output_type": "stream",
     "text": [
      "(88347, 183) (88347,) (31851, 183) (31851,) (90007, 183) (90007,)\n"
     ]
    }
   ],
   "source": [
    "X_train, y_train, X_val, y_val, X_test, y_test = datasplit(merged_df, dataset = \"firm_macro\")\n",
    "print(X_train.shape, y_train.shape, X_val.shape, y_val.shape, X_test.shape, y_test.shape)"
   ]
  },
  {
   "cell_type": "code",
   "execution_count": 31,
   "metadata": {},
   "outputs": [
    {
     "name": "stdout",
     "output_type": "stream",
     "text": [
      "R^2 is -31.322320470978866\n"
     ]
    },
    {
     "name": "stderr",
     "output_type": "stream",
     "text": [
      "/Users/scarlett_yin/Documents/Upgrade_paper/.venv/lib/python3.11/site-packages/sklearn/base.py:457: UserWarning: X has feature names, but LinearRegression was fitted without feature names\n",
      "  warnings.warn(\n"
     ]
    }
   ],
   "source": [
    "# Linear Model Training \n",
    "x_all = np.concatenate((X_train, X_val))\n",
    "y_all = np.concatenate((y_train, y_val))\n",
    "regr = linear_model.LinearRegression()\n",
    "regr.fit(x_all, y_all)\n",
    "\n",
    "# Print out Predictive R^2\n",
    "y_predict = regr.predict(X_test)\n",
    "y_real = y_test\n",
    "a = np.mean(np.square(y_predict -  y_real))\n",
    "b = np.mean(np.square(y_real))\n",
    "R2 = 1-a/b\n",
    "print(f\"R^2 is {R2}\")\n",
    "\n",
    "yhat_df = pd.DataFrame()\n",
    "yhat_df['OLSa_49_134'] = y_predict\n",
    "path_y = 'predict/'\n",
    "yhat_df.to_pickle(path_y+\"model5b49_134.pkl\")"
   ]
  },
  {
   "cell_type": "markdown",
   "metadata": {},
   "source": [
    "## Model 5c: 49 Firm-level"
   ]
  },
  {
   "cell_type": "code",
   "execution_count": 32,
   "metadata": {},
   "outputs": [
    {
     "name": "stdout",
     "output_type": "stream",
     "text": [
      "(88347, 49) (88347,) (31851, 49) (31851,) (90007, 49) (90007,)\n"
     ]
    }
   ],
   "source": [
    "X_train, y_train, X_val, y_val, X_test, y_test = datasplit(firm_df, dataset = \"firm\")\n",
    "print(X_train.shape, y_train.shape, X_val.shape, y_val.shape, X_test.shape, y_test.shape)"
   ]
  },
  {
   "cell_type": "code",
   "execution_count": 33,
   "metadata": {},
   "outputs": [
    {
     "name": "stdout",
     "output_type": "stream",
     "text": [
      "R^2 is 0.005432492063096261\n"
     ]
    },
    {
     "name": "stderr",
     "output_type": "stream",
     "text": [
      "/Users/scarlett_yin/Documents/Upgrade_paper/.venv/lib/python3.11/site-packages/sklearn/base.py:457: UserWarning: X has feature names, but LinearRegression was fitted without feature names\n",
      "  warnings.warn(\n"
     ]
    }
   ],
   "source": [
    "# Linear Model Training \n",
    "x_all = np.concatenate((X_train, X_val))\n",
    "y_all = np.concatenate((y_train, y_val))\n",
    "regr = linear_model.LinearRegression()\n",
    "regr.fit(x_all, y_all)\n",
    "\n",
    "# Print out Predictive R^2\n",
    "y_predict = regr.predict(X_test)\n",
    "y_real = y_test\n",
    "a = np.mean(np.square(y_predict -  y_real))\n",
    "b = np.mean(np.square(y_real))\n",
    "R2 = 1-a/b\n",
    "print(f\"R^2 is {R2}\")\n",
    "\n",
    "yhat_df = pd.DataFrame()\n",
    "yhat_df['OLSa_49'] = y_predict\n",
    "path_y = 'predict/'\n",
    "yhat_df.to_pickle(path_y+\"model5c49.pkl\")"
   ]
  },
  {
   "cell_type": "code",
   "execution_count": null,
   "metadata": {},
   "outputs": [],
   "source": []
  },
  {
   "cell_type": "markdown",
   "metadata": {},
   "source": [
    "## Finished "
   ]
  },
  {
   "cell_type": "markdown",
   "metadata": {},
   "source": [
    "X_train, y_train, X_val, y_val, X_test, y_test = datasplit(merged_df, dataset = \"firm_macro\")\n",
    "print(X_train.shape, y_train.shape, X_val.shape, y_val.shape, X_test.shape, y_test.shape)"
   ]
  }
 ],
 "metadata": {
  "kernelspec": {
   "display_name": ".venv",
   "language": "python",
   "name": "python3"
  },
  "language_info": {
   "codemirror_mode": {
    "name": "ipython",
    "version": 3
   },
   "file_extension": ".py",
   "mimetype": "text/x-python",
   "name": "python",
   "nbconvert_exporter": "python",
   "pygments_lexer": "ipython3",
   "version": "3.11.5"
  },
  "orig_nbformat": 4
 },
 "nbformat": 4,
 "nbformat_minor": 2
}
