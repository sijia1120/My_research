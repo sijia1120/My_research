{
 "cells": [
  {
   "cell_type": "code",
   "execution_count": 1,
   "id": "d82a8736",
   "metadata": {},
   "outputs": [
    {
     "name": "stderr",
     "output_type": "stream",
     "text": [
      "2023-08-09 17:20:13.399866: I tensorflow/core/platform/cpu_feature_guard.cc:182] This TensorFlow binary is optimized to use available CPU instructions in performance-critical operations.\n",
      "To enable the following instructions: AVX2 FMA, in other operations, rebuild TensorFlow with the appropriate compiler flags.\n"
     ]
    }
   ],
   "source": [
    "import pandas as pd\n",
    "from keras.models import load_model\n",
    "import tensorflow as tf\n",
    "import numpy as np\n",
    "\n",
    "from sklearn import datasets, linear_model\n",
    "from sklearn.metrics import mean_squared_error"
   ]
  },
  {
   "cell_type": "code",
   "execution_count": 2,
   "id": "88dc24b1",
   "metadata": {},
   "outputs": [
    {
     "name": "stdout",
     "output_type": "stream",
     "text": [
      "49 11\n",
      "(210205, 50) (210205, 2)\n"
     ]
    }
   ],
   "source": [
    "char_core = ['acc','agr','beta','bm','cash','cashpr','cfp','chatoia','chcsho','chfeps','chinv','chmom',\n",
    "             'chpmia','chtx','currat','depr','dy','ear','ep','gma','grcapx','grltnoa','ill','indmom','invest',\n",
    "             'lev','lgr','maxret','mom12m','mom1m','mom36m','mve','nincr','orgcap','pchgm_pchsale','pchsale_pchinvt',\n",
    "             'pchsale_pchrect','pchsale_pchxsga','retvol','roaq','roavol','roeq','salecash','saleinv','sgr','sp',\n",
    "             'std_dolvol','std_turn','turn']\n",
    "\n",
    "core = ['date','permno','ticker','comnam','exchcd','exchname','siccd',\n",
    "        'indname','size_class','mve_m','ret_adj_ex',]\n",
    "\n",
    "#core = ['fyear','year','jyear','permno','ticker','comnam','exchcd','exchname','siccd',\n",
    "#        'indname','size_class','mve_m','rf','ret','ret_adj','ret_ex','ret_adj_ex',]\n",
    "\n",
    "print(len(char_core), len(core))\n",
    "\n",
    "data = pd.read_pickle('norm_df49.pkl')\n",
    "data['date'] = pd.to_datetime(data.index).to_period('M')\n",
    "data.sort_values(by='date', ascending=True, inplace=True)\n",
    "\n",
    "X = data[char_core+['date']]\n",
    "X_info = data[core]\n",
    "Y = data[['predicted_return','date']]\n",
    "print(X.shape, Y.shape)"
   ]
  },
  {
   "cell_type": "code",
   "execution_count": 31,
   "id": "2624f821",
   "metadata": {},
   "outputs": [
    {
     "name": "stdout",
     "output_type": "stream",
     "text": [
      "Total Number of stocks: 607\n",
      "Total Number of Months: 269\n"
     ]
    }
   ],
   "source": [
    "X_info = data[core]\n",
    "x_test_info = X_info[(X_info['date'] >= pd.Period((str(2000)+\"-1\"),freq='M'))]\n",
    "\n",
    "stock_list = x_test_info['permno'].unique()\n",
    "month_list = x_test_info.index.unique()\n",
    "print(f\"Total Number of stocks: {len(stock_list)}\")\n",
    "print(f\"Total Number of Months: {len(month_list)}\")"
   ]
  },
  {
   "cell_type": "code",
   "execution_count": 38,
   "id": "4002ce88",
   "metadata": {
    "scrolled": true
   },
   "outputs": [
    {
     "name": "stdout",
     "output_type": "stream",
     "text": [
      "【Scenario1】MSE of linear Regression: 0.01566968182931832\n",
      "【Scenario1】R^2 of linear Regression: 0.005432492063096261\n"
     ]
    },
    {
     "name": "stderr",
     "output_type": "stream",
     "text": [
      "/var/folders/lj/d6lmnkt148jf782ksr_lmtnm0000gn/T/ipykernel_39313/1143754786.py:34: SettingWithCopyWarning: \n",
      "A value is trying to be set on a copy of a slice from a DataFrame.\n",
      "Try using .loc[row_indexer,col_indexer] = value instead\n",
      "\n",
      "See the caveats in the documentation: https://pandas.pydata.org/pandas-docs/stable/user_guide/indexing.html#returning-a-view-versus-a-copy\n",
      "  x_test_info['yhat_linear_1'] = yhat_linear_1\n",
      "/var/folders/lj/d6lmnkt148jf782ksr_lmtnm0000gn/T/ipykernel_39313/1143754786.py:35: SettingWithCopyWarning: \n",
      "A value is trying to be set on a copy of a slice from a DataFrame.\n",
      "Try using .loc[row_indexer,col_indexer] = value instead\n",
      "\n",
      "See the caveats in the documentation: https://pandas.pydata.org/pandas-docs/stable/user_guide/indexing.html#returning-a-view-versus-a-copy\n",
      "  x_test_info['y_real'] = y_test1.values.reshape(-1)\n"
     ]
    }
   ],
   "source": [
    "######################################\n",
    "### Scenario 1: Linear Regression ####\n",
    "######################################\n",
    "\n",
    "\n",
    "x_train1 = X[(X['date'] < pd.Period((str(2000)+\"-1\"),freq='M'))]\n",
    "y_train1 = Y[(Y['date'] < pd.Period((str(2000)+\"-1\"),freq='M'))]\n",
    "\n",
    "x_test1 = X[(X['date'] >= pd.Period((str(2000)+\"-1\"),freq='M'))]\n",
    "y_test1 = Y[(Y['date'] >= pd.Period((str(2000)+\"-1\"),freq='M'))]\n",
    "\n",
    "x_test1 = x_test1.drop(\"date\", axis=1)\n",
    "y_test1 = y_test1.drop(\"date\", axis=1)\n",
    "\n",
    "x_train1 = x_train1.drop(\"date\", axis=1)\n",
    "y_train1 = y_train1.drop(\"date\", axis=1)\n",
    "\n",
    "# Linear Model Training \n",
    "regr = linear_model.LinearRegression()\n",
    "regr.fit(x_train1, y_train1)\n",
    "yhat_linear_1 = regr.predict(x_test1)\n",
    "\n",
    "# Calculate MSE of Linear Regression \n",
    "mse = mean_squared_error(y_test1, yhat_linear_1)\n",
    "print(f\"【Scenario1】MSE of linear Regression:\",mse)\n",
    "\n",
    "# Calculate R2 of Linear REgression \n",
    "a = np.square(y_test1.values.reshape(-1) - yhat_linear_1.reshape(-1)).sum()\n",
    "b = np.square(y_test1.values.reshape(-1)).sum()\n",
    "1-a/b\n",
    "print(f\"【Scenario1】R^2 of linear Regression:\",1-a/b)\n",
    "\n",
    "# Save y_real, y_hat into DataFrame \n",
    "x_test_info['yhat_linear_1'] = yhat_linear_1\n",
    "x_test_info['y_real'] = y_test1.values.reshape(-1)"
   ]
  },
  {
   "cell_type": "code",
   "execution_count": 62,
   "id": "f33698f0",
   "metadata": {},
   "outputs": [],
   "source": [
    "def metricsEV(month_list, result_df, yhat_name):\n",
    "    \"\"\"\n",
    "    For each month:\n",
    "    1> square errors \n",
    "    2> get mean value \n",
    "    3> average of all months \n",
    "    \"\"\"\n",
    "    r2_stock = {}\n",
    "    num_ = []\n",
    "    deno_ = []\n",
    "    for i in month_list:\n",
    "        df = result_df[result_df['date'] == str(i)]\n",
    "        #num_stock = df.shape[0]\n",
    "        num = np.mean(np.square(df['y_real'] -  df[yhat_name]))#.sum() / num_stock\n",
    "        deno = np.mean(np.square(df['y_real']))#.sum() /num_stock\n",
    "        num_.append(num)\n",
    "        deno_.append(deno)\n",
    "    return 1 - np.mean(num_) / np.mean(deno_)"
   ]
  },
  {
   "cell_type": "code",
   "execution_count": 74,
   "id": "3666dfbc",
   "metadata": {},
   "outputs": [],
   "source": [
    "def metricsXS_R2_weighted(stock_list, result_df, yhat_name):\n",
    "    \"\"\"\n",
    "    For each stock:\n",
    "    1> square errors \n",
    "    2> get mean value \n",
    "    3> average of all months \n",
    "    \"\"\"\n",
    "    r2_stock = {}\n",
    "    num_ = []\n",
    "    deno_ = []\n",
    "    for i in stock_list:\n",
    "        df = result_df[result_df['permno'] == i]\n",
    "        num_month = df.shape[0]\n",
    "        num = np.square(np.mean(df['y_real'] -  df[yhat_name])) * num_month\n",
    "        deno = np.square(np.mean(df[yhat_name]))  * num_month\n",
    "        num_.append(num)\n",
    "        deno_.append(deno)\n",
    "    return 1 - np.mean(num_) / np.mean(deno_)"
   ]
  },
  {
   "cell_type": "code",
   "execution_count": 81,
   "id": "1260fd4e",
   "metadata": {},
   "outputs": [],
   "source": [
    "def metricsXS_R2_NOweighted(stock_list, result_df, yhat_name):\n",
    "    \"\"\"\n",
    "    For each stock:\n",
    "    1> square errors \n",
    "    2> get mean value \n",
    "    3> average of all months \n",
    "    \"\"\"\n",
    "    r2_stock = {}\n",
    "    num_ = []\n",
    "    deno_ = []\n",
    "    for i in stock_list:\n",
    "        df = result_df[result_df['permno'] == i]\n",
    "        num_month = df.shape[0]\n",
    "        num = np.square(np.mean(df['y_real'] -  df[yhat_name]))\n",
    "        deno = np.square(np.mean(df[yhat_name]))\n",
    "        num_.append(num)\n",
    "        deno_.append(deno)\n",
    "    return 1 - np.mean(num_) / np.mean(deno_)"
   ]
  },
  {
   "cell_type": "code",
   "execution_count": 64,
   "id": "06aa9530",
   "metadata": {},
   "outputs": [
    {
     "name": "stdout",
     "output_type": "stream",
     "text": [
      "【Scenario 1】 EV of Linear Model:  0.005101629835022381\n"
     ]
    }
   ],
   "source": [
    "ev_linear1 = metricsEV(month_list, result_df=x_test_info, yhat_name=\"yhat_linear_1\")\n",
    "print(\"【Scenario 1】 EV of Linear Model: \",ev_linear1)"
   ]
  },
  {
   "cell_type": "code",
   "execution_count": 75,
   "id": "4936c9e9",
   "metadata": {},
   "outputs": [
    {
     "name": "stdout",
     "output_type": "stream",
     "text": [
      "【Scenario 1】XS-R^2 of Linear Regression (weighted): -1.6860012050668498\n"
     ]
    }
   ],
   "source": [
    "xs_R2_weighted_linear1 = metricsXS_R2_weighted(stock_list, result_df=x_test_info, yhat_name=\"yhat_linear_1\")\n",
    "print(f\"【Scenario 1】XS-R^2 of Linear Regression (weighted):\",xs_R2_weighted_linear1)"
   ]
  },
  {
   "cell_type": "code",
   "execution_count": 82,
   "id": "c4f93cbc",
   "metadata": {},
   "outputs": [
    {
     "name": "stdout",
     "output_type": "stream",
     "text": [
      "【Scenario 1】XS-R^2 of Linear Regression (no weighted): -30.426142440845403\n"
     ]
    }
   ],
   "source": [
    "xs_R2_NOweighted_linear1 = metricsXS_R2_NOweighted(stock_list, result_df=x_test_info, yhat_name=\"yhat_linear_1\")\n",
    "print(f\"【Scenario 1】XS-R^2 of Linear Regression (no weighted):\",xs_R2_NOweighted_linear1)"
   ]
  },
  {
   "cell_type": "markdown",
   "id": "1a9047d0",
   "metadata": {},
   "source": [
    "---"
   ]
  },
  {
   "cell_type": "markdown",
   "id": "9a1c3ca4",
   "metadata": {},
   "source": [
    "## Scenario II Linear Regression"
   ]
  },
  {
   "cell_type": "code",
   "execution_count": 83,
   "id": "5b416f59",
   "metadata": {
    "collapsed": true
   },
   "outputs": [
    {
     "name": "stdout",
     "output_type": "stream",
     "text": [
      "Year 2000\n",
      "Year 2001\n",
      "Year 2002\n",
      "Year 2003\n",
      "Year 2004\n",
      "Year 2005\n",
      "Year 2006\n",
      "Year 2007\n",
      "Year 2008\n",
      "Year 2009\n",
      "Year 2010\n",
      "Year 2011\n",
      "Year 2012\n",
      "Year 2013\n",
      "Year 2014\n",
      "Year 2015\n",
      "Year 2016\n",
      "Year 2017\n",
      "Year 2018\n",
      "Year 2019\n",
      "Year 2020\n",
      "Year 2021\n",
      "Year 2022\n"
     ]
    }
   ],
   "source": [
    "# Linear Model of Senario 2\n",
    "y_hat_linear = []\n",
    "mse_linear = []\n",
    "r2_linear = []\n",
    "\n",
    "for i in range(2000, 2023):\n",
    "    print(f\"Year {i}\")\n",
    "    x_train = X[ (X['date'] < pd.Period((str(i)+\"-1\"),freq='M')) ]\n",
    "    y_train = Y[ (Y['date'] < pd.Period((str(i)+\"-1\"),freq='M')) ]\n",
    "\n",
    "    x_test = X[(X['date'] >= pd.Period((str(i)+\"-1\"),freq='M')) & (X['date'] <= pd.Period((str(i)+\"-12\"),freq='M'))]\n",
    "    y_test = Y[(X['date'] >= pd.Period((str(i)+\"-1\"),freq='M')) & (X['date'] <= pd.Period((str(i)+\"-12\"),freq='M'))]\n",
    "\n",
    "    x_train = x_train.drop(\"date\", axis=1)\n",
    "    y_train = y_train.drop(\"date\", axis=1)\n",
    "    x_test = x_test.drop(\"date\", axis=1)\n",
    "    y_test = y_test.drop(\"date\", axis=1)\n",
    "\n",
    "    regr = linear_model.LinearRegression()\n",
    "    regr.fit(x_train, y_train)\n",
    "    y_pred_linear = regr.predict(x_test)\n",
    "    mse = mean_squared_error(y_test, y_pred_linear)\n",
    "    for a in y_pred_linear.reshape(-1):\n",
    "        y_hat_linear.append(a)"
   ]
  },
  {
   "cell_type": "code",
   "execution_count": 89,
   "id": "e3dd293e",
   "metadata": {},
   "outputs": [
    {
     "name": "stderr",
     "output_type": "stream",
     "text": [
      "/var/folders/lj/d6lmnkt148jf782ksr_lmtnm0000gn/T/ipykernel_39313/248754443.py:2: SettingWithCopyWarning: \n",
      "A value is trying to be set on a copy of a slice from a DataFrame.\n",
      "Try using .loc[row_indexer,col_indexer] = value instead\n",
      "\n",
      "See the caveats in the documentation: https://pandas.pydata.org/pandas-docs/stable/user_guide/indexing.html#returning-a-view-versus-a-copy\n",
      "  x_test_info['yhat_linear_2'] = y_hat_linear\n"
     ]
    }
   ],
   "source": [
    "# Save y_real, y_hat into DataFrame \"Scenario II\"\n",
    "x_test_info['yhat_linear_2'] = y_hat_linear"
   ]
  },
  {
   "cell_type": "code",
   "execution_count": 96,
   "id": "802ffcbd",
   "metadata": {},
   "outputs": [
    {
     "name": "stdout",
     "output_type": "stream",
     "text": [
      "【Scenario2】MSE of linear Regression: 0.01566540810352375\n",
      "【Scenario2】R^2 of linear Regression: 0.0057037489309388345\n",
      "【Scenario 2】 EV of Linear Model:  0.005339982538576593\n",
      "【Scenario 2】XS-R^2 of Linear Regression (weighted): -0.9542138628254369\n",
      "【Scenario 2】XS-R^2 of Linear Regression (no weighted): -23.84399135612912\n"
     ]
    }
   ],
   "source": [
    "# Calculate MSE of Linear Regression \n",
    "mse = mean_squared_error(x_test_info['y_real'], x_test_info['yhat_linear_2'])\n",
    "print(f\"【Scenario2】MSE of linear Regression:\",mse)\n",
    "\n",
    "\n",
    "# Calculate R2 of Linear REgression \n",
    "a = np.square(x_test_info['y_real']- x_test_info['yhat_linear_2']).sum()\n",
    "b = np.square(x_test_info['y_real']).sum()\n",
    "1-a/b\n",
    "print(f\"【Scenario2】R^2 of linear Regression:\",1-a/b)\n",
    "\n",
    "\n",
    "# Calculae EV of Linear Regression \n",
    "ev_linear2 = metricsEV(month_list, result_df=x_test_info, yhat_name=\"yhat_linear_2\")\n",
    "print(\"【Scenario 2】 EV of Linear Model: \",ev_linear2)\n",
    "\n",
    "\n",
    "# Calculate XS-R2 (weighted) of Linear Regression \n",
    "xs_R2_weighted_linear2 = metricsXS_R2_weighted(stock_list, result_df=x_test_info, yhat_name=\"yhat_linear_2\")\n",
    "print(f\"【Scenario 2】XS-R^2 of Linear Regression (weighted):\",xs_R2_weighted_linear2)\n",
    "\n",
    "\n",
    "# Calculate XS-R2 (no weighted) of Linear Regression \n",
    "xs_R2_NOweighted_linear2 = metricsXS_R2_NOweighted(stock_list, result_df=x_test_info, yhat_name=\"yhat_linear_2\")\n",
    "print(f\"【Scenario 2】XS-R^2 of Linear Regression (no weighted):\",xs_R2_NOweighted_linear2)"
   ]
  },
  {
   "cell_type": "markdown",
   "id": "685a0a2d",
   "metadata": {},
   "source": [
    "---"
   ]
  },
  {
   "cell_type": "markdown",
   "id": "8aa68160",
   "metadata": {},
   "source": [
    "## Scenario III Linear Regression "
   ]
  },
  {
   "cell_type": "code",
   "execution_count": 126,
   "id": "116e5e8c",
   "metadata": {},
   "outputs": [
    {
     "name": "stderr",
     "output_type": "stream",
     "text": [
      "/var/folders/lj/d6lmnkt148jf782ksr_lmtnm0000gn/T/ipykernel_39313/3647538270.py:30: SettingWithCopyWarning: \n",
      "A value is trying to be set on a copy of a slice from a DataFrame.\n",
      "Try using .loc[row_indexer,col_indexer] = value instead\n",
      "\n",
      "See the caveats in the documentation: https://pandas.pydata.org/pandas-docs/stable/user_guide/indexing.html#returning-a-view-versus-a-copy\n",
      "  x_test_info['yhat_linear_3'] = y_hat_lin\n"
     ]
    }
   ],
   "source": [
    "Y_2 = Y[Y['date'] >= pd.Period((str(1999)+\"-\"+str(12)),freq='M')]\n",
    "X_2 = X[X['date'] >= pd.Period((str(1999)+\"-\"+str(12)),freq='M')]\n",
    "y_hat_lin = [] \n",
    "y_real = []\n",
    "\n",
    "for i in range(len(Y_2['date'].unique())):\n",
    "    train_date = Y_2['date'].unique()[i]\n",
    "    if train_date == pd.Period((str(2022)+\"-\"+str(5)),freq='M'):\n",
    "        break\n",
    "    test_date = Y_2['date'].unique()[i+1]\n",
    "    x_train = X[X[\"date\"] == train_date ]\n",
    "    x_train=x_train.drop(\"date\", axis=1)\n",
    "    y_train = Y[Y[\"date\"] == train_date ]\n",
    "    y_train= y_train.drop(\"date\", axis=1)\n",
    "    x_test = X[X[\"date\"] == test_date ]\n",
    "    x_test=x_test.drop(\"date\", axis=1)\n",
    "    y_test = Y[Y[\"date\"] == test_date ]\n",
    "    y_test=y_test.drop(\"date\", axis=1)\n",
    "    for a in y_test.values.reshape(-1):\n",
    "        y_real.append(a)\n",
    "\n",
    "    regr = linear_model.LinearRegression()\n",
    "    regr.fit(x_train.values, y_train.values)\n",
    "    yhat_lin = regr.predict(x_test.values).reshape(-1)\n",
    "\n",
    "    for c in yhat_lin:\n",
    "        y_hat_lin.append(c)\n",
    "        \n",
    "# Save y_real, y_hat into DataFrame \"Scenario III\"\n",
    "x_test_info['yhat_linear_3'] = y_hat_lin"
   ]
  },
  {
   "cell_type": "code",
   "execution_count": 135,
   "id": "55ba6fe1",
   "metadata": {},
   "outputs": [
    {
     "name": "stdout",
     "output_type": "stream",
     "text": [
      "【Scenario 3】MSE of linear Regression: 0.02179186765218634\n",
      "【Scenario 3】R^2 of linear Regression: -0.3831476439792305\n",
      "【Scenario 3】 EV of Linear Model:  -0.4083205724696244\n",
      "【Scenario 3】XS-R^2 of Linear Regression (weighted): 0.24162446917706693\n",
      "【Scenario 3】XS-R^2 of Linear Regression (no weighted): -1.7757749704850103\n"
     ]
    }
   ],
   "source": [
    "# Calculate MSE of Linear Regression \n",
    "mse = mean_squared_error(x_test_info['y_real'], x_test_info['yhat_linear_3'])\n",
    "print(f\"【Scenario 3】MSE of linear Regression:\",mse)\n",
    "\n",
    "\n",
    "# Calculate R2 of Linear REgression \n",
    "a = np.square(x_test_info['y_real']- x_test_info['yhat_linear_3']).sum()\n",
    "b = np.square(x_test_info['y_real']).sum()\n",
    "1-a/b\n",
    "print(f\"【Scenario 3】R^2 of linear Regression:\",1-a/b)\n",
    "\n",
    "\n",
    "# Calculae EV of Linear Regression \n",
    "ev_linear3 = metricsEV(month_list, result_df=x_test_info, yhat_name=\"yhat_linear_3\")\n",
    "print(\"【Scenario 3】 EV of Linear Model: \",ev_linear3)\n",
    "\n",
    "\n",
    "# Calculate XS-R2 (weighted) of Linear Regression \n",
    "xs_R2_weighted_linear3 = metricsXS_R2_weighted(stock_list, result_df=x_test_info, yhat_name=\"yhat_linear_3\")\n",
    "print(f\"【Scenario 3】XS-R^2 of Linear Regression (weighted):\",xs_R2_weighted_linear3)\n",
    "\n",
    "\n",
    "# Calculate XS-R2 (no weighted) of Linear Regression \n",
    "xs_R2_NOweighted_linear3 = metricsXS_R2_NOweighted(stock_list, result_df=x_test_info, yhat_name=\"yhat_linear_3\")\n",
    "print(f\"【Scenario 3】XS-R^2 of Linear Regression (no weighted):\",xs_R2_NOweighted_linear3)"
   ]
  },
  {
   "cell_type": "markdown",
   "id": "be1890f9",
   "metadata": {},
   "source": [
    "---"
   ]
  },
  {
   "cell_type": "code",
   "execution_count": 137,
   "id": "6eef9310",
   "metadata": {},
   "outputs": [],
   "source": [
    "# Save Three scenarios Linear Regression Result into DataFrame \n",
    "x_test_info.to_pickle(\"x_test_info.pkl\")"
   ]
  },
  {
   "cell_type": "code",
   "execution_count": null,
   "id": "a171a255",
   "metadata": {},
   "outputs": [],
   "source": []
  },
  {
   "cell_type": "code",
   "execution_count": null,
   "id": "d08ce939",
   "metadata": {},
   "outputs": [],
   "source": []
  },
  {
   "cell_type": "code",
   "execution_count": null,
   "id": "45168cf1",
   "metadata": {},
   "outputs": [],
   "source": []
  }
 ],
 "metadata": {
  "kernelspec": {
   "display_name": "Python 3 (ipykernel)",
   "language": "python",
   "name": "python3"
  },
  "language_info": {
   "codemirror_mode": {
    "name": "ipython",
    "version": 3
   },
   "file_extension": ".py",
   "mimetype": "text/x-python",
   "name": "python",
   "nbconvert_exporter": "python",
   "pygments_lexer": "ipython3",
   "version": "3.9.16"
  }
 },
 "nbformat": 4,
 "nbformat_minor": 5
}
